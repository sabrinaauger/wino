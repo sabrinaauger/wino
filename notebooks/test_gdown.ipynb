{
 "cells": [
  {
   "cell_type": "markdown",
   "id": "003e4cea-995d-49df-a47c-250b656e5377",
   "metadata": {},
   "source": [
    "# TESTING GDOWN"
   ]
  },
  {
   "cell_type": "markdown",
   "metadata": {},
   "source": [
    "This notebook is to test out downloading an Excel file from\n",
    "a Google Drive link and ensuring that the content from the\n",
    "file is not corrupted"
   ]
  },
  {
   "cell_type": "code",
   "execution_count": 1,
   "id": "b8768d96-5bd3-4bad-a7b8-4e6138fa7f1b",
   "metadata": {
    "scrolled": true
   },
   "outputs": [
    {
     "name": "stdout",
     "output_type": "stream",
     "text": [
      "Requirement already satisfied: gdown in /home/jackzhong12/.pyenv/versions/3.10.6/envs/wino/lib/python3.10/site-packages (4.7.1)\n",
      "Requirement already satisfied: filelock in /home/jackzhong12/.pyenv/versions/3.10.6/envs/wino/lib/python3.10/site-packages (from gdown) (3.13.1)\n",
      "Requirement already satisfied: requests[socks] in /home/jackzhong12/.pyenv/versions/3.10.6/envs/wino/lib/python3.10/site-packages (from gdown) (2.31.0)\n",
      "Requirement already satisfied: six in /home/jackzhong12/.pyenv/versions/3.10.6/envs/wino/lib/python3.10/site-packages (from gdown) (1.16.0)\n",
      "Requirement already satisfied: tqdm in /home/jackzhong12/.pyenv/versions/3.10.6/envs/wino/lib/python3.10/site-packages (from gdown) (4.66.1)\n",
      "Requirement already satisfied: beautifulsoup4 in /home/jackzhong12/.pyenv/versions/3.10.6/envs/wino/lib/python3.10/site-packages (from gdown) (4.12.2)\n",
      "Requirement already satisfied: soupsieve>1.2 in /home/jackzhong12/.pyenv/versions/3.10.6/envs/wino/lib/python3.10/site-packages (from beautifulsoup4->gdown) (2.5)\n",
      "Requirement already satisfied: charset-normalizer<4,>=2 in /home/jackzhong12/.pyenv/versions/3.10.6/envs/wino/lib/python3.10/site-packages (from requests[socks]->gdown) (3.3.2)\n",
      "Requirement already satisfied: idna<4,>=2.5 in /home/jackzhong12/.pyenv/versions/3.10.6/envs/wino/lib/python3.10/site-packages (from requests[socks]->gdown) (3.4)\n",
      "Requirement already satisfied: urllib3<3,>=1.21.1 in /home/jackzhong12/.pyenv/versions/3.10.6/envs/wino/lib/python3.10/site-packages (from requests[socks]->gdown) (2.1.0)\n",
      "Requirement already satisfied: certifi>=2017.4.17 in /home/jackzhong12/.pyenv/versions/3.10.6/envs/wino/lib/python3.10/site-packages (from requests[socks]->gdown) (2023.7.22)\n",
      "Requirement already satisfied: PySocks!=1.5.7,>=1.5.6 in /home/jackzhong12/.pyenv/versions/3.10.6/envs/wino/lib/python3.10/site-packages (from requests[socks]->gdown) (1.7.1)\n",
      "Requirement already satisfied: openpyxl in /home/jackzhong12/.pyenv/versions/3.10.6/envs/wino/lib/python3.10/site-packages (3.1.2)\n",
      "Requirement already satisfied: et-xmlfile in /home/jackzhong12/.pyenv/versions/3.10.6/envs/wino/lib/python3.10/site-packages (from openpyxl) (1.1.0)\n"
     ]
    }
   ],
   "source": [
    "# Installing GDown to download file straight\n",
    "# from GDrive and openpyxl to read Excel files\n",
    "!pip install gdown\n",
    "!pip install openpyxl\n"
   ]
  },
  {
   "cell_type": "code",
   "execution_count": 2,
   "id": "7ca37e67-12a9-4dc9-9731-961150386a31",
   "metadata": {},
   "outputs": [],
   "source": [
    "# Necessary imports to utilize GDown\n",
    "import pandas as pd\n",
    "import gdown\n"
   ]
  },
  {
   "cell_type": "code",
   "execution_count": 3,
   "id": "e44f1138-475f-4562-9307-01bafc649fb1",
   "metadata": {
    "scrolled": true
   },
   "outputs": [
    {
     "name": "stderr",
     "output_type": "stream",
     "text": [
      "Downloading...\n",
      "From (uriginal): https://drive.google.com/uc?/export=download&id=1W71kTu9b5J8ern7VFQ55ztVcj_OYh4LqPEcVY9p547g\n",
      "From (redirected): https://docs.google.com/spreadsheets/d/1W71kTu9b5J8ern7VFQ55ztVcj_OYh4LqPEcVY9p547g/export?format=xlsx\n",
      "To: /home/jackzhong12/code/sabrinaauger/wino/notebooks/dataset1.xlsx\n",
      "16.2MB [00:01, 14.8MB/s]\n"
     ]
    },
    {
     "data": {
      "text/plain": [
       "'dataset1.xlsx'"
      ]
     },
     "execution_count": 3,
     "metadata": {},
     "output_type": "execute_result"
    }
   ],
   "source": [
    "# We get the link from GDrive where the needed file is located\n",
    "url = \"https://docs.google.com/spreadsheets/d/1W71kTu9b5J8ern7VFQ55ztVcj_OYh4LqPEcVY9p547g/\"\n",
    "\n",
    "# This is neat: it splits the url starting from the second-to-last /\n",
    "# thus resulting in getting only the file_id\n",
    "# Also, this does not take in consideration the last /, but only the content\n",
    "# between both of them\n",
    "file_id = url.split('/')[-2]\n",
    "\n",
    "#This is just the website we need to get to donwload the file we want\n",
    "# Minus the file ID\n",
    "prefix = 'https://drive.google.com/uc?/export=download&id='\n",
    "\n",
    "# This is to set the name of the file we want\n",
    "file_name = \"dataset1.xlsx\"\n",
    "\n",
    "# Using gdown, we download the file from the prefix+file_id and\n",
    "# name the file per what we set\n",
    "gdown.download(prefix+file_id, file_name)\n"
   ]
  },
  {
   "cell_type": "code",
   "execution_count": 7,
   "metadata": {},
   "outputs": [
    {
     "data": {
      "text/plain": [
       "'1W71kTu9b5J8ern7VFQ55ztVcj_OYh4LqPEcVY9p547g'"
      ]
     },
     "execution_count": 7,
     "metadata": {},
     "output_type": "execute_result"
    }
   ],
   "source": [
    "# This cell is just to confirm what url.split did\n",
    "file_id\n"
   ]
  },
  {
   "cell_type": "code",
   "execution_count": 8,
   "id": "89f02f96-fa8e-4183-ba5a-5ffcd7f6c7ec",
   "metadata": {},
   "outputs": [],
   "source": [
    "# And from there, we just read the content and voilà!\n",
    "\n",
    "df = pd.read_excel(file_name)\n",
    "\n",
    "df.head()\n"
   ]
  }
 ],
 "metadata": {
  "kernelspec": {
   "display_name": "Python 3 (ipykernel)",
   "language": "python",
   "name": "python3"
  },
  "language_info": {
   "codemirror_mode": {
    "name": "ipython",
    "version": 3
   },
   "file_extension": ".py",
   "mimetype": "text/x-python",
   "name": "python",
   "nbconvert_exporter": "python",
   "pygments_lexer": "ipython3",
   "version": "3.10.6"
  }
 },
 "nbformat": 4,
 "nbformat_minor": 5
}
