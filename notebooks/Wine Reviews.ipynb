{
 "cells": [
  {
   "cell_type": "markdown",
   "id": "7bf32c6e",
   "metadata": {},
   "source": [
    "# Import the necessaries libraries"
   ]
  },
  {
   "cell_type": "code",
   "execution_count": null,
   "id": "f031d765",
   "metadata": {
    "scrolled": true
   },
   "outputs": [
    {
     "name": "stdout",
     "output_type": "stream",
     "text": [
      "Requirement already satisfied: kaggle in /Users/sabrinaauger/.pyenv/versions/3.10.6/envs/wino/lib/python3.10/site-packages (1.5.16)\n",
      "Requirement already satisfied: six>=1.10 in /Users/sabrinaauger/.pyenv/versions/3.10.6/envs/wino/lib/python3.10/site-packages (from kaggle) (1.16.0)\n",
      "Requirement already satisfied: certifi in /Users/sabrinaauger/.pyenv/versions/3.10.6/envs/wino/lib/python3.10/site-packages (from kaggle) (2023.11.17)\n",
      "Requirement already satisfied: python-dateutil in /Users/sabrinaauger/.pyenv/versions/3.10.6/envs/wino/lib/python3.10/site-packages (from kaggle) (2.8.2)\n",
      "Requirement already satisfied: requests in /Users/sabrinaauger/.pyenv/versions/3.10.6/envs/wino/lib/python3.10/site-packages (from kaggle) (2.31.0)\n",
      "Requirement already satisfied: tqdm in /Users/sabrinaauger/.pyenv/versions/3.10.6/envs/wino/lib/python3.10/site-packages (from kaggle) (4.66.1)\n",
      "Requirement already satisfied: python-slugify in /Users/sabrinaauger/.pyenv/versions/3.10.6/envs/wino/lib/python3.10/site-packages (from kaggle) (8.0.1)\n",
      "Requirement already satisfied: urllib3 in /Users/sabrinaauger/.pyenv/versions/3.10.6/envs/wino/lib/python3.10/site-packages (from kaggle) (2.1.0)\n",
      "Requirement already satisfied: bleach in /Users/sabrinaauger/.pyenv/versions/3.10.6/envs/wino/lib/python3.10/site-packages (from kaggle) (6.1.0)\n",
      "Requirement already satisfied: webencodings in /Users/sabrinaauger/.pyenv/versions/3.10.6/envs/wino/lib/python3.10/site-packages (from bleach->kaggle) (0.5.1)\n",
      "Requirement already satisfied: text-unidecode>=1.3 in /Users/sabrinaauger/.pyenv/versions/3.10.6/envs/wino/lib/python3.10/site-packages (from python-slugify->kaggle) (1.3)\n",
      "Requirement already satisfied: charset-normalizer<4,>=2 in /Users/sabrinaauger/.pyenv/versions/3.10.6/envs/wino/lib/python3.10/site-packages (from requests->kaggle) (3.3.2)\n",
      "Requirement already satisfied: idna<4,>=2.5 in /Users/sabrinaauger/.pyenv/versions/3.10.6/envs/wino/lib/python3.10/site-packages (from requests->kaggle) (3.4)\n",
      "Requirement already satisfied: matplotlib in /Users/sabrinaauger/.pyenv/versions/3.10.6/envs/wino/lib/python3.10/site-packages (3.8.2)\n",
      "Requirement already satisfied: contourpy>=1.0.1 in /Users/sabrinaauger/.pyenv/versions/3.10.6/envs/wino/lib/python3.10/site-packages (from matplotlib) (1.2.0)\n",
      "Requirement already satisfied: cycler>=0.10 in /Users/sabrinaauger/.pyenv/versions/3.10.6/envs/wino/lib/python3.10/site-packages (from matplotlib) (0.12.1)\n",
      "Requirement already satisfied: fonttools>=4.22.0 in /Users/sabrinaauger/.pyenv/versions/3.10.6/envs/wino/lib/python3.10/site-packages (from matplotlib) (4.45.1)\n",
      "Requirement already satisfied: kiwisolver>=1.3.1 in /Users/sabrinaauger/.pyenv/versions/3.10.6/envs/wino/lib/python3.10/site-packages (from matplotlib) (1.4.5)\n",
      "Requirement already satisfied: numpy<2,>=1.21 in /Users/sabrinaauger/.pyenv/versions/3.10.6/envs/wino/lib/python3.10/site-packages (from matplotlib) (1.26.2)\n",
      "Requirement already satisfied: packaging>=20.0 in /Users/sabrinaauger/.pyenv/versions/3.10.6/envs/wino/lib/python3.10/site-packages (from matplotlib) (23.2)\n",
      "Requirement already satisfied: pillow>=8 in /Users/sabrinaauger/.pyenv/versions/3.10.6/envs/wino/lib/python3.10/site-packages (from matplotlib) (10.1.0)\n",
      "Requirement already satisfied: pyparsing>=2.3.1 in /Users/sabrinaauger/.pyenv/versions/3.10.6/envs/wino/lib/python3.10/site-packages (from matplotlib) (3.1.1)\n",
      "Requirement already satisfied: python-dateutil>=2.7 in /Users/sabrinaauger/.pyenv/versions/3.10.6/envs/wino/lib/python3.10/site-packages (from matplotlib) (2.8.2)\n",
      "Requirement already satisfied: six>=1.5 in /Users/sabrinaauger/.pyenv/versions/3.10.6/envs/wino/lib/python3.10/site-packages (from python-dateutil>=2.7->matplotlib) (1.16.0)\n",
      "Requirement already satisfied: spacy in /Users/sabrinaauger/.pyenv/versions/3.10.6/envs/wino/lib/python3.10/site-packages (3.7.2)\n",
      "Requirement already satisfied: spacy-legacy<3.1.0,>=3.0.11 in /Users/sabrinaauger/.pyenv/versions/3.10.6/envs/wino/lib/python3.10/site-packages (from spacy) (3.0.12)\n",
      "Requirement already satisfied: spacy-loggers<2.0.0,>=1.0.0 in /Users/sabrinaauger/.pyenv/versions/3.10.6/envs/wino/lib/python3.10/site-packages (from spacy) (1.0.5)\n",
      "Requirement already satisfied: murmurhash<1.1.0,>=0.28.0 in /Users/sabrinaauger/.pyenv/versions/3.10.6/envs/wino/lib/python3.10/site-packages (from spacy) (1.0.10)\n",
      "Requirement already satisfied: cymem<2.1.0,>=2.0.2 in /Users/sabrinaauger/.pyenv/versions/3.10.6/envs/wino/lib/python3.10/site-packages (from spacy) (2.0.8)\n",
      "Requirement already satisfied: preshed<3.1.0,>=3.0.2 in /Users/sabrinaauger/.pyenv/versions/3.10.6/envs/wino/lib/python3.10/site-packages (from spacy) (3.0.9)\n",
      "Requirement already satisfied: thinc<8.3.0,>=8.1.8 in /Users/sabrinaauger/.pyenv/versions/3.10.6/envs/wino/lib/python3.10/site-packages (from spacy) (8.2.1)\n",
      "Requirement already satisfied: wasabi<1.2.0,>=0.9.1 in /Users/sabrinaauger/.pyenv/versions/3.10.6/envs/wino/lib/python3.10/site-packages (from spacy) (1.1.2)\n",
      "Requirement already satisfied: srsly<3.0.0,>=2.4.3 in /Users/sabrinaauger/.pyenv/versions/3.10.6/envs/wino/lib/python3.10/site-packages (from spacy) (2.4.8)\n",
      "Requirement already satisfied: catalogue<2.1.0,>=2.0.6 in /Users/sabrinaauger/.pyenv/versions/3.10.6/envs/wino/lib/python3.10/site-packages (from spacy) (2.0.10)\n",
      "Requirement already satisfied: weasel<0.4.0,>=0.1.0 in /Users/sabrinaauger/.pyenv/versions/3.10.6/envs/wino/lib/python3.10/site-packages (from spacy) (0.3.4)\n",
      "Requirement already satisfied: typer<0.10.0,>=0.3.0 in /Users/sabrinaauger/.pyenv/versions/3.10.6/envs/wino/lib/python3.10/site-packages (from spacy) (0.9.0)\n",
      "Requirement already satisfied: smart-open<7.0.0,>=5.2.1 in /Users/sabrinaauger/.pyenv/versions/3.10.6/envs/wino/lib/python3.10/site-packages (from spacy) (6.4.0)\n",
      "Requirement already satisfied: tqdm<5.0.0,>=4.38.0 in /Users/sabrinaauger/.pyenv/versions/3.10.6/envs/wino/lib/python3.10/site-packages (from spacy) (4.66.1)\n",
      "Requirement already satisfied: requests<3.0.0,>=2.13.0 in /Users/sabrinaauger/.pyenv/versions/3.10.6/envs/wino/lib/python3.10/site-packages (from spacy) (2.31.0)\n",
      "Requirement already satisfied: pydantic!=1.8,!=1.8.1,<3.0.0,>=1.7.4 in /Users/sabrinaauger/.pyenv/versions/3.10.6/envs/wino/lib/python3.10/site-packages (from spacy) (2.5.2)\n",
      "Requirement already satisfied: jinja2 in /Users/sabrinaauger/.pyenv/versions/3.10.6/envs/wino/lib/python3.10/site-packages (from spacy) (3.1.2)\n",
      "Requirement already satisfied: setuptools in /Users/sabrinaauger/.pyenv/versions/3.10.6/envs/wino/lib/python3.10/site-packages (from spacy) (63.2.0)\n",
      "Requirement already satisfied: packaging>=20.0 in /Users/sabrinaauger/.pyenv/versions/3.10.6/envs/wino/lib/python3.10/site-packages (from spacy) (23.2)\n",
      "Requirement already satisfied: langcodes<4.0.0,>=3.2.0 in /Users/sabrinaauger/.pyenv/versions/3.10.6/envs/wino/lib/python3.10/site-packages (from spacy) (3.3.0)\n",
      "Requirement already satisfied: numpy>=1.19.0 in /Users/sabrinaauger/.pyenv/versions/3.10.6/envs/wino/lib/python3.10/site-packages (from spacy) (1.26.2)\n",
      "Requirement already satisfied: annotated-types>=0.4.0 in /Users/sabrinaauger/.pyenv/versions/3.10.6/envs/wino/lib/python3.10/site-packages (from pydantic!=1.8,!=1.8.1,<3.0.0,>=1.7.4->spacy) (0.6.0)\n",
      "Requirement already satisfied: pydantic-core==2.14.5 in /Users/sabrinaauger/.pyenv/versions/3.10.6/envs/wino/lib/python3.10/site-packages (from pydantic!=1.8,!=1.8.1,<3.0.0,>=1.7.4->spacy) (2.14.5)\n",
      "Requirement already satisfied: typing-extensions>=4.6.1 in /Users/sabrinaauger/.pyenv/versions/3.10.6/envs/wino/lib/python3.10/site-packages (from pydantic!=1.8,!=1.8.1,<3.0.0,>=1.7.4->spacy) (4.8.0)\n",
      "Requirement already satisfied: charset-normalizer<4,>=2 in /Users/sabrinaauger/.pyenv/versions/3.10.6/envs/wino/lib/python3.10/site-packages (from requests<3.0.0,>=2.13.0->spacy) (3.3.2)\n",
      "Requirement already satisfied: idna<4,>=2.5 in /Users/sabrinaauger/.pyenv/versions/3.10.6/envs/wino/lib/python3.10/site-packages (from requests<3.0.0,>=2.13.0->spacy) (3.4)\n",
      "Requirement already satisfied: urllib3<3,>=1.21.1 in /Users/sabrinaauger/.pyenv/versions/3.10.6/envs/wino/lib/python3.10/site-packages (from requests<3.0.0,>=2.13.0->spacy) (2.1.0)\n",
      "Requirement already satisfied: certifi>=2017.4.17 in /Users/sabrinaauger/.pyenv/versions/3.10.6/envs/wino/lib/python3.10/site-packages (from requests<3.0.0,>=2.13.0->spacy) (2023.11.17)\n",
      "Requirement already satisfied: blis<0.8.0,>=0.7.8 in /Users/sabrinaauger/.pyenv/versions/3.10.6/envs/wino/lib/python3.10/site-packages (from thinc<8.3.0,>=8.1.8->spacy) (0.7.11)\n",
      "Requirement already satisfied: confection<1.0.0,>=0.0.1 in /Users/sabrinaauger/.pyenv/versions/3.10.6/envs/wino/lib/python3.10/site-packages (from thinc<8.3.0,>=8.1.8->spacy) (0.1.4)\n",
      "Requirement already satisfied: click<9.0.0,>=7.1.1 in /Users/sabrinaauger/.pyenv/versions/3.10.6/envs/wino/lib/python3.10/site-packages (from typer<0.10.0,>=0.3.0->spacy) (8.1.7)\n",
      "Requirement already satisfied: cloudpathlib<0.17.0,>=0.7.0 in /Users/sabrinaauger/.pyenv/versions/3.10.6/envs/wino/lib/python3.10/site-packages (from weasel<0.4.0,>=0.1.0->spacy) (0.16.0)\n",
      "Requirement already satisfied: MarkupSafe>=2.0 in /Users/sabrinaauger/.pyenv/versions/3.10.6/envs/wino/lib/python3.10/site-packages (from jinja2->spacy) (2.1.3)\n",
      "Collecting en-core-web-md==3.7.1\n",
      "  Downloading https://github.com/explosion/spacy-models/releases/download/en_core_web_md-3.7.1/en_core_web_md-3.7.1-py3-none-any.whl (42.8 MB)\n",
      "\u001b[2K     \u001b[90m━━━━━━━━━━━━━━━━━━━━━━━━━━━━━━━━━━━━━━━━\u001b[0m \u001b[32m42.8/42.8 MB\u001b[0m \u001b[31m21.8 MB/s\u001b[0m eta \u001b[36m0:00:00\u001b[0m00:01\u001b[0m00:01\u001b[0m\n",
      "\u001b[?25hRequirement already satisfied: spacy<3.8.0,>=3.7.2 in /Users/sabrinaauger/.pyenv/versions/3.10.6/envs/wino/lib/python3.10/site-packages (from en-core-web-md==3.7.1) (3.7.2)\n",
      "Requirement already satisfied: spacy-legacy<3.1.0,>=3.0.11 in /Users/sabrinaauger/.pyenv/versions/3.10.6/envs/wino/lib/python3.10/site-packages (from spacy<3.8.0,>=3.7.2->en-core-web-md==3.7.1) (3.0.12)\n",
      "Requirement already satisfied: spacy-loggers<2.0.0,>=1.0.0 in /Users/sabrinaauger/.pyenv/versions/3.10.6/envs/wino/lib/python3.10/site-packages (from spacy<3.8.0,>=3.7.2->en-core-web-md==3.7.1) (1.0.5)\n",
      "Requirement already satisfied: murmurhash<1.1.0,>=0.28.0 in /Users/sabrinaauger/.pyenv/versions/3.10.6/envs/wino/lib/python3.10/site-packages (from spacy<3.8.0,>=3.7.2->en-core-web-md==3.7.1) (1.0.10)\n",
      "Requirement already satisfied: cymem<2.1.0,>=2.0.2 in /Users/sabrinaauger/.pyenv/versions/3.10.6/envs/wino/lib/python3.10/site-packages (from spacy<3.8.0,>=3.7.2->en-core-web-md==3.7.1) (2.0.8)\n",
      "Requirement already satisfied: preshed<3.1.0,>=3.0.2 in /Users/sabrinaauger/.pyenv/versions/3.10.6/envs/wino/lib/python3.10/site-packages (from spacy<3.8.0,>=3.7.2->en-core-web-md==3.7.1) (3.0.9)\n",
      "Requirement already satisfied: thinc<8.3.0,>=8.1.8 in /Users/sabrinaauger/.pyenv/versions/3.10.6/envs/wino/lib/python3.10/site-packages (from spacy<3.8.0,>=3.7.2->en-core-web-md==3.7.1) (8.2.1)\n",
      "Requirement already satisfied: wasabi<1.2.0,>=0.9.1 in /Users/sabrinaauger/.pyenv/versions/3.10.6/envs/wino/lib/python3.10/site-packages (from spacy<3.8.0,>=3.7.2->en-core-web-md==3.7.1) (1.1.2)\n",
      "Requirement already satisfied: srsly<3.0.0,>=2.4.3 in /Users/sabrinaauger/.pyenv/versions/3.10.6/envs/wino/lib/python3.10/site-packages (from spacy<3.8.0,>=3.7.2->en-core-web-md==3.7.1) (2.4.8)\n",
      "Requirement already satisfied: catalogue<2.1.0,>=2.0.6 in /Users/sabrinaauger/.pyenv/versions/3.10.6/envs/wino/lib/python3.10/site-packages (from spacy<3.8.0,>=3.7.2->en-core-web-md==3.7.1) (2.0.10)\n",
      "Requirement already satisfied: weasel<0.4.0,>=0.1.0 in /Users/sabrinaauger/.pyenv/versions/3.10.6/envs/wino/lib/python3.10/site-packages (from spacy<3.8.0,>=3.7.2->en-core-web-md==3.7.1) (0.3.4)\n",
      "Requirement already satisfied: typer<0.10.0,>=0.3.0 in /Users/sabrinaauger/.pyenv/versions/3.10.6/envs/wino/lib/python3.10/site-packages (from spacy<3.8.0,>=3.7.2->en-core-web-md==3.7.1) (0.9.0)\n",
      "Requirement already satisfied: smart-open<7.0.0,>=5.2.1 in /Users/sabrinaauger/.pyenv/versions/3.10.6/envs/wino/lib/python3.10/site-packages (from spacy<3.8.0,>=3.7.2->en-core-web-md==3.7.1) (6.4.0)\n",
      "Requirement already satisfied: tqdm<5.0.0,>=4.38.0 in /Users/sabrinaauger/.pyenv/versions/3.10.6/envs/wino/lib/python3.10/site-packages (from spacy<3.8.0,>=3.7.2->en-core-web-md==3.7.1) (4.66.1)\n",
      "Requirement already satisfied: requests<3.0.0,>=2.13.0 in /Users/sabrinaauger/.pyenv/versions/3.10.6/envs/wino/lib/python3.10/site-packages (from spacy<3.8.0,>=3.7.2->en-core-web-md==3.7.1) (2.31.0)\n",
      "Requirement already satisfied: pydantic!=1.8,!=1.8.1,<3.0.0,>=1.7.4 in /Users/sabrinaauger/.pyenv/versions/3.10.6/envs/wino/lib/python3.10/site-packages (from spacy<3.8.0,>=3.7.2->en-core-web-md==3.7.1) (2.5.2)\n",
      "Requirement already satisfied: jinja2 in /Users/sabrinaauger/.pyenv/versions/3.10.6/envs/wino/lib/python3.10/site-packages (from spacy<3.8.0,>=3.7.2->en-core-web-md==3.7.1) (3.1.2)\n",
      "Requirement already satisfied: setuptools in /Users/sabrinaauger/.pyenv/versions/3.10.6/envs/wino/lib/python3.10/site-packages (from spacy<3.8.0,>=3.7.2->en-core-web-md==3.7.1) (63.2.0)\n",
      "Requirement already satisfied: packaging>=20.0 in /Users/sabrinaauger/.pyenv/versions/3.10.6/envs/wino/lib/python3.10/site-packages (from spacy<3.8.0,>=3.7.2->en-core-web-md==3.7.1) (23.2)\n",
      "Requirement already satisfied: langcodes<4.0.0,>=3.2.0 in /Users/sabrinaauger/.pyenv/versions/3.10.6/envs/wino/lib/python3.10/site-packages (from spacy<3.8.0,>=3.7.2->en-core-web-md==3.7.1) (3.3.0)\n",
      "Requirement already satisfied: numpy>=1.19.0 in /Users/sabrinaauger/.pyenv/versions/3.10.6/envs/wino/lib/python3.10/site-packages (from spacy<3.8.0,>=3.7.2->en-core-web-md==3.7.1) (1.26.2)\n",
      "Requirement already satisfied: annotated-types>=0.4.0 in /Users/sabrinaauger/.pyenv/versions/3.10.6/envs/wino/lib/python3.10/site-packages (from pydantic!=1.8,!=1.8.1,<3.0.0,>=1.7.4->spacy<3.8.0,>=3.7.2->en-core-web-md==3.7.1) (0.6.0)\n",
      "Requirement already satisfied: pydantic-core==2.14.5 in /Users/sabrinaauger/.pyenv/versions/3.10.6/envs/wino/lib/python3.10/site-packages (from pydantic!=1.8,!=1.8.1,<3.0.0,>=1.7.4->spacy<3.8.0,>=3.7.2->en-core-web-md==3.7.1) (2.14.5)\n",
      "Requirement already satisfied: typing-extensions>=4.6.1 in /Users/sabrinaauger/.pyenv/versions/3.10.6/envs/wino/lib/python3.10/site-packages (from pydantic!=1.8,!=1.8.1,<3.0.0,>=1.7.4->spacy<3.8.0,>=3.7.2->en-core-web-md==3.7.1) (4.8.0)\n",
      "Requirement already satisfied: charset-normalizer<4,>=2 in /Users/sabrinaauger/.pyenv/versions/3.10.6/envs/wino/lib/python3.10/site-packages (from requests<3.0.0,>=2.13.0->spacy<3.8.0,>=3.7.2->en-core-web-md==3.7.1) (3.3.2)\n",
      "Requirement already satisfied: idna<4,>=2.5 in /Users/sabrinaauger/.pyenv/versions/3.10.6/envs/wino/lib/python3.10/site-packages (from requests<3.0.0,>=2.13.0->spacy<3.8.0,>=3.7.2->en-core-web-md==3.7.1) (3.4)\n",
      "Requirement already satisfied: urllib3<3,>=1.21.1 in /Users/sabrinaauger/.pyenv/versions/3.10.6/envs/wino/lib/python3.10/site-packages (from requests<3.0.0,>=2.13.0->spacy<3.8.0,>=3.7.2->en-core-web-md==3.7.1) (2.1.0)\n",
      "Requirement already satisfied: certifi>=2017.4.17 in /Users/sabrinaauger/.pyenv/versions/3.10.6/envs/wino/lib/python3.10/site-packages (from requests<3.0.0,>=2.13.0->spacy<3.8.0,>=3.7.2->en-core-web-md==3.7.1) (2023.11.17)\n",
      "Requirement already satisfied: blis<0.8.0,>=0.7.8 in /Users/sabrinaauger/.pyenv/versions/3.10.6/envs/wino/lib/python3.10/site-packages (from thinc<8.3.0,>=8.1.8->spacy<3.8.0,>=3.7.2->en-core-web-md==3.7.1) (0.7.11)\n",
      "Requirement already satisfied: confection<1.0.0,>=0.0.1 in /Users/sabrinaauger/.pyenv/versions/3.10.6/envs/wino/lib/python3.10/site-packages (from thinc<8.3.0,>=8.1.8->spacy<3.8.0,>=3.7.2->en-core-web-md==3.7.1) (0.1.4)\n",
      "Requirement already satisfied: click<9.0.0,>=7.1.1 in /Users/sabrinaauger/.pyenv/versions/3.10.6/envs/wino/lib/python3.10/site-packages (from typer<0.10.0,>=0.3.0->spacy<3.8.0,>=3.7.2->en-core-web-md==3.7.1) (8.1.7)\n",
      "Requirement already satisfied: cloudpathlib<0.17.0,>=0.7.0 in /Users/sabrinaauger/.pyenv/versions/3.10.6/envs/wino/lib/python3.10/site-packages (from weasel<0.4.0,>=0.1.0->spacy<3.8.0,>=3.7.2->en-core-web-md==3.7.1) (0.16.0)\n",
      "Requirement already satisfied: MarkupSafe>=2.0 in /Users/sabrinaauger/.pyenv/versions/3.10.6/envs/wino/lib/python3.10/site-packages (from jinja2->spacy<3.8.0,>=3.7.2->en-core-web-md==3.7.1) (2.1.3)\n",
      "\u001b[38;5;2m✔ Download and installation successful\u001b[0m\n",
      "You can now load the package via spacy.load('en_core_web_md')\n"
     ]
    }
   ],
   "source": [
    "# Verify which python environment we are running the notebook on\n",
    "\n",
    "!pyenv version\n",
    "!pip install kaggle\n",
    "!pip install matplotlib\n",
    "!pip install spacy\n",
    "!python -m spacy download en_core_web_md\n"
   ]
  },
  {
   "cell_type": "code",
   "execution_count": null,
   "id": "3e51490d",
   "metadata": {},
   "outputs": [],
   "source": [
    "#packages import\n",
    "\n",
    "import matplotlib.pyplot as plt\n",
    "import seaborn as sns\n",
    "import pandas as pd\n",
    "import json\n",
    "import re\n",
    "#from kaggle.api.kaggle_api_extended import KaggleApi\n",
    "#import kaggle\n",
    "import os\n",
    "from scipy import stats\n",
    "import re\n",
    "from nltk.tokenize import word_tokenize\n",
    "from nltk.corpus import stopwords\n",
    "from nltk.stem import WordNetLemmatizer\n",
    "import nltk\n",
    "from nltk.tokenize import word_tokenize\n",
    "\n",
    "import spacy\n",
    "os.environ['KAGGLE_USERNAME'] = 'sabrinaauger'\n",
    "os.environ['KAGGLE_KEY'] = '8db79b4ccae98a2c74af940e1f1b7c35'\n",
    "os.getcwd()\n"
   ]
  },
  {
   "cell_type": "code",
   "execution_count": null,
   "id": "937860a4-e53f-4b26-a0a2-1b65f39ddbea",
   "metadata": {},
   "outputs": [],
   "source": [
    "'''\n",
    "Loading Kaggle username and key from user's own .kaggle/kaggle.json\n",
    "\n",
    "def load_kaggle_credentials():\n",
    "    kaggle_creds_path = os.path.expanduser(\"~/.kaggle/kaggle.json\")\n",
    "\n",
    "    if os.path.exists(kaggle_creds_path):\n",
    "        with open(kaggle_creds_path) as f:\n",
    "            kaggle_creds = json.load(f)\n",
    "            return kaggle_creds.get('username'), kaggle_creds.get('key')\n",
    "\n",
    "    return None, None\n",
    "\n",
    "Load Kaggle credentials\n",
    "kaggle_username, kaggle_key = load_kaggle_credentials()\n",
    "\n",
    "Authenticate with Kaggle API\n",
    "api = KaggleApi()\n",
    "api.authenticate()\n",
    "\n",
    "#REMOVE AFTER TESTING: Print Kaggle username for testing\n",
    "print(f\"Authenticated as: {kaggle_username}\")\n",
    "'''\n"
   ]
  },
  {
   "cell_type": "markdown",
   "id": "678660e6",
   "metadata": {},
   "source": [
    "## Import the dataset from Kaggle"
   ]
  },
  {
   "cell_type": "code",
   "execution_count": null,
   "id": "a203919b",
   "metadata": {
    "scrolled": true
   },
   "outputs": [],
   "source": [
    "#Retrieve the data from Kaggle platform\n",
    "!kaggle datasets download -d zynicide/wine-reviews\n"
   ]
  },
  {
   "cell_type": "code",
   "execution_count": null,
   "id": "8a3b303b",
   "metadata": {},
   "outputs": [],
   "source": [
    "#Unzip the data zip file\n",
    "#!unzip wine-reviews.zip\n"
   ]
  },
  {
   "cell_type": "code",
   "execution_count": null,
   "id": "9ec263ba",
   "metadata": {},
   "outputs": [],
   "source": [
    "#Retrieve the data from csv unzipped files into two dataframes\n",
    "wine1_df=pd.read_csv(\"~/code/sabrinaauger/wino/data/raw_data/winemag-data-130k-v2.csv\")\n"
   ]
  },
  {
   "cell_type": "code",
   "execution_count": null,
   "id": "98563707",
   "metadata": {},
   "outputs": [],
   "source": [
    "wine2_df=pd.read_csv(\"~/code/sabrinaauger/wino/data/raw_data/winemag-data_first150k.csv\")\n"
   ]
  },
  {
   "cell_type": "markdown",
   "id": "9fc7d120",
   "metadata": {},
   "source": [
    "\n",
    "\n"
   ]
  },
  {
   "cell_type": "markdown",
   "id": "79acd551",
   "metadata": {},
   "source": [
    "# Data vizualisation"
   ]
  },
  {
   "cell_type": "code",
   "execution_count": null,
   "id": "309e9cb3",
   "metadata": {
    "scrolled": true
   },
   "outputs": [],
   "source": [
    "#Columns overview of both datasets\n",
    "wine1_df.columns, wine2_df.columns\n"
   ]
  },
  {
   "cell_type": "code",
   "execution_count": null,
   "id": "50a01096",
   "metadata": {
    "scrolled": true
   },
   "outputs": [],
   "source": [
    "#Analysing the variety column and the unique value\n",
    "wine1_df['variety'].unique()\n"
   ]
  },
  {
   "cell_type": "code",
   "execution_count": null,
   "id": "46fbf56e",
   "metadata": {},
   "outputs": [],
   "source": [
    "# Looking at the description of 1 specific wine\n",
    "index_of_record_to_view = 3\n",
    "des = wine2_df.loc[index_of_record_to_view, 'description']\n",
    "des\n"
   ]
  },
  {
   "cell_type": "code",
   "execution_count": null,
   "id": "ff53ce28",
   "metadata": {},
   "outputs": [],
   "source": [
    "wine1_df.shape, wine2_df.shape\n"
   ]
  },
  {
   "cell_type": "markdown",
   "id": "54e95e0a",
   "metadata": {},
   "source": [
    "# Preprocessing the data "
   ]
  },
  {
   "cell_type": "markdown",
   "id": "df8a4f89",
   "metadata": {},
   "source": [
    "## Cleaning wine1_df and wine2_df dataset "
   ]
  },
  {
   "cell_type": "markdown",
   "id": "a3261685",
   "metadata": {},
   "source": [
    "### Removing Unuseful columns for the recommendation system"
   ]
  },
  {
   "cell_type": "code",
   "execution_count": null,
   "id": "298a2828",
   "metadata": {},
   "outputs": [],
   "source": [
    "#Remove both columns taster name and taster twitter_handle as they are not relevant for our analysis\n",
    "wine_review1_df=wine1_df.drop(columns=[\"taster_twitter_handle\",\"taster_name\",\"Unnamed: 0\"])\n",
    "wine_review2_df=wine2_df.drop(columns=[\"Unnamed: 0\"])\n",
    "#wine_review2_df.head()\n"
   ]
  },
  {
   "cell_type": "code",
   "execution_count": null,
   "id": "25f37794",
   "metadata": {
    "scrolled": true
   },
   "outputs": [],
   "source": [
    "#Extracting the year from the column title in wine1_df\n",
    "\n",
    "# Extract the year from title into a dedicated column using regular expression\n",
    "#regular instruction (\\d{4}) simply looks for four consecutive digits in the strings\n",
    "wine_review1_df['Year']=wine_review1_df['title'].str.extract(r'(\\d{4})')\n",
    "\n",
    "missing_year=wine_review1_df['Year'].isna().sum()\n",
    "print(f'Missing data in year variable : {missing_year} - Decision taken: not adding this additional variable')\n",
    "wine_review1_df.drop(columns='Year', inplace=True)\n"
   ]
  },
  {
   "cell_type": "markdown",
   "id": "1a8a0779",
   "metadata": {},
   "source": [
    "### Duplicates"
   ]
  },
  {
   "cell_type": "code",
   "execution_count": null,
   "id": "2fd1af04",
   "metadata": {
    "scrolled": true
   },
   "outputs": [],
   "source": [
    "#checking if there is any overall duplicates in both datasets\n",
    "print(wine_review1_df.duplicated().sum())\n",
    "print(wine_review2_df.duplicated().sum())\n"
   ]
  },
  {
   "cell_type": "code",
   "execution_count": null,
   "id": "fcbeab99",
   "metadata": {},
   "outputs": [],
   "source": [
    "### Checking the duplicates\n",
    "duplicates=wine_review1_df[wine_review1_df.duplicated(subset=('title'))]\n",
    "duplicates_sorted = duplicates.sort_values(by=['title'])\n",
    "#duplicates_sorted\n",
    "#should not be considered as duplicates - cleaning the data first\n",
    "\n",
    "\n",
    "duplicates2=wine_review2_df[wine_review2_df.duplicated(subset=('designation'))]\n",
    "duplicates_sorted2 = duplicates.sort_values(by=['title'])\n",
    "#duplicates_sorted\n",
    "#need to clean the data to interpretate the duplicates\n"
   ]
  },
  {
   "cell_type": "code",
   "execution_count": null,
   "id": "deed853f-6cc7-49b4-9763-9c8b1bd3fad5",
   "metadata": {},
   "outputs": [],
   "source": [
    "wine_review2_df.shape"
   ]
  },
  {
   "cell_type": "code",
   "execution_count": null,
   "id": "104c615e-7275-4810-a06e-da9cd70f35f9",
   "metadata": {},
   "outputs": [],
   "source": [
    "wine_review1_df.drop_duplicates(inplace=True)\n",
    "wine_review2_df.drop_duplicates(inplace=True)"
   ]
  },
  {
   "cell_type": "code",
   "execution_count": null,
   "id": "7c99f5fe-d4a4-4eae-b79f-bec0c40f2c4a",
   "metadata": {},
   "outputs": [],
   "source": [
    "print(wine_review1_df.duplicated().sum())\n",
    "print(wine_review2_df.duplicated().sum())"
   ]
  },
  {
   "cell_type": "markdown",
   "id": "d5f579cf",
   "metadata": {},
   "source": [
    "### Missing data "
   ]
  },
  {
   "cell_type": "code",
   "execution_count": null,
   "id": "0cc1e62f",
   "metadata": {},
   "outputs": [],
   "source": [
    "#Overall missing data in wine_review1_df dataset\n",
    "wine_review1_df.isna().sum(),wine_review2_df.isna().sum()\n"
   ]
  },
  {
   "cell_type": "markdown",
   "id": "cb408cf1",
   "metadata": {},
   "source": [
    "#### Variety variable \n",
    "- Removed the only instance with missing variety in wine_review1"
   ]
  },
  {
   "cell_type": "code",
   "execution_count": null,
   "id": "0fdc5b7b",
   "metadata": {},
   "outputs": [],
   "source": [
    "#Variety missing data\n",
    "wine_review1_df[wine_review1_df['variety'].isna()]\n",
    "#Only one record is missing in wine_review1_df and most of the data for this wine is missing - Decided to remove the record\n",
    "wine_review1_df = wine_review1_df.dropna(subset=['variety'])\n"
   ]
  },
  {
   "cell_type": "markdown",
   "id": "7bb3acbe",
   "metadata": {},
   "source": [
    "#### Designation variable"
   ]
  },
  {
   "cell_type": "code",
   "execution_count": null,
   "id": "edbcac53",
   "metadata": {},
   "outputs": [],
   "source": [
    "m1=wine_review1_df['designation'].isna().sum()\n",
    "m2=wine_review2_df['designation'].isna().sum()\n",
    "print(f'Designation missing in wine_review1_df:{m1},in wine_review2_df:{m2}')\n"
   ]
  },
  {
   "cell_type": "markdown",
   "id": "1dc6b81e",
   "metadata": {},
   "source": [
    "##### Wine_review1_df"
   ]
  },
  {
   "cell_type": "code",
   "execution_count": null,
   "id": "eb2bb3ee",
   "metadata": {},
   "outputs": [],
   "source": [
    "#Filling the missing designation using title variable(not displayed in the wine_review2_df dataset)\n",
    "\n",
    "wine_review1_df['designation'].fillna(wine_review1_df['title'], inplace=True)\n",
    "def remove_year(designation):\n",
    "    pattern = r'\\b\\d{4}\\b'  # Regex pattern to match four-digit year\n",
    "    return re.sub(pattern, '', designation).strip()\n",
    "\n",
    "# Remove year from 'Designation' column\n",
    "wine_review1_df['designation'] = wine_review1_df['designation'].apply(remove_year)\n",
    "\n",
    "#Dealing with the parentheses values in designation\n",
    "def remove_parentheses_text(designation):\n",
    "    pattern = r'\\s*\\([^)]*\\)'  # Regex pattern to match text within parentheses\n",
    "    return re.sub(pattern, '', designation).strip()\n",
    "\n",
    "# Remove text within parentheses from 'Designation' column\n",
    "wine_review1_df['designation'] = wine_review1_df['designation'].apply(remove_parentheses_text)\n"
   ]
  },
  {
   "cell_type": "markdown",
   "id": "586560a1",
   "metadata": {},
   "source": [
    "##### Wine_review2_df"
   ]
  },
  {
   "cell_type": "code",
   "execution_count": null,
   "id": "e8fe9c74",
   "metadata": {},
   "outputs": [],
   "source": [
    "#As no title provide the designation of the wine the missing designation in wine_review2_df must be dropped\n",
    "wine_review2_df.dropna(subset='designation', inplace=True)\n"
   ]
  },
  {
   "cell_type": "code",
   "execution_count": null,
   "id": "68134b59",
   "metadata": {},
   "outputs": [],
   "source": [
    "wine_review1_df.isna().sum()\n"
   ]
  },
  {
   "cell_type": "markdown",
   "id": "1b4b0e95",
   "metadata": {},
   "source": [
    "#### Region variable\n",
    "Analysing the region_1 and region_2 variables and missing data:"
   ]
  },
  {
   "cell_type": "markdown",
   "id": "904139f7",
   "metadata": {},
   "source": [
    "##### Wine_review1_df"
   ]
  },
  {
   "cell_type": "code",
   "execution_count": null,
   "id": "97b47316",
   "metadata": {},
   "outputs": [],
   "source": [
    "#Analysing the region_1 and region_2 variables\n",
    "#1st strategy: region_1 and region_2 Filling the missing data in region_1 with region_2 when applicable\n",
    "wine_review1_df['region_1'].fillna(wine_review1_df['region_2'], inplace=True)\n",
    "wine_review1_df['region_1'].isna().sum()\n"
   ]
  },
  {
   "cell_type": "code",
   "execution_count": null,
   "id": "0a41dfec",
   "metadata": {},
   "outputs": [],
   "source": [
    "#Removing the region_2 column from the dataset\n",
    "wine_review1_df.drop(columns='region_2', inplace=True)\n"
   ]
  },
  {
   "cell_type": "code",
   "execution_count": null,
   "id": "c3dfe36b",
   "metadata": {},
   "outputs": [],
   "source": [
    "wine_review1_df.isna().sum()\n"
   ]
  },
  {
   "cell_type": "markdown",
   "id": "0b180ea8-ae95-498a-89b8-9183dda187f8",
   "metadata": {},
   "source": [
    "#### Title column "
   ]
  },
  {
   "cell_type": "code",
   "execution_count": null,
   "id": "cbf7d89d",
   "metadata": {},
   "outputs": [],
   "source": [
    "#import re #import re module for regular expressions in the Import section\n",
    "#filling the missing region with the region displayed in the title\n",
    "\n",
    "#Function to extract the content within parentheses from title column\n",
    "def extract(s):\n",
    "    if isinstance(s, str):\n",
    "        extracted = re.search(r'\\((.*?)\\)', s)\n",
    "        if extracted:\n",
    "            return extracted.group(1)\n",
    "    return None\n",
    "wine_review1_df['region_1'].fillna(wine_review1_df['title'].apply(extract), inplace=True)\n",
    "\n",
    "wine_review1_df[wine_review1_df['region_1'].isna()]\n",
    "\n",
    "#412 instances don't have a region displayed but have other useful data available\n"
   ]
  },
  {
   "cell_type": "markdown",
   "id": "5b4dfac7",
   "metadata": {},
   "source": [
    "- Filling the missing region_1 data when applicable using title"
   ]
  },
  {
   "cell_type": "code",
   "execution_count": null,
   "id": "50544914",
   "metadata": {
    "scrolled": true
   },
   "outputs": [],
   "source": [
    "#Trying to fill the missing province with the title information\n",
    "\n",
    "def extract_province_from_title(title):\n",
    "    pattern = r'\\((.*?)\\)'  # Regex pattern to match text within parentheses\n",
    "    match = re.search(pattern, title)\n",
    "    if match:\n",
    "        return match.group(1)\n",
    "    else:\n",
    "        return None\n",
    "\n",
    "# Extract province from 'Title' column\n",
    "wine_review1_df['extracted_Province'] = wine_review1_df['title'].apply(extract_province_from_title)\n",
    "\n",
    "# Fill missing 'Province' values with extracted province information\n",
    "wine_review1_df['province'].fillna(wine_review1_df['extracted_Province'], inplace=True)\n",
    "wine_review1_df.drop(columns=['extracted_Province'], inplace=True)\n",
    "\n",
    "\n",
    "#checking the data that have both missing province and region\n",
    "check = wine_review1_df['region_1'].isnull() & wine_review1_df['province'].isnull()\n",
    "# Filter the DataFrame based on the condition\n",
    "rows_missing_region_province = wine_review1_df[check]\n",
    "#rows_missing_region_province\n",
    "\n",
    "wine_review1_df['region_1'].fillna(wine_review1_df['province'], inplace=True)\n"
   ]
  },
  {
   "cell_type": "code",
   "execution_count": null,
   "id": "3775dd28",
   "metadata": {},
   "outputs": [],
   "source": [
    "wine_review1_df['region_1'].isna().sum()\n"
   ]
  },
  {
   "cell_type": "code",
   "execution_count": null,
   "id": "00bdf60a",
   "metadata": {},
   "outputs": [],
   "source": [
    "#wine_review1_df[wine_review1_df['region_1'].isna()]\n",
    "#dropping the 63 remaining instances that don't have country , province and region filled\n",
    "wine_review1_df.dropna(subset='region_1', inplace=True)\n"
   ]
  },
  {
   "cell_type": "markdown",
   "id": "c76ee500",
   "metadata": {},
   "source": [
    "##### Wine_review2_df"
   ]
  },
  {
   "cell_type": "code",
   "execution_count": null,
   "id": "4f1eb914",
   "metadata": {
    "heading_collapsed": true
   },
   "outputs": [],
   "source": [
    "#Analysing the region_1 and region_2 variables\n",
    "#1st strategy: region_1 and region_2 Filling the missing data in region_1 with region_2 when applicable\n",
    "wine_review2_df['region_1'].fillna(wine_review2_df['region_2'], inplace=True)\n",
    "wine_review2_df['region_1'].isna().sum()\n"
   ]
  },
  {
   "cell_type": "code",
   "execution_count": null,
   "id": "6f05036f",
   "metadata": {},
   "outputs": [],
   "source": [
    "#Removing the region_2 column from the dataset\n",
    "wine_review2_df.drop(columns='region_2', inplace=True)\n"
   ]
  },
  {
   "cell_type": "code",
   "execution_count": null,
   "id": "dfe44395",
   "metadata": {},
   "outputs": [],
   "source": [
    "\n",
    "wine_review2_df['region_1'].fillna(wine_review2_df['province'], inplace=True)\n",
    "wine_review2_df[wine_review2_df['region_1'].isna()]\n",
    "wine_review2_df.dropna(subset='region_1', inplace=True)\n"
   ]
  },
  {
   "cell_type": "markdown",
   "id": "9a0ea4af",
   "metadata": {},
   "source": [
    "#### Province variable"
   ]
  },
  {
   "cell_type": "markdown",
   "id": "67fb296d",
   "metadata": {},
   "source": [
    "##### Wine_review1_df"
   ]
  },
  {
   "cell_type": "code",
   "execution_count": null,
   "id": "887e7507",
   "metadata": {},
   "outputs": [],
   "source": [
    "#Displaying the missing data\n",
    "wine_review1_df[wine_review1_df['province'].isna()]\n",
    "#wine_review1_df.shape[0]\n"
   ]
  },
  {
   "cell_type": "code",
   "execution_count": null,
   "id": "d93b85a9",
   "metadata": {},
   "outputs": [],
   "source": []
  },
  {
   "cell_type": "code",
   "execution_count": null,
   "id": "51df4214",
   "metadata": {
    "scrolled": true
   },
   "outputs": [],
   "source": [
    "wine_review1_df.isna().sum()\n"
   ]
  },
  {
   "cell_type": "markdown",
   "id": "fddeb35e-a372-4a9b-a0bd-79d77bbc2290",
   "metadata": {},
   "source": [
    "##### Wine_review2_df"
   ]
  },
  {
   "cell_type": "code",
   "execution_count": null,
   "id": "609d0927",
   "metadata": {},
   "outputs": [],
   "source": [
    "wine_review2_df.isna().sum()\n"
   ]
  },
  {
   "cell_type": "markdown",
   "id": "a778bd43",
   "metadata": {},
   "source": [
    "#### Price variable\n",
    "Decision taken : Missing price filled with mean price of wines with same variety"
   ]
  },
  {
   "cell_type": "markdown",
   "id": "012cf9c0",
   "metadata": {},
   "source": [
    "##### Wine_review1_df"
   ]
  },
  {
   "cell_type": "code",
   "execution_count": null,
   "id": "9c47f52f",
   "metadata": {},
   "outputs": [],
   "source": [
    "#Frequency of each unique variety\n",
    "wine_variety=pd.DataFrame(wine_review1_df['variety'].value_counts())\n",
    "\n",
    "#Calculating the mean price per variety\n",
    "mean_price_per_variety=pd.DataFrame(wine_review1_df.groupby('variety')['price'].mean())\n",
    "mean_price_per_variety\n",
    "\n",
    "#Replacing the missing price with mean price of same variety of wine when applicable\n",
    "\n",
    "wine_review1_df = pd.merge(wine_review1_df, mean_price_per_variety, on='variety', how='left',suffixes=('', '_mean'))\n",
    "wine_review1_df['price'] = wine_review1_df.apply(lambda row: row['price_mean'] if pd.isnull(row['price']) else row['price'], axis=1)\n"
   ]
  },
  {
   "cell_type": "code",
   "execution_count": null,
   "id": "07947c31",
   "metadata": {},
   "outputs": [],
   "source": [
    "#Dropping the mean_price created column to fill the NA price\n",
    "wine_review1_df=wine_review1_df.drop(columns=['price_mean'])\n"
   ]
  },
  {
   "cell_type": "code",
   "execution_count": null,
   "id": "ac593a19",
   "metadata": {},
   "outputs": [],
   "source": [
    "#Round up the wine price\n",
    "wine_review1_df['price']=wine_review1_df['price'].round(2)\n"
   ]
  },
  {
   "cell_type": "code",
   "execution_count": null,
   "id": "72e0973b",
   "metadata": {},
   "outputs": [],
   "source": [
    "#Dropping the last missing data if any\n",
    "wine_review1_df.isna().sum()\n",
    "wine_review1_df=wine_review1_df.dropna()\n"
   ]
  },
  {
   "cell_type": "markdown",
   "id": "76fb35a3",
   "metadata": {},
   "source": [
    "##### Wine_review2_df"
   ]
  },
  {
   "cell_type": "code",
   "execution_count": null,
   "id": "5db59342",
   "metadata": {},
   "outputs": [],
   "source": [
    "#Frequency of each unique variety\n",
    "wine_variety=pd.DataFrame(wine_review2_df['variety'].value_counts())\n",
    "\n",
    "#Calculating the mean price per variety\n",
    "mean_price_per_variety=pd.DataFrame(wine_review2_df.groupby('variety')['price'].mean())\n",
    "#mean_price_per_variety\n",
    "\n",
    "#Replacing the missing price with mean price of same variety of wine when applicable\n",
    "\n",
    "wine_review2_df = pd.merge(wine_review1_df, mean_price_per_variety, on='variety', how='left',suffixes=('', '_mean'))\n",
    "wine_review2_df['price'] = wine_review1_df.apply(lambda row: row['price_mean'] if pd.isnull(row['price']) else row['price'], axis=1)\n"
   ]
  },
  {
   "cell_type": "code",
   "execution_count": null,
   "id": "83831229",
   "metadata": {},
   "outputs": [],
   "source": [
    "wine_review2_df=wine_review2_df.drop(columns=['price_mean'])\n"
   ]
  },
  {
   "cell_type": "code",
   "execution_count": null,
   "id": "81030e92",
   "metadata": {},
   "outputs": [],
   "source": [
    "wine_review2_df['price']=wine_review2_df['price'].round(2)\n"
   ]
  },
  {
   "cell_type": "code",
   "execution_count": null,
   "id": "dccd735e",
   "metadata": {},
   "outputs": [],
   "source": [
    "wine_review2_df=wine_review2_df.dropna()\n",
    "wine_review2_df.isna().sum()\n"
   ]
  },
  {
   "cell_type": "code",
   "execution_count": null,
   "id": "d64696cd-76ee-4e60-9b95-19bb0a28017a",
   "metadata": {},
   "outputs": [],
   "source": [
    "wine_review1_df.columns, wine_review2_df.columns\n"
   ]
  },
  {
   "cell_type": "markdown",
   "id": "da6a0c0c-4d51-45f2-953e-7cfb4a467e73",
   "metadata": {},
   "source": [
    "### Merging both datasets"
   ]
  },
  {
   "cell_type": "code",
   "execution_count": null,
   "id": "c3c25510-c4c4-486d-8035-b8d569d2246b",
   "metadata": {},
   "outputs": [],
   "source": [
    "wine_review1_df.isna().sum(), wine_review2_df.isna().sum()\n"
   ]
  },
  {
   "cell_type": "code",
   "execution_count": null,
   "id": "d81c5e8d-04d4-47c8-a6f2-226b50fb5afc",
   "metadata": {},
   "outputs": [],
   "source": [
    "wine_reviews_df=pd.concat([wine_review1_df, wine_review2_df])\n"
   ]
  },
  {
   "cell_type": "code",
   "execution_count": null,
   "id": "8f732e75-c492-4044-99e3-3adfe647063f",
   "metadata": {},
   "outputs": [],
   "source": [
    "wine_reviews_df.shape\n"
   ]
  },
  {
   "cell_type": "code",
   "execution_count": null,
   "id": "115500bc-a05c-45aa-b62c-6cf073c636a2",
   "metadata": {},
   "outputs": [],
   "source": [
    "wine_reviews_df.isna().sum()\n",
    "#wine_reviews_df.head()\n"
   ]
  },
  {
   "cell_type": "markdown",
   "id": "a0819207-b05b-495a-b4bc-5b2eb3ad70e7",
   "metadata": {},
   "source": [
    "###  Outliers and anomalies on merged dataset\n",
    "\n"
   ]
  },
  {
   "cell_type": "markdown",
   "id": "7c86c13f-fa8e-4c93-8d28-82325dae3f9f",
   "metadata": {},
   "source": [
    "#### Numerical data : Identifying outliers \n",
    "- if >480k euros => most expensive bottle in the world\n",
    "- if >100 for score"
   ]
  },
  {
   "cell_type": "code",
   "execution_count": null,
   "id": "1e955a3a-3426-4499-8c84-326cab2c328f",
   "metadata": {},
   "outputs": [],
   "source": [
    "#Selecting the numerical data\n",
    "numerical_columns = wine_reviews_df.select_dtypes(include=['float64', 'int64']).columns\n",
    "numerical_columns\n"
   ]
  },
  {
   "cell_type": "code",
   "execution_count": null,
   "id": "2493f60a-fa46-4170-9802-49d30500c234",
   "metadata": {},
   "outputs": [],
   "source": [
    "# Finding outliers\n",
    "threshold_point=100\n",
    "threshold_price=480000\n",
    "outliers_point = wine_reviews_df[(abs(wine_reviews_df['points']) > threshold_point)]\n",
    "outliers_price = wine_reviews_df[(abs(wine_reviews_df['price'])> threshold_price)]\n"
   ]
  },
  {
   "cell_type": "code",
   "execution_count": null,
   "id": "377492ce-9f31-4aeb-be49-3350e9bc309f",
   "metadata": {},
   "outputs": [],
   "source": [
    "#Displaying the outliers\n",
    "outliers_point\n",
    "outliers_price\n",
    "#No price or points outliers\n"
   ]
  },
  {
   "cell_type": "markdown",
   "id": "16300c7d-8666-4d2b-9ea6-5823bdd61dc4",
   "metadata": {},
   "source": [
    "#### Categorical variables"
   ]
  },
  {
   "cell_type": "markdown",
   "id": "864bcfc7-26b5-4ed2-b316-0b380254f209",
   "metadata": {},
   "source": [
    "##### Updating the empty winery when applicable "
   ]
  },
  {
   "cell_type": "code",
   "execution_count": null,
   "id": "b2c7cdc6-6e10-4cee-9e55-b73b2aa9974a",
   "metadata": {
    "jp-MarkdownHeadingCollapsed": true,
    "scrolled": true
   },
   "outputs": [],
   "source": [
    "# Identifying the empty winery variable\n",
    "wine_reviews_df[wine_reviews_df['winery']=='']\n",
    "#Updating the NV winery when applicable\n",
    "\n",
    "\n",
    "# Check rows where 'designation' is 'Ros' and 'title' contains 'NV'\n",
    "selected_rows = wine_reviews_df[(wine_reviews_df['winery'] == '') & (wine_reviews_df['title'].str.contains('NV '))]\n",
    "selected_rows\n",
    "# Update 'winery' to 'NV' where 'designation' is 'Ros' and 'title' contains 'NV'\n",
    "wine_reviews_df.loc[(wine_reviews_df['winery'] == '') & (wine_reviews_df['title'].str.contains('NV')), 'winery'] = 'NV'\n",
    "\n",
    "# Delete the ones that don't have winery displayed\n",
    "wine_reviews_df = wine_reviews_df[wine_reviews_df['winery'] != '']\n",
    "\n",
    "# Check rows where 'winery' is empty to verify the changes\n",
    "wine_reviews_df[wine_reviews_df['winery'] == '']\n"
   ]
  },
  {
   "cell_type": "markdown",
   "id": "c54b6792-e0e3-4699-b73c-074a9d59de63",
   "metadata": {},
   "source": [
    "##### Cleaning up the empty spaces in 'Designation' variable"
   ]
  },
  {
   "cell_type": "code",
   "execution_count": null,
   "id": "84a7d8e3-ffff-4a12-b763-47369e324583",
   "metadata": {},
   "outputs": [],
   "source": [
    "missing_indices = wine_reviews_df[wine_reviews_df['designation'] == ''].index.tolist()\n",
    "\n",
    "# Iterate over missing_indices and update 'designation' column\n",
    "for i in missing_indices:\n",
    "    # Split the title string into parts using space ' ' as a separator\n",
    "    title_parts = wine_reviews_df['title'].iloc[i].split(' ')\n",
    "    year_index = None\n",
    "    series_index = None\n",
    "\n",
    "    # Find the indices of the year and series numbers\n",
    "    for j, part in enumerate(title_parts):\n",
    "        if part.isdigit():\n",
    "            if len(part) == 4:  # Assuming year has 4 digits\n",
    "                year_index = j\n",
    "            else:\n",
    "                series_index = j\n",
    "\n",
    "    # Extract designation before the year (and series if present)\n",
    "    if year_index is not None:\n",
    "        designation_parts = title_parts[:year_index]\n",
    "        if series_index is not None:\n",
    "            designation_parts.append(title_parts[series_index])\n",
    "        designation = ' '.join(designation_parts)\n",
    "    else:\n",
    "        designation = wine_reviews_df.at[i, 'title']\n",
    "\n",
    "    # Update the 'designation' column in the DataFrame\n",
    "    wine_reviews_df.at[i, 'designation'] = designation\n"
   ]
  },
  {
   "cell_type": "code",
   "execution_count": null,
   "id": "84be30ff-6e73-403a-939f-8d6dea3f3d31",
   "metadata": {},
   "outputs": [],
   "source": [
    "wine_reviews_df[wine_reviews_df['designation']==''].count()\n"
   ]
  },
  {
   "cell_type": "markdown",
   "id": "f187a428-7af6-4f54-b836-dddc2f78858f",
   "metadata": {},
   "source": [
    "##### Other Categorical variables : Identifying outliers "
   ]
  },
  {
   "cell_type": "code",
   "execution_count": null,
   "id": "87e25d70-be50-428c-ad23-0b069e71006a",
   "metadata": {},
   "outputs": [],
   "source": [
    "import stat\n",
    "\n",
    "#wine_reviews_df.info()\n",
    "categorical_columns=wine_reviews_df.select_dtypes(include='object').columns\n",
    "categorical_columns"
   ]
  },
  {
   "cell_type": "markdown",
   "id": "e0a63109-81ff-4893-b303-d0c9f578d0ed",
   "metadata": {},
   "source": [
    "##### Country"
   ]
  },
  {
   "cell_type": "code",
   "execution_count": null,
   "id": "82cc7e1e-63d4-4e2c-9ee0-3814032aa55e",
   "metadata": {
    "scrolled": true
   },
   "outputs": [],
   "source": [
    "# Set max rows to display to a high number to show all unique values\n",
    "pd.set_option('display.max_rows', None)\n",
    "\n",
    "#wine_reviews_df['country'].value_counts()\n",
    "#No issue\n"
   ]
  },
  {
   "cell_type": "markdown",
   "id": "c2fb568a-097b-49a4-96f0-bf9e4b7f41c3",
   "metadata": {},
   "source": [
    "##### Designation and variety\n",
    "- Both columns should be merged as they provide better understanding of the wine variety together - new variable created"
   ]
  },
  {
   "cell_type": "code",
   "execution_count": null,
   "id": "10e1f00c-708c-4dfb-83af-3da49ca3ded1",
   "metadata": {},
   "outputs": [],
   "source": [
    "!pip install unidecode\n",
    "from unidecode import unidecode  # Import unidecode library to preserve accents\n",
    "\n",
    "wine_reviews_df['designation'].value_counts()\n",
    "#Designation column has false values and is an additional information given by the wine variety variable\n",
    "#decision merging both column as unique wine variety variable\n",
    "wine_reviews_df['wine_variety']=wine_reviews_df['designation']+' '+wine_reviews_df['variety']\n",
    "\n"
   ]
  },
  {
   "cell_type": "code",
   "execution_count": null,
   "id": "d17d8539-1658-4571-ac1a-e6b714c46e28",
   "metadata": {},
   "outputs": [],
   "source": [
    "wine_reviews_df.loc[wine_reviews_df['designation'] == 'Ros', 'designation'] = 'Rose'\n",
    "wine_reviews_df.loc[wine_reviews_df['variety'] == 'Ros', 'variety'] = 'Rose'\n",
    "#wine_reviews_df[wine_reviews_df['designation']=='Ros']\n"
   ]
  },
  {
   "cell_type": "markdown",
   "id": "ff521e0e-b269-4c09-bf05-ca9153751093",
   "metadata": {},
   "source": [
    "#### Cleaning up all categorical variables at once \n",
    "- Remove non year numbers\n",
    "- remove repeated words"
   ]
  },
  {
   "cell_type": "code",
   "execution_count": null,
   "id": "566f4c93-a35c-4641-a496-66ef9e195e83",
   "metadata": {
    "scrolled": true
   },
   "outputs": [],
   "source": [
    "\n",
    "#Cleaning all categorical variables the same way than wine_variety\n",
    "#Removing parentheses or other punctuations from the column wine_variety\n",
    "\n",
    "def remove_non_year_numbers(text):\n",
    "    # Remove numbers that are not likely to represent years\n",
    "    cleaned_text = re.sub(r'\\b(?<!\\d)(?!(\\d{4}|\\d{2}))\\d+\\b', '', text)\n",
    "    return cleaned_text\n",
    "\n",
    "def clean_categorical_column(df, column_name):\n",
    "    # Apply the remove_non_year_numbers function to the specified column\n",
    "    df[column_name] = df[column_name].astype(str).apply(remove_non_year_numbers)\n",
    "    return df\n",
    "\n",
    "#Cleaning the variable wine_variety variable - Removing the repeated words in the variable\n",
    "def remove_repeated_words(text):\n",
    "    sentences = text.split('. ')\n",
    "    cleaned_sentences = []\n",
    "\n",
    "    for sentence in sentences:\n",
    "        words = sentence.split()\n",
    "        unique_words = []\n",
    "        seen_words = set()\n",
    "\n",
    "        for word in words:\n",
    "            # Remove non-alphabetic characters, excluding the year or series of number that could be a year\n",
    "            clean_word = re.sub(r'[^a-zA-Z\\s]|(?<!\\d)\\d{1,2}(?!\\d)', '', word)\n",
    "\n",
    "            # Replace accented characters with their non-accented counterparts\n",
    "            clean_word = unidecode(clean_word)\n",
    "\n",
    "            if clean_word and clean_word not in seen_words:\n",
    "                unique_words.append(clean_word)\n",
    "                seen_words.add(clean_word)\n",
    "\n",
    "        cleaned_sentences.append(' '.join(unique_words))\n",
    "\n",
    "    return '. '.join(cleaned_sentences)\n",
    "\n",
    "\n",
    "cat_col=['country', 'description', 'designation', 'province', 'region_1',\n",
    "       'title', 'variety', 'winery','wine_variety']\n",
    "for col in categorical_columns:\n",
    "    wine_reviews_df[col] = wine_reviews_df[col].apply(remove_repeated_words)\n",
    "    wine_reviews_df[col]= wine_reviews_df[col].apply(remove_non_year_numbers)"
   ]
  },
  {
   "cell_type": "markdown",
   "id": "3179d5a0-62ac-47c8-a491-d38a92261ffb",
   "metadata": {},
   "source": [
    "#### Additional Cleaning applicable to all categorical variables\n",
    "- Cleaning up words that are stuck together\n",
    "- Removing repeated letters "
   ]
  },
  {
   "cell_type": "code",
   "execution_count": null,
   "id": "39670053-f15c-4275-ad35-507751fc9253",
   "metadata": {},
   "outputs": [],
   "source": [
    "import re\n",
    "\n",
    "# Define a regex pattern to identify the words stuck together without space\n",
    "pattern = r'([a-z])([A-Z])'\n",
    "\n",
    "# Function to add a space between words stuck together without space\n",
    "def add_space(match):\n",
    "    return match.group(1) + ' ' + match.group(2)\n",
    "\n",
    "#Function removing words that are repeated more than 2 times \n",
    "\n",
    "def remove_repeated_letters(text):\n",
    "    return re.sub(r'(.)\\1{2,}', r'\\1\\1', text)\n"
   ]
  },
  {
   "cell_type": "code",
   "execution_count": null,
   "id": "ccf81b24-57ee-4445-8c8e-efadf50d3306",
   "metadata": {},
   "outputs": [],
   "source": [
    "# Apply both functions to all categorical columns \n",
    "for col in categorical_columns: \n",
    "    wine_reviews_df[col] = wine_reviews_df[col].str.replace(pattern, add_space, regex=True)\n",
    "    wine_reviews_df[col] = wine_reviews_df[col].apply(remove_repeated_letters)\n"
   ]
  },
  {
   "cell_type": "markdown",
   "id": "ac3484d8-fe81-4c39-ac57-f53fc304aec1",
   "metadata": {},
   "source": [
    "#### Cleaning up the categorical columns with errors"
   ]
  },
  {
   "cell_type": "code",
   "execution_count": null,
   "id": "1dedac9b-e68f-465c-be8d-58a6d1c2ac00",
   "metadata": {},
   "outputs": [],
   "source": [
    "corrections = {'Gewrztraminer': 'Gewürztraminer', 'Ros': 'Rose', 'Carmenre': 'Carmenère', 'Albario': 'Albariño', 'Roseeeato': 'Rosato',\n",
    "               'Torronts': 'Torrontes', 'Blaufrnkisch': 'Blaufränkisch', 'Menca': 'Mencia', 'Smillon': 'Semillon', 'Mourvdre': 'Mourvedre', \n",
    "               'Anto Vaz': 'Antao Vaz', 'G-S-M': 'GSM', 'St. Laurent': 'St Laurent', 'Xarel-lo': 'Xarello', 'Aligot': 'Aligoté', \n",
    "               'Frburgunder': 'Fruhburgunder', 'Sptburgunder': 'Spatburgunder', 'Ximnez': 'Ximenez', 'MllerThurgau': 'Müller-Thurgau', \n",
    "               'Castelo': 'Castello', 'Ruch': 'Ruché', 'Carinea': 'Carinena', 'Souso': 'Sousao', 'Regal': 'Regala', 'Valdigui': 'Valdiguié',\n",
    "               'Aragons': 'Aragonez', 'Jacqure': 'Jacquère', 'Pas': 'Pass', 'Trockenbeerenaulese Smling': 'Trockenbeerenauslese Smiling',\n",
    "               'Hrslevel': 'Hárslevelű', 'Alvarelho': 'Alvarelhao', 'Cdega do Larinho': 'Codega do Larinho', 'Graevina': 'Grasevina', \n",
    "               'Boazkere': 'Bogazkere', 'Romneasc': 'Romaneasca', 'Forcall': 'Forcallat', 'Babi': 'Babic', 'ilavka': 'Zilavka', \n",
    "               'Rnsk': 'Rynsky', 'St. Vincent': 'St Vincent', 'Rserve': 'Reserve', 'Blanc Blancs': 'Blanc de Blancs', \n",
    "               'Zro': 'Zero', 'Crmant': 'Cremant', 'Passso': 'Paso', 'Roseso': 'Rosso', 'Nmes': 'Nimes', \n",
    "               'Benot ': 'Benoit ', 'Choreyls ': 'Chorey les ', 'Pennsula de Setbal': 'Peninsula de Setubal',\n",
    "               'rido ': 'Arido', 'Socr ': 'Socre ', 'Mtier ': 'Metier', 'Lujn ': 'Lujan ', 'nima ': 'Anima', \n",
    "               'Brndlmayer': 'Brundlmayer', 'Phlan ': 'Phelan ', 'Biutiful ': 'Beautiful ', 'Sanglire ': 'Sangliere ', 'Estphe ': 'Estephe ',\n",
    "               'The Issue of Inexpensive Wines is When They Are Not Good Enough': '', 'Vnrables ': 'Venerables ', 'Sgur ': 'Segur ', \n",
    "               'Estphe': 'Estephe', 'Carr ': 'Carre ', 'Chnas ': 'Chinas ', 'Perrire ': 'Perriere ', 'Drnberg ': \n",
    "               'Durnberg ', 'Chteauneufdu ': 'Chateau neuf du ', 'Marqus ': 'Marques ', 'Zphirine': 'Zephirine', \n",
    "               'Costires': 'Costieres', 'Nmes ': 'Nimes ', 'Casajs': 'Casajus', 'Viedos': 'Vinedos', 'Crmant ': 'Cremant ',\n",
    "               'Mric ': 'Meroc ', 'Fuiss ': 'Fuisse ', 'Ucls ': 'Ucla ', 'Svre': 'Sevre', 'Hlle ': 'Holle ', \n",
    "               'Peneds': 'Penedes', 'Stle ': 'Stele ', 'Curic ': 'Curico ', 'Chteauneufdu': 'Chateau neuf du', \n",
    "               'Calchaqu': 'Calchaqui', 'Frdric': 'Frederic', 'Sgonzac': 'Segonzac', 'Tte ': 'Tete ', 'Pouilly Fum': 'Pouilly Fume', \n",
    "               'Pre ': 'Pere ', 'Grs ': 'Gres ', 'Grves ': 'Greves ', 'Ren ': 'Rene ', 'Petit Lon': 'Petit Lion', 'La Mre ': 'La Mere ', \n",
    "                'Chnes': 'Chenes', 'Mdoc': 'Medoc', 'Cte ': 'Cote ', 'Calchaqu ': 'Calchaqui ', 'Fuchs Grner': 'Fuchs Gruner', \n",
    "               'Grd Grand': 'Grand', 'Henry Fessy Rgni': 'Henry Fessy Regnie', 'R Camp': 'Camp', 'Lassgue Saintmilion': 'Lassegue St Emilion',\n",
    "               'Saintmilion': 'Saint Emilion','Sptlese': 'Spatlese', 'Vnrables': 'Venerables', 'Socr': 'Socre', 'Mmoires': 'Memoires', \n",
    "               'Grner': 'Gruner', 'Andr Brunel': 'Andre Brunel', 'Andr': 'Andre', 'Pas Oper': 'Pas Opere', 'Ctes': 'Cotes', \n",
    "               'de Provence Ros Ctes': 'Cotes de Provence Rose', 'Muscato Moscato': 'Moscato', 'Clment': 'Clement', 'Slection': 'Selection', \n",
    "               'Grnhuser': 'Grunhauser', 'Ros Coteaux d Aixen Provence': 'Rose Coteaux d Aix en Provence', 'Aixen Provence': 'Aix en Provence', \n",
    "               'Suprieur': 'Superieur', 'Sdsteiermark': 'Sudsteiermark', 'Gsing': 'Gosing', 'Ros Ctes de Provence': 'Rose Cotes de Provence', \n",
    "               'Prsident': 'President', 'Mcon': 'Macon', 'Mumm NV de Cramant Blanc Blancs': 'Mumm de Cramant Blanc de Blancs Brut NV', \n",
    "               'Estte': 'Estate', 'dAvla': 'dAvola', 'Bcking': 'Bocking', 'Bianco Etna': 'Etna Bianco', \n",
    "               'Vulk': 'Vulka', 'Chteau': 'Chateau', 'G The th': 'GSeven the Seventh', 'Slva Shne De Silva': 'Selva Shane De Silva',\n",
    "               'Clbre': 'Calibre','Rosee ':'Rose ','dition':'Edition','Millesim':'Millesime','Rhne':'Rhone','Roseso':'Rosso'}\n",
    "\n",
    "\n",
    "for col in categorical_columns:\n",
    "    # Apply corrections to each column\n",
    "    wine_reviews_df[col] = wine_reviews_df[col].replace(corrections, regex=True)\n"
   ]
  },
  {
   "cell_type": "markdown",
   "id": "d16a50c1-d1e2-4a59-a418-8d46b1c6a245",
   "metadata": {},
   "source": [
    "\n",
    "### Create wine type dictionary"
   ]
  },
  {
   "cell_type": "code",
   "execution_count": null,
   "id": "931f2a33-c70e-4c1e-b4a3-d7bac03b9c4f",
   "metadata": {},
   "outputs": [],
   "source": [
    "#Create .json files of all wine varieties / type to be called in the function\n",
    "\n",
    "import json\n",
    "\n",
    "# Define lists of varieties\n",
    "sparkling_varieties = ['Champagne', 'Prosecco', 'Cava', 'Sparkling','Sparkling Blend', 'Champagne Blend', 'Moscato', 'Cave Amadeu Moscatel', 'Tarima Moscatel',\n",
    "                          'Extra Dry Prosecco', 'Dry Glera' ,'Bruto Avesso', 'Anni Venti Metodo Classico Greco','Lambrusco', 'Casa Perini NV Moscatel',\n",
    "                          'Brachetto','Pignoletto','Andino Moscatel','Blanc de Blancs']\n",
    "\n",
    "\n",
    "red_varieties = ['dAbruzzo','Bridão Touriga Nacional','Pinot Noir', 'Red Blend', 'Merlot', 'Syrah', 'Zinfandel',\n",
    "                     'Malbec', 'Nero', 'Noir', 'Nebbiolo', 'Sangiovese', 'Red','red' 'Tempranillo','Rosso',' Gamay','Gamay'\n",
    "                     ' Shiraz','Shiraz', 'Sirah', 'Sangiovese Grosso', 'Barbera','Port', 'Grenache', 'Corvina','Rondinella','Molinara',\n",
    "                     'Tempranillo', 'Carmenère', 'Aglianico', 'Garnacha','Cannubi Nebbiolo', 'Estate Mourvèdre', 'Grenache',\n",
    "                     'Classic Zweigelt', 'Reserve St Laurent', 'Passito Sagrantino','Belsito Frappato','Quiévremont Meritage','Nero',\n",
    "                     'Sallier de la Tour Inzolia','I Tratturi Primitivo','Petit Verdot','Dolia Monica','Bridão Touriga Nacional'\n",
    "                     'Graciano','TannatCabernet','Riserva Prugnolo Gentile','Gesture GSM','Red','Bonarda',\n",
    "                     'Blaufränkisch','Cabernet',' Tannat','Cannonau','Mencía','Sagrantino','Brezza Dolcetto','Graciano','Negroamaro',\n",
    "                     'Magnificat Meritage', 'Eszencia Furmint', 'Zweigelt', 'Caverio GSM','Dolcetto','Pinotage',\n",
    "                    'Früburgunder','Sousão','Cinsault','Primitivo','Mascalese','Zweigelt', 'Noces de Feu Duras','Meritage',\n",
    "                    'Papaskarasi','Charbono','Cream Sherry', 'GSM', 'Lavender Ridge Mourvèdre','Pinot Meunier',\n",
    "                    'Teroldego','Claret','Montepulciano','Touriga Nacional','Tinta','Aragonez','red blend','Lagrein','Monastrell',\n",
    "                    'Alicante Bouschet','Chambourcin','Mourvèdre','Malvasia', 'Selección Especial 1 Moscatel','Pugnitello', 'Sherry',\n",
    "                     'Colheita Moscatel', 'Old Vines 3 Moscatel','Maturana','Neagra', 'Cunto Pallagrello','Agiorgitiko','Frappato',' St Laurent',\n",
    "                    'Alfrocheiro','Carignano','Magliocco',' Saperavi','Cesanese','Tinto','Uva di Troia', 'Bethlehem Valley Norton',\n",
    "                     'Dry Norton', 'The Full Nelson Norton', 'Estates Norton', 'Augusta Winery Norton', 'Reserve Norton',\n",
    "                     'Limited Release Norton', 'Estate Bottled Norton', 'Molliver Vineyards Norton','Refosco','Manzoni','Ruché','Xinomavro','Petite Verdot',\n",
    "                    'Spätburgunder','Baga','Lemberger','Dornfelder','Perricone','Ximénez','Aleatico',' Marselan','Schiava','Lemberger',\n",
    "                     'Carignan','Gentile','Valdiguié','Mondeuse','Negrette','Trincadeira','Touriga','Prieto Picudo','Gaglioppo','Piedirosso'\n",
    "                    'Susumaniello','Carignane','Counoise','Carcajolu','Madeira','Kalecik Karasi','Karasakiz','País','Marzemino','Castelão',\n",
    "                    'Teran','Trepat',' Freisa','Argaman','Bobal','Piedirosso','Mansois','Susumaniello','Castelão','Cappuccio','Argaman','Mazuelo',\n",
    "                    'Vranec','Mavrud','Forcallà','Aragonês','Jaen','Argaman','Prunelard','Grignolino',' Mataro','Groppello','Raboso',\n",
    "                    'Alvarelhão','Poulsard','Monica','Carineña','Carignan','Ciliegiolo','Sciaccerellu','Rufete','Alicante','Mavroudi',\n",
    "                    'Casavecchia','Mantonico','Trousseau','Rebo','Vespolina',' Kekfrankos','Braucol','Marquette','Blauburgunder',\n",
    "                    'Kekfrankos','Fer','Servadou','Fer Servadou','Duras','Okuzgozu','Bual','Kadarka','Cabernet Sauvignon','Sauvignon Cabernet',\n",
    "                    'Franc','Carignan','Cinsault','Grenache','Mourvèdre','Pinot noir','Sangiovese','Mission','Sankt Laurent','Abouriou','Nielluciu',\n",
    "                    'Vinhão','Souzao','St Laurent','Moscatel do Douro','Orangetraube','Negro','Grolleau','Canaiolo','Mavrotragano','Bovale',\n",
    "                    'Frankovka','Nielluciu','Gragnano','Mavrodaphne','Schwartzriesling','Bastardo','40 Years Moscatel','Vidadillo','Vinhão',\n",
    "                    'Zigu','Abouriou','Canaiolo','Norton','Bastardo','Babić','Mandilaria','Albarossa','Babić','Monukka','Uvalino',\n",
    "                    'Boğazkere','Chelois','Durif','10 Anos Moscatel','Sirica','Blatina','Karalahna','Feteasca','St Vincent','Cherry','Colorino',\n",
    "                    ' Blauburger','Centesimino','Ramisco','Catalanesca','Especial Moscatel','10YearsOld Moscatel','Gamza','Kadarka','Mavrokalavryta',\n",
    "                    'Tintilia','Kotsifali','Parraleta','Trollinger','Kuntra','Feteasca','Sellium Moscatel','Pignolo','Pignol','Trollinger','Blaufränkisch'\n",
    "                    'Mencia','Mourvedre',' Mencia','Fruhburgunder','Spatburgunder','Ruché','Carinena','Sousao','Valdiguié','Valdiguie','Jacquère','Alvarelhao',\n",
    "                    'Bogazkere','Forcallat','Babic']\n",
    "\n",
    "white_varieties = ['Muscat','Muscadelle','Chardonnay', 'Riesling', 'Pinot Gris', 'Sauvignon Blanc', 'Pinot Grigio', 'Gewürztraminer', 'Bianco',\n",
    "                       'White', 'Gris', 'Blanc', 'Viognier', 'Pinot Gris', 'Feudo Montoni Catarratto', 'Grillo',\n",
    "                       'Chablis', 'Spyro Albariño', 'La Réserve Petit Manseng', 'Grüner Veltliner',\n",
    "                       'White Blend', 'Glera', 'Chenin Blanc', 'Albariño', 'Pinot Blanc','Sur Lie Melon', 'Grüner Veltliner',\n",
    "                       'Torrontés', 'Chenin Blanc', 'Col Fondo Glera','Vermentino','white','De Silva Sauvignon','Megyer Dry Furmint',\n",
    "                       'Felluga Friulano','Assyrtico','Massovivo Vermentino',' Garganega','Caldaro Sauvignon','Tannenberg Sauvignon',\n",
    "                       'Gewürztraminer','Jaune','Verdejo','Verdelho','Verduzzo','Sémillon','Vernaccia','Verdicchio',' Verdicchio','Greco di Tufo'\n",
    "                       'Lucas Vineyards Vignoles', 'Franz Haas Sauvignon', 'Lage Modler Zierfandler', 'Gold Label Cortese',\n",
    "                       'Reserve Icewine Vidal', 'Vigneti Le Monde Sauvignon', 'Doux Sawyer Lindquist Vineyard Marsanne',\n",
    "                       'Scheurebe', 'Kerner','Vilana', 'Le Marne Cortese', 'Viura', 'Sturm Sauvignon','Veltliner', 'Antão Vaz',\n",
    "                      'Viura','Silvaner','Colombard','Sylvaner','Fiano','Roussanne', 'Goru Verde Monastrell','Xarello','Trebbiano',\n",
    "                       'Cubia Tenuta Ficuzza Insolia', 'Vinai dellAbbate Ribolla Gialla', 'Colutta Friulano','Weissburgunder',\n",
    "                       'Spätlese Traminer','B Minor MarsanneRoussanne','Silvaner', 'Cusumano Insolia','Greco Tufo', 'Cembra Sauvignon',\n",
    "                       'Barraco Zibibbo','Falanghina', 'Tercic Ribolla Gialla','MüllerThurgau','Kerner','Greco di Tufo',\n",
    "                       'Nals Margreid Sauvignon','Petit Manseng','Muskat Ottonel','Muscat Ottonel','Marsanne','Bical','Nals Margreid Sauvignon',\n",
    "                       'Doña Beatriz Sauvignon', 'Urra di Mare Sauvignon', 'Ronco dei Tassi Sauvignon', 'Vigna Maso Tratta Sauvignon', 'Quarz Sauvignon',\n",
    "                       'Conte dAttimisManiago Sauvignon', 'Kirchleiten Sauvignon', 'Passion Sauvignon', 'CaRonesca Sauvignon', 'Classic Sauvignon',\n",
    "                       'Petrucco Sauvignon', 'Russiz Superiore Sauvignon', 'Naun Sauvignon', 'Winkl Sauvignon', 'Lafòa Sauvignon',\n",
    "                       'Weingut Niklas Sauvignon', 'Castel Giovanelli Sauvignon', 'Jermann Sauvignon', 'Masut da Rive Sauvignon', 'Solamini et Amicis Passito Sauvignon',\n",
    "                       'Mission St Vincent Sauvignon', 'Vieris Sauvignon', 'Col Matìss Sauvignon', 'Castel Ringberg Sauvignon', 'La Rajade Sauvignon', 'De La Tour Sauvignon',\n",
    "                       'Sulz Sauvignon', 'Castelvecchio Sauvignon', 'Riserva Sauvignon', 'Gradisciutta Sauvignon', 'Stern Sauvignon', 'Aquilis Sauvignon', 'La Tunella Sauvignon',\n",
    "                       'Prail Sauvignon', 'Ferruccio Sgubin Sauvignon', 'Primosic Sauvignon', 'Vigne del Borgo Sauvignon', 'DAmblè Sauvignon', 'Caligo Sauvignon', 'Mario Schiopetto Sauvignon',\n",
    "                       'Plozner Sauvignon', 'Karneid Sauvignon','Turbiana','Bianca','Moscadello','Traminer','Assyrtiko','Muskateller','Welschriesling','Pecorino',\n",
    "                      'Alvarinho','Albanello','Villa Russiz Sauvignon', 'Bovin Sauvignon', 'Indra Sauvignon', 'Abbazia di Novacella Sauvignon', 'Kofl Sauvignon', 'Piere Sauvignon',\n",
    "                       'Ferrata Sauvignon', 'Sanct Valentin Sauvignon', 'Reina de Castilla Sauvignon', 'Soliloquy Sauvignon Musqué', 'Bricco Rovella Sauvignon', 'Mejo Sauvignon',\n",
    "                       'Turmhof Sauvignon', 'Segrè Sauvignon', 'Livio Felluga Sauvignon', 'Terre Magre Sauvignon', 'Floreado Sauvignon', 'Borgo del Tiglio Sauvignon',\n",
    "                       'Rive Alte Sottomonte Sauvignon', 'Kössler Sauvignon', 'Valbuins Sauvignon', 'Attems Sauvignon', 'Colutta Sauvignon', 'Cormòns Sauvignon', 'Cicinis Sauvignon',\n",
    "                       'Montespina Sauvignon', 'Praesulis Sauvignon', 'Fumat Sauvignon', 'Zorzettig Sauvignon','Picpoul de Pinet','Cortese','Melon','Godello','Friulano',\n",
    "                       'Viña Esmeralda Moscatel','MR Mountain Wine Moscatel','Botani Old Vines Moscatel','Vino Dulce Natural Moscatel','Vino Dulce Moscatel',\n",
    "                       'Moscatel de la Marina', 'El Bosque Moscatel','Selección Especial 1 Moscatel', 'Esencia de Almachar Moscatel', 'Late Harvest Moscatel',\n",
    "                       'Miguel Asensio Vino Dulce de Moscatel', 'Victoria 2 Moscatel', 'Vendimia Tardia Single Vineyard Moscatel', 'Casta Diva Cosecha Miel Dulce Moscatel',\n",
    "                       'Mesta MacabeoMoscatel', 'Quinta da Arrancosa Moscatel Graúdo','Picpoul','Moschofilero','Arinto', 'Caiatì Pallagrello', 'Fontanavigna Pallagrello',\n",
    "                       'Acquavigna Pallagrello', 'Beerenauslese Rieslaner','Zierfandler', 'Catarratto','Muskat','Greco','Grechetto','Albana','Tocai',\n",
    "                      'Savagnin','Gialla','Nosiola','Encruzado','Carricante', 'Grotta del Sole Asprinio di Aversa','Lucas Vineyards Vignoles',\n",
    "                      'Inzolia','Insolia','Malagousia','Malagouzia','Cerceal','Pires','Rotgipfler','Yapincak','Edelzwicker','Siria','Morava','Passerina','Loureiro',\n",
    "                      'Posip','Regalǎ','Furmint','Vidal','Insolia','Auxerrois','Aligoté','Arneis','Mali','Altesse','Kisi','Palomino',\n",
    "                      'Nascetta','Tokaji','Symphony','Durella','Clairette','Chasselas','Siegerrebe','Manseng','Morillon','Zibibbo','Torbato','Cercial',\n",
    "                      'Kangoun','Jacquère','Mauzac','Diamond','Neuburger','Sämling','Hárslevelü','Rkatsiteli','Jacquère','Mauzac','Picolit',\n",
    "                      'Sacy','Mauzac','Vitovska','Rkatsiteli','Grauburgunder','Vignoles','Grigio','Debit','Verdil','Treixadura','Loin de',\n",
    "                      'Neuburger','Tokay','Jacquère','Timorasso','Pigato','Macabeo','Marawi','Irsai Oliver','Traminette','Pignoletto',\n",
    "                      'Mantonico','Avesso','Emir','Narince','Grecanico','Angevine','Avesso','Zuri','Hondarrabi Zuri','Nuragus','Xynisteri',\n",
    "                      'Avesso','Roditis','Plyto','Coda di Volpe','Rivaner','Müller-Thurgau','Tamjanika','Narince','Rebula',' Bual',\n",
    "                      'Grecanico','Savatiano',' Roditis','Romorantin','Cococciola','Thrapsathiri','Mantonico','Graševina','Rivaner',\n",
    "                      'Narince','Mtsvane','Códega do Larinho','Sideritis','Azal','Sauvignon','Viosinho','Paralleda','Maria Gomes','Fernão Pires',\n",
    "                      'Airen','Erbaluce','Verdosilla', 'Naturalmente Dulce Moscatel','Vespaiolo','Aidani','Rolle','Žilavka','Estate Muscadine',\n",
    "                      'Rolle','Zlahtina','Gouveio','Elbling','Dorada Seco Moscatel','Charmat Moscatel','Pallagrello','Misket','Rieslaner',\n",
    "                      'Alejandría','Robola','Graúdo','Verdeca','Nasco','Athiri','Cayuga','Tamianka','Rabigato','Meseguera','Merseguera','Xinisteri',\n",
    "                      'Rýnský','Malvar','Românească','Chardonel','Plageoles Muscadel','Ansonica','Apple','Asprinio','Sercial','Premsal',\n",
    "                      'Jampal','Picapoll','Moscatel Seco','Trajadura','Chinuri','Favorita','Dafni','Petit Courbu','Old Vines No 3 Moscatel','Torontel',\n",
    "                      'Molino Real Mountain Wine Moscatel','Molino Real Moscatel','Asprinio','Emblema Caprettone','Ondenc','Torrontes','Semillon','Antao Vaz','Xarello',\n",
    "                      'Pedro Ximenez','Castello','Moscatel','Regala','Pass','Trockenbeerenauslese Smiling','Hárslevelű','Codega do Larinho',\n",
    "                  'Grasevina','Vinho Verde','Vinho','Romaneasca','Zilavka','Rynsky']\n",
    "\n",
    "rose_varieties = ['Rose', 'Rosé', 'Rosato','Rosè','Alambre Moscatel',  'Colheita Moscatel','Clã Moscatel', 'Colecção Privada Moscatel Roxo', 'José Maria da Fonseca Moscatel de Setúbal',\n",
    "                     'Rosado', 'Moscatel de Setubal', 'Loboroxo Moscatel Roxo','rosé','Branco Moscatel','Mousseux']\n",
    "\n",
    "\n",
    "red_varieties = list(set(red_varieties))\n",
    "white_varieties=list(set(white_varieties))\n",
    "rose_varieties=list(set(rose_varieties))\n",
    "\n",
    "# Create a dictionary to store all lists\n",
    "varieties_dict = {\n",
    "    \"red_varieties\": red_varieties,\n",
    "    \"white_varieties\": white_varieties,\n",
    "    \"rose_varieties\": rose_varieties,\n",
    "    \"sparkling_varieties\": sparkling_varieties\n",
    "}\n",
    "\n",
    "# Save the dictionary to a JSON file\n",
    "with open('/Users/sabrinaauger/code/sabrinaauger/wino/data/json/wine_varieties.json', 'w') as json_file:\n",
    "    json.dump(varieties_dict, json_file)\n"
   ]
  },
  {
   "cell_type": "code",
   "execution_count": null,
   "id": "e2651488-a95c-4d71-9b63-3adf6894a2b8",
   "metadata": {},
   "outputs": [],
   "source": [
    "#Display the remaining wines without a\n",
    "other_varieties = [variety for variety, wine_type in variety_to_type.items() if wine_type == 'Other']\n",
    "other_varieties\n"
   ]
  },
  {
   "cell_type": "code",
   "execution_count": null,
   "id": "66c2dbd5-45cf-4425-a8b9-f2993b4a1279",
   "metadata": {},
   "outputs": [],
   "source": [
    "len(other_varieties)\n"
   ]
  },
  {
   "cell_type": "code",
   "execution_count": null,
   "id": "f1064cf8-1a51-48e7-903f-a36d85b455c6",
   "metadata": {},
   "outputs": [],
   "source": [
    "variety_to_type = {}\n",
    "\n",
    "# Load the JSON file containing wine varieties\n",
    "with open('/Users/sabrinaauger/code/sabrinaauger/wino/data/json/wine_varieties.json', 'r') as json_file:\n",
    "    varieties_dict = json.load(json_file)\n",
    "\n",
    "# Extract different types of wine varieties from the loaded dictionary\n",
    "\n",
    "\n",
    "def assign_type(variety):\n",
    "\n",
    "    red_varieties = varieties_dict[\"red_varieties\"]\n",
    "    white_varieties = varieties_dict[\"white_varieties\"]\n",
    "    rose_varieties = varieties_dict[\"rose_varieties\"]\n",
    "    sparkling_varieties = varieties_dict[\"sparkling_varieties\"]\n",
    "\n",
    "    variety_lower = variety\n",
    "    red_varieties = [var for var in red_varieties]\n",
    "    white_varieties = [var for var in white_varieties]\n",
    "    rose_varieties = [var for var in rose_varieties]\n",
    "    sparkling_varieties = [var for var in sparkling_varieties]\n",
    "\n",
    "    if any(var in variety for var in white_varieties):\n",
    "        return 'White'\n",
    "    elif any(var in variety for var in red_varieties):\n",
    "        return 'Red'\n",
    "    elif any(var in variety for var in rose_varieties):\n",
    "        return 'Rosé'\n",
    "    elif any(var in variety for var in sparkling_varieties):\n",
    "        return 'Sparkling'\n",
    "    else:\n",
    "        return 'Other'\n",
    "\n",
    "# Assuming wine_reviews_df is your DataFrame and 'wine_variety' is the column with wine varieties\n",
    "for variety in wine_reviews_df['wine_variety']:\n",
    "    # Manually assign types based on the variety and on the logic built in the assign_type function\n",
    "    variety_to_type[variety] = assign_type(variety)\n",
    "wine_reviews_df['wine_type']=wine_reviews_df['wine_variety'].map(variety_to_type)\n"
   ]
  },
  {
   "cell_type": "code",
   "execution_count": null,
   "id": "d1e01fdf-ea4f-489b-a6fb-bf7f1d57885b",
   "metadata": {},
   "outputs": [],
   "source": [
    "#Cleaning up the wrong assigned wine_type for sparkling wines\n",
    "bdb_champ=wine_reviews_df[wine_reviews_df['title'].str.contains('Blanc de Blancs')]\n",
    "sparkling=wine_reviews_df[wine_reviews_df['title'].str.contains('Sparkling')]\n",
    "champ=wine_reviews_df[wine_reviews_df['title'].str.contains('Champagne')]\n",
    "prosecco=wine_reviews_df[wine_reviews_df['title'].str.contains('Prosecco')]\n",
    "cremant=wine_reviews_df[wine_reviews_df['title'].str.contains('Cremant')]\n",
    "\n",
    "wine_reviews_df.loc[wine_reviews_df['wine_variety'].isin(bdb_champ['wine_variety'].unique()), 'wine_type'] = 'Sparkling'\n",
    "wine_reviews_df.loc[wine_reviews_df['wine_variety'].isin(sparkling['wine_variety'].unique()),'wine_type']='Sparkling'\n",
    "wine_reviews_df.loc[wine_reviews_df['wine_variety'].isin(champ['wine_variety'].unique()),'wine_type']='Sparkling'\n",
    "wine_reviews_df.loc[wine_reviews_df['wine_variety'].isin(prosecco['wine_variety'].unique()),'wine_type']='Sparkling'\n",
    "wine_reviews_df.loc[wine_reviews_df['wine_variety'].isin(cremant['wine_variety'].unique()),'wine_type']='Sparkling'"
   ]
  },
  {
   "cell_type": "code",
   "execution_count": null,
   "id": "5882be6e-4eb6-43a7-845e-26185b8f2ff5",
   "metadata": {},
   "outputs": [],
   "source": [
    "wine_reviews_df[wine_reviews_df['title'].str.contains('Cotes du')]"
   ]
  },
  {
   "cell_type": "markdown",
   "id": "4520f91c-d22f-4932-b5a6-e71c41111137",
   "metadata": {},
   "source": [
    "### Create the dry/sweet variable "
   ]
  },
  {
   "cell_type": "code",
   "execution_count": null,
   "id": "654d8cf0-3a5b-4f4e-b2b6-67c649cea8fa",
   "metadata": {
    "scrolled": true
   },
   "outputs": [],
   "source": [
    "!pip install gensim\n",
    "from gensim.models import Word2Vec\n",
    "\n",
    "# List of words related to sweetness\n",
    "sweet_words = ['sweet', 'dessert', 'sweetness','creamy','sugary','sweetened','sugared','honeyed','candied','syrupy']\n",
    "\n",
    "# Training data\n",
    "training_data = [description.split() for description in wine_reviews_df['description']]\n",
    "\n",
    "# Train the Word2Vec model\n",
    "model = Word2Vec(sentences=training_data, vector_size=100, window=5, min_count=1, workers=4)\n",
    "\n",
    "# Find similar words to each word in sweet_words\n",
    "similar_words = {}\n",
    "for word in sweet_words:\n",
    "    similar_words[word] = [w for w, _ in model.wv.most_similar(word)]\n",
    "\n",
    "print(similar_words)\n"
   ]
  },
  {
   "cell_type": "code",
   "execution_count": null,
   "id": "69ce4a82-dd0b-4e5f-bbea-e3c2a6146758",
   "metadata": {},
   "outputs": [],
   "source": [
    "#sweet_words = ['sweet', 'dessert','muscat','muskat','moscato','ice wine','sweetness']\n",
    "\n",
    "def check_sweetness(description):\n",
    "    description_lower = description.lower()\n",
    "    for word in similar_words:\n",
    "        if word in description_lower:\n",
    "            return 'Sweet'\n",
    "    return 'Dry'\n",
    "\n",
    "wine_reviews_df['dry_sweet'] = wine_reviews_df['description'].apply(check_sweetness)\n"
   ]
  },
  {
   "cell_type": "code",
   "execution_count": null,
   "id": "02f47c53-4b8f-4516-9252-54acb75290c7",
   "metadata": {},
   "outputs": [],
   "source": [
    "#Ensuring that teh function with Spacy worked\n",
    "wine_reviews_df['dry_sweet'].value_counts()\n"
   ]
  },
  {
   "cell_type": "code",
   "execution_count": null,
   "id": "5d037944-9ebe-4d5b-b877-7857832c1ee5",
   "metadata": {},
   "outputs": [],
   "source": [
    "wine_reviews_df.head()\n"
   ]
  },
  {
   "cell_type": "markdown",
   "id": "4d13eb26-edbf-4630-b1eb-9adeeff55d50",
   "metadata": {},
   "source": [
    "### Preprocessing description"
   ]
  },
  {
   "cell_type": "code",
   "execution_count": null,
   "id": "1e2f70af-1be0-49e6-82e7-a9a4e3c85f2d",
   "metadata": {},
   "outputs": [],
   "source": [
    "# Create additional description column for recommendation display purpose\n",
    "wine_reviews_df['full_description']=wine_reviews_df['description']"
   ]
  },
  {
   "cell_type": "code",
   "execution_count": null,
   "id": "d9396811-b29d-43a5-977a-dde237e5fadb",
   "metadata": {
    "jp-MarkdownHeadingCollapsed": true
   },
   "outputs": [],
   "source": [
    "\n",
    "\n",
    "# Function for text preprocessing\n",
    "def preprocess_text(text):\n",
    "    text = text.lower()  # Convert text to lowercase\n",
    "    text = re.sub(r'[^\\w\\s]', '', text)  # Remove punctuation\n",
    "    tokens = word_tokenize(text)  # Tokenize the text\n",
    "    stop_words = set(stopwords.words('english'))\n",
    "    tokens = [word for word in tokens if word not in stop_words]  # Remove stopwords\n",
    "    lemmatizer = WordNetLemmatizer()\n",
    "    tokens = [lemmatizer.lemmatize(word) for word in tokens]  # Lemmatize words\n",
    "    return ' '.join(tokens)\n",
    "\n",
    "# Apply preprocessing to the description column\n",
    "wine_reviews_df['description']=wine_reviews_df['description'].apply(preprocess_text)\n"
   ]
  },
  {
   "cell_type": "code",
   "execution_count": null,
   "id": "81058391-9ad4-420e-9a7b-987df9f88240",
   "metadata": {},
   "outputs": [],
   "source": [
    "wine_reviews_df.head()\n"
   ]
  },
  {
   "cell_type": "markdown",
   "id": "95fda44f-f556-4575-b71e-9d39ec78d5ce",
   "metadata": {},
   "source": [
    "# Save cleaned wine_reviews_df dataset as .CSV"
   ]
  },
  {
   "cell_type": "code",
   "execution_count": null,
   "id": "f9e45735-bf1a-4c33-a779-028a0abcb1a7",
   "metadata": {},
   "outputs": [],
   "source": [
    "import os\n",
    "import zipfile\n",
    "\n",
    "# Directory path for the zipped file\n",
    "directory_path = '~/code/sabrinaauger/wino/data/cleaned_data/'\n",
    "\n",
    "# Ensure the directory exists or create it if it doesn't\n",
    "os.makedirs(directory_path, exist_ok=True)\n",
    "\n"
   ]
  },
  {
   "cell_type": "code",
   "execution_count": null,
   "id": "79dce41b-fe1f-46ea-a627-4357d20dd9c9",
   "metadata": {},
   "outputs": [],
   "source": [
    "import zipfile\n",
    "\n",
    "\n",
    "# Path for the zipped file\n",
    "zip_file_path = '/Users/sabrinaauger/code/sabrinaauger/wino/data/cleaned_data/wine_reviews.zip'\n",
    "csv_file_path ='/Users/sabrinaauger/code/sabrinaauger/wino/data/cleaned_data/wine_reviews.csv'\n",
    "wine_reviews_df.to_csv(csv_file_path, index=False)\n",
    "\n",
    "# Create a Zip file and add the CSV file to it\n",
    "with zipfile.ZipFile(zip_file_path, 'w') as zipf:\n",
    "    zipf.write(csv_file_path, os.path.basename(csv_file_path))\n",
    "\n",
    "# Reading the zipped file as a DataFrame\n",
    "with zipfile.ZipFile(zip_file_path, 'r') as zipf:\n",
    "    with zipf.open(os.path.basename(csv_file_path)) as myfile:\n",
    "        test = pd.read_csv(myfile)\n"
   ]
  },
  {
   "cell_type": "markdown",
   "id": "a4ba53a8-a92f-4f12-892b-e3ccb8d27502",
   "metadata": {},
   "source": [
    "# Modelisation\n",
    "#Add Haiwei code"
   ]
  },
  {
   "cell_type": "code",
   "execution_count": null,
   "id": "5b5f714e-7316-4f03-a309-2d0522e059d4",
   "metadata": {},
   "outputs": [],
   "source": []
  },
  {
   "cell_type": "code",
   "execution_count": null,
   "id": "83b5e842-536c-43c4-a288-65cade430374",
   "metadata": {},
   "outputs": [],
   "source": []
  },
  {
   "cell_type": "code",
   "execution_count": null,
   "id": "b6886f01-bb07-40a9-bf7b-bc7164512291",
   "metadata": {},
   "outputs": [],
   "source": []
  },
  {
   "cell_type": "code",
   "execution_count": null,
   "id": "1fcca13a-6bb2-4644-8805-8fd9abbe35b2",
   "metadata": {},
   "outputs": [],
   "source": [
    "# Vectorization (e.g., TF-IDF, CountVectorizer) on the preprocessed text\n",
    "# For instance, using TF-IDF as shown in the previous example\n",
    "#tfidf = TfidfVectorizer(max_features=1000)\n",
    "#description_features = tfidf.fit_transform(wine_reviews_df['description']).toarray()\n"
   ]
  },
  {
   "cell_type": "code",
   "execution_count": null,
   "id": "ba47c1b5-35e9-4b3e-ac18-1cee835b5d71",
   "metadata": {},
   "outputs": [],
   "source": []
  },
  {
   "cell_type": "code",
   "execution_count": null,
   "id": "7c46b6c3-e286-44e6-8f84-996304a2cbd9",
   "metadata": {},
   "outputs": [],
   "source": []
  },
  {
   "cell_type": "code",
   "execution_count": null,
   "id": "75b03cf6",
   "metadata": {},
   "outputs": [],
   "source": []
  },
  {
   "cell_type": "code",
   "execution_count": null,
   "id": "be754987",
   "metadata": {},
   "outputs": [],
   "source": []
  },
  {
   "cell_type": "code",
   "execution_count": null,
   "id": "50928e9d",
   "metadata": {},
   "outputs": [],
   "source": []
  },
  {
   "cell_type": "code",
   "execution_count": null,
   "id": "eb21a452",
   "metadata": {},
   "outputs": [],
   "source": []
  }
 ],
 "metadata": {
  "kernelspec": {
   "display_name": "Python 3 (ipykernel)",
   "language": "python",
   "name": "python3"
  },
  "language_info": {
   "codemirror_mode": {
    "name": "ipython",
    "version": 3
   },
   "file_extension": ".py",
   "mimetype": "text/x-python",
   "name": "python",
   "nbconvert_exporter": "python",
   "pygments_lexer": "ipython3",
   "version": "3.10.6"
  },
  "toc": {
   "base_numbering": 1,
   "nav_menu": {},
   "number_sections": true,
   "sideBar": true,
   "skip_h1_title": false,
   "title_cell": "Table of Contents",
   "title_sidebar": "Contents",
   "toc_cell": false,
   "toc_position": {},
   "toc_section_display": true,
   "toc_window_display": false
  }
 },
 "nbformat": 4,
 "nbformat_minor": 5
}
