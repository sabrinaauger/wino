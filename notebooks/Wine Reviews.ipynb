{
 "cells": [
  {
   "cell_type": "markdown",
   "id": "7bf32c6e",
   "metadata": {},
   "source": [
    "# Import"
   ]
  },
  {
   "cell_type": "code",
   "execution_count": 1,
   "id": "f031d765",
   "metadata": {},
   "outputs": [
    {
     "name": "stdout",
     "output_type": "stream",
     "text": [
      "wino (set by PYENV_VERSION environment variable)\n",
      "Requirement already satisfied: kaggle in /Users/sabrinaauger/.pyenv/versions/3.10.6/envs/wino/lib/python3.10/site-packages (1.5.16)\n",
      "Requirement already satisfied: six>=1.10 in /Users/sabrinaauger/.pyenv/versions/3.10.6/envs/wino/lib/python3.10/site-packages (from kaggle) (1.16.0)\n",
      "Requirement already satisfied: certifi in /Users/sabrinaauger/.pyenv/versions/3.10.6/envs/wino/lib/python3.10/site-packages (from kaggle) (2023.11.17)\n",
      "Requirement already satisfied: python-dateutil in /Users/sabrinaauger/.pyenv/versions/3.10.6/envs/wino/lib/python3.10/site-packages (from kaggle) (2.8.2)\n",
      "Requirement already satisfied: requests in /Users/sabrinaauger/.pyenv/versions/3.10.6/envs/wino/lib/python3.10/site-packages (from kaggle) (2.31.0)\n",
      "Requirement already satisfied: tqdm in /Users/sabrinaauger/.pyenv/versions/3.10.6/envs/wino/lib/python3.10/site-packages (from kaggle) (4.66.1)\n",
      "Requirement already satisfied: python-slugify in /Users/sabrinaauger/.pyenv/versions/3.10.6/envs/wino/lib/python3.10/site-packages (from kaggle) (8.0.1)\n",
      "Requirement already satisfied: urllib3 in /Users/sabrinaauger/.pyenv/versions/3.10.6/envs/wino/lib/python3.10/site-packages (from kaggle) (2.1.0)\n",
      "Requirement already satisfied: bleach in /Users/sabrinaauger/.pyenv/versions/3.10.6/envs/wino/lib/python3.10/site-packages (from kaggle) (6.1.0)\n",
      "Requirement already satisfied: webencodings in /Users/sabrinaauger/.pyenv/versions/3.10.6/envs/wino/lib/python3.10/site-packages (from bleach->kaggle) (0.5.1)\n",
      "Requirement already satisfied: text-unidecode>=1.3 in /Users/sabrinaauger/.pyenv/versions/3.10.6/envs/wino/lib/python3.10/site-packages (from python-slugify->kaggle) (1.3)\n",
      "Requirement already satisfied: charset-normalizer<4,>=2 in /Users/sabrinaauger/.pyenv/versions/3.10.6/envs/wino/lib/python3.10/site-packages (from requests->kaggle) (3.3.2)\n",
      "Requirement already satisfied: idna<4,>=2.5 in /Users/sabrinaauger/.pyenv/versions/3.10.6/envs/wino/lib/python3.10/site-packages (from requests->kaggle) (3.4)\n",
      "Requirement already satisfied: matplotlib in /Users/sabrinaauger/.pyenv/versions/3.10.6/envs/wino/lib/python3.10/site-packages (3.8.2)\n",
      "Requirement already satisfied: contourpy>=1.0.1 in /Users/sabrinaauger/.pyenv/versions/3.10.6/envs/wino/lib/python3.10/site-packages (from matplotlib) (1.2.0)\n",
      "Requirement already satisfied: cycler>=0.10 in /Users/sabrinaauger/.pyenv/versions/3.10.6/envs/wino/lib/python3.10/site-packages (from matplotlib) (0.12.1)\n",
      "Requirement already satisfied: fonttools>=4.22.0 in /Users/sabrinaauger/.pyenv/versions/3.10.6/envs/wino/lib/python3.10/site-packages (from matplotlib) (4.45.1)\n",
      "Requirement already satisfied: kiwisolver>=1.3.1 in /Users/sabrinaauger/.pyenv/versions/3.10.6/envs/wino/lib/python3.10/site-packages (from matplotlib) (1.4.5)\n",
      "Requirement already satisfied: numpy<2,>=1.21 in /Users/sabrinaauger/.pyenv/versions/3.10.6/envs/wino/lib/python3.10/site-packages (from matplotlib) (1.26.2)\n",
      "Requirement already satisfied: packaging>=20.0 in /Users/sabrinaauger/.pyenv/versions/3.10.6/envs/wino/lib/python3.10/site-packages (from matplotlib) (23.2)\n",
      "Requirement already satisfied: pillow>=8 in /Users/sabrinaauger/.pyenv/versions/3.10.6/envs/wino/lib/python3.10/site-packages (from matplotlib) (10.1.0)\n",
      "Requirement already satisfied: pyparsing>=2.3.1 in /Users/sabrinaauger/.pyenv/versions/3.10.6/envs/wino/lib/python3.10/site-packages (from matplotlib) (3.1.1)\n",
      "Requirement already satisfied: python-dateutil>=2.7 in /Users/sabrinaauger/.pyenv/versions/3.10.6/envs/wino/lib/python3.10/site-packages (from matplotlib) (2.8.2)\n",
      "Requirement already satisfied: six>=1.5 in /Users/sabrinaauger/.pyenv/versions/3.10.6/envs/wino/lib/python3.10/site-packages (from python-dateutil>=2.7->matplotlib) (1.16.0)\n"
     ]
    }
   ],
   "source": [
    "# Verify which python environment we are running the notebook on\n",
    "\n",
    "!pyenv version\n",
    "!pip install kaggle\n",
    "!pip install matplotlib\n"
   ]
  },
  {
   "cell_type": "code",
   "execution_count": null,
   "id": "3e51490d",
   "metadata": {},
   "outputs": [],
   "source": [
    "#packages import\n",
    "\n",
    "import matplotlib.pyplot as plt\n",
    "import seaborn as sns\n",
    "import pandas as pd\n",
    "import json\n",
    "import re\n",
    "#from kaggle.api.kaggle_api_extended import KaggleApi\n",
    "#import kaggle\n",
    "import os\n",
    "\n",
    "os.environ['KAGGLE_USERNAME'] = 'sabrinaauger'\n",
    "os.environ['KAGGLE_KEY'] = '8db79b4ccae98a2c74af940e1f1b7c35'\n",
    "os.getcwd()"
   ]
  },
  {
   "cell_type": "code",
   "execution_count": null,
   "id": "10249b47",
   "metadata": {},
   "outputs": [],
   "source": [
    "#Loading Kaggle username and key from user's own .kaggle/kaggle.json\n",
    "\n",
    "def load_kaggle_credentials():\n",
    "    kaggle_creds_path = os.path.expanduser(\"~/.kaggle/kaggle.json\")\n",
    "\n",
    "    if os.path.exists(kaggle_creds_path):\n",
    "        with open(kaggle_creds_path) as f:\n",
    "            kaggle_creds = json.load(f)\n",
    "            return kaggle_creds.get('username'), kaggle_creds.get('key')\n",
    "\n",
    "    return None, None\n",
    "\n",
    "# Load Kaggle credentials\n",
    "kaggle_username, kaggle_key = load_kaggle_credentials()\n",
    "\n",
    "# Authenticate with Kaggle API\n",
    "api = KaggleApi()\n",
    "api.authenticate()\n",
    "\n",
    "#REMOVE AFTER TESTING: Print Kaggle username for testing\n",
    "print(f\"Authenticated as: {kaggle_username}\")\n"
   ]
  },
  {
   "cell_type": "markdown",
   "id": "678660e6",
   "metadata": {},
   "source": [
    "# Import the dataset from Kaggle"
   ]
  },
  {
   "cell_type": "code",
   "execution_count": 149,
   "id": "a203919b",
   "metadata": {},
   "outputs": [
    {
     "name": "stdout",
     "output_type": "stream",
     "text": [
      "Downloading wine-reviews.zip to /Users/sabrinaauger/code/sabrinaauger/wino/notebooks\n",
      "100%|██████████████████████████████████████| 50.9M/50.9M [00:33<00:00, 1.93MB/s]\n",
      "100%|██████████████████████████████████████| 50.9M/50.9M [00:33<00:00, 1.58MB/s]\n"
     ]
    }
   ],
   "source": [
    "#Retrieve the data from Kaggle platform\n",
    "!kaggle datasets download -d zynicide/wine-reviews\n"
   ]
  },
  {
   "cell_type": "code",
   "execution_count": null,
   "id": "8a3b303b",
   "metadata": {},
   "outputs": [],
   "source": [
    "#Unzip the data zip file\n",
    "!unzip wine-reviews.zip"
   ]
  },
  {
   "cell_type": "code",
   "execution_count": null,
   "id": "9ec263ba",
   "metadata": {},
   "outputs": [],
   "source": [
    "#Retrieve the data from csv unzipped files into two dataframes\n",
    "wine1_df=pd.read_csv(\"~/code/sabrinaauger/wino/raw_data/winemag-data-130k-v2.csv\")\n"
   ]
  },
  {
   "cell_type": "code",
   "execution_count": null,
   "id": "98563707",
   "metadata": {},
   "outputs": [],
   "source": [
    "wine2_df=pd.read_csv(\"~/code/sabrinaauger/wino/raw_data/winemag-data_first150k.csv\")\n"
   ]
  },
  {
   "cell_type": "code",
   "execution_count": null,
   "id": "79c814ac",
   "metadata": {},
   "outputs": [],
   "source": [
    "wine2_df.head()\n"
   ]
  },
  {
   "cell_type": "code",
   "execution_count": null,
   "id": "e89fbb11",
   "metadata": {},
   "outputs": [],
   "source": [
    "wine1_df.head()\n"
   ]
  },
  {
   "cell_type": "markdown",
   "id": "9fc7d120",
   "metadata": {},
   "source": [
    "\n",
    "\n"
   ]
  },
  {
   "cell_type": "markdown",
   "id": "79acd551",
   "metadata": {},
   "source": [
    "# Data vizualisation"
   ]
  },
  {
   "cell_type": "code",
   "execution_count": null,
   "id": "309e9cb3",
   "metadata": {},
   "outputs": [],
   "source": [
    "#Columns overview of both datasets\n",
    "wine1_df.columns, wine2_df.columns\n"
   ]
  },
  {
   "cell_type": "code",
   "execution_count": null,
   "id": "50a01096",
   "metadata": {
    "scrolled": true
   },
   "outputs": [],
   "source": [
    "#Analysing the variety column and the unique value\n",
    "wine1_df['variety'].unique()\n"
   ]
  },
  {
   "cell_type": "code",
   "execution_count": null,
   "id": "46fbf56e",
   "metadata": {},
   "outputs": [],
   "source": [
    "# Looking at the description of 1 specific wine\n",
    "index_of_record_to_view = 3\n",
    "des = wine2_df.loc[index_of_record_to_view, 'description']\n",
    "des\n"
   ]
  },
  {
   "cell_type": "code",
   "execution_count": null,
   "id": "ff53ce28",
   "metadata": {},
   "outputs": [],
   "source": [
    "wine1_df.shape, wine2_df.shape\n"
   ]
  },
  {
   "cell_type": "markdown",
   "id": "54e95e0a",
   "metadata": {},
   "source": [
    "# Preprocessing the data "
   ]
  },
  {
   "cell_type": "markdown",
   "id": "df8a4f89",
   "metadata": {},
   "source": [
    "## Cleaning wine1_df and wine2_df dataset "
   ]
  },
  {
   "cell_type": "markdown",
   "id": "a3261685",
   "metadata": {},
   "source": [
    "### Removing Unuseful columns for the recommendation system"
   ]
  },
  {
   "cell_type": "code",
   "execution_count": null,
   "id": "298a2828",
   "metadata": {},
   "outputs": [],
   "source": [
    "#Remove both columns taster name and taster twitter_handle as they are not relevant for our analysis\n",
    "wine_review1_df=wine1_df.drop(columns=[\"taster_twitter_handle\",\"taster_name\",\"Unnamed: 0\"])\n",
    "wine_review2_df=wine2_df.drop(columns=[\"Unnamed: 0\"])\n",
    "#wine_review2_df.head()\n"
   ]
  },
  {
   "cell_type": "code",
   "execution_count": null,
   "id": "25f37794",
   "metadata": {
    "scrolled": true
   },
   "outputs": [],
   "source": [
    "#Extracting the year from the column title in wine1_df\n",
    "\n",
    "# Extract the year from title into a dedicated column using regular expression\n",
    "#regular instruction (\\d{4}) simply looks for four consecutive digits in the strings\n",
    "wine_review1_df['Year']=wine_review1_df['title'].str.extract(r'(\\d{4})')\n",
    "\n",
    "missing_year=wine_review1_df['Year'].isna().sum()\n",
    "print(f'Missing data in year variable : {missing_year} - Decision taken: not adding this additional variable')\n",
    "wine_review1_df.drop(columns='Year', inplace=True)\n"
   ]
  },
  {
   "cell_type": "markdown",
   "id": "1a8a0779",
   "metadata": {},
   "source": [
    "### Duplicates"
   ]
  },
  {
   "cell_type": "code",
   "execution_count": null,
   "id": "2fd1af04",
   "metadata": {
    "scrolled": true
   },
   "outputs": [],
   "source": [
    "#checking if there is any overall duplicates in both datasets\n",
    "print(wine_review1_df.duplicated().sum())\n",
    "print(wine_review2_df.duplicated().sum())\n",
    "print(\"Note - TODO: Check the duplicates 'title' after cleaning the missing data\")\n"
   ]
  },
  {
   "cell_type": "code",
   "execution_count": null,
   "id": "fcbeab99",
   "metadata": {},
   "outputs": [],
   "source": [
    "### Checking at the duplicate\n",
    "duplicates=wine_review1_df[wine_review1_df.duplicated(subset=('title'))]\n",
    "duplicates_sorted = duplicates.sort_values(by=['title'])\n",
    "#duplicates_sorted\n",
    "#should not be considered as duplicates - cleaning the data first\n",
    "\n",
    "\n",
    "duplicates=wine_review2_df[wine_review2_df.duplicated(subset=('designation'))]\n",
    "duplicates_sorted = duplicates.sort_values(by=['designation'])\n",
    "#duplicates_sorted\n",
    "#need to clean the data to interpretate the duplicates\n"
   ]
  },
  {
   "cell_type": "markdown",
   "id": "d5f579cf",
   "metadata": {},
   "source": [
    "### Missing data "
   ]
  },
  {
   "cell_type": "code",
   "execution_count": null,
   "id": "0cc1e62f",
   "metadata": {},
   "outputs": [],
   "source": [
    "#Overall missing data in wine_review1_df dataset\n",
    "wine_review1_df.isna().sum(),wine_review2_df.isna().sum()\n"
   ]
  },
  {
   "cell_type": "markdown",
   "id": "cb408cf1",
   "metadata": {},
   "source": [
    "#### Variety missing data cleaning : "
   ]
  },
  {
   "cell_type": "code",
   "execution_count": null,
   "id": "0fdc5b7b",
   "metadata": {},
   "outputs": [],
   "source": [
    "#Variety missing data\n",
    "wine_review1_df[wine_review1_df['variety'].isna()]\n",
    "#Only one record is missing in wine_review1_df and most of the data for this wine is missing - Decided to remove the record\n",
    "wine_review1_df = wine_review1_df.dropna(subset=['variety'])\n",
    "\n",
    "#As title contains already the information of designation column - decision : drop designation\n",
    "#wine_review1_df=wine_review1_df.drop(columns=['designation'])\n",
    "\n",
    "#print('Decision taken: Dropped the only record wine with missing variety as the record had only missing data')\n",
    "#print('Decision taken: Dropped column designation as title contains already the information')\n"
   ]
  },
  {
   "cell_type": "markdown",
   "id": "7bb3acbe",
   "metadata": {},
   "source": [
    "#### Designation missing data cleaning"
   ]
  },
  {
   "cell_type": "code",
   "execution_count": null,
   "id": "edbcac53",
   "metadata": {},
   "outputs": [],
   "source": [
    "m1=wine_review1_df['designation'].isna().sum()\n",
    "m2=wine_review2_df['designation'].isna().sum()\n",
    "print(f'Designation missing in wine_review1_df:{m1},in wine_review2_df:{m2}')\n"
   ]
  },
  {
   "cell_type": "markdown",
   "id": "1dc6b81e",
   "metadata": {},
   "source": [
    "##### Wine_review1_df"
   ]
  },
  {
   "cell_type": "code",
   "execution_count": null,
   "id": "eb2bb3ee",
   "metadata": {},
   "outputs": [],
   "source": [
    "#Filling the missing designation using title variable\n",
    "\n",
    "wine_review1_df['designation'].fillna(wine_review1_df['title'], inplace=True)\n",
    "def remove_year(designation):\n",
    "    pattern = r'\\b\\d{4}\\b'  # Regex pattern to match four-digit year\n",
    "    return re.sub(pattern, '', designation).strip()\n",
    "\n",
    "# Remove year from 'Designation' column\n",
    "wine_review1_df['designation'] = wine_review1_df['designation'].apply(remove_year)\n",
    "\n",
    "#Dealing with the parentheses values in designation\n",
    "def remove_parentheses_text(designation):\n",
    "    pattern = r'\\s*\\([^)]*\\)'  # Regex pattern to match text within parentheses\n",
    "    return re.sub(pattern, '', designation).strip()\n",
    "\n",
    "# Remove text within parentheses from 'Designation' column\n",
    "wine_review1_df['designation'] = wine_review1_df['designation'].apply(remove_parentheses_text)\n"
   ]
  },
  {
   "cell_type": "markdown",
   "id": "586560a1",
   "metadata": {},
   "source": [
    "##### Wine_review2_df"
   ]
  },
  {
   "cell_type": "code",
   "execution_count": null,
   "id": "e8fe9c74",
   "metadata": {},
   "outputs": [],
   "source": [
    "#As no title provide the designation of the wine the missing designation in wine_review2_df must be dropped\n",
    "wine_review2_df.dropna(subset='designation', inplace=True)\n"
   ]
  },
  {
   "cell_type": "code",
   "execution_count": null,
   "id": "68134b59",
   "metadata": {},
   "outputs": [],
   "source": [
    "wine_review1_df.isna().sum()\n"
   ]
  },
  {
   "cell_type": "markdown",
   "id": "1b4b0e95",
   "metadata": {},
   "source": [
    "#### Region missing data cleaning\n",
    "Analysing the region_1 and region_2 variables and missing data:"
   ]
  },
  {
   "cell_type": "markdown",
   "id": "904139f7",
   "metadata": {},
   "source": [
    "##### Wine_review1_df"
   ]
  },
  {
   "cell_type": "code",
   "execution_count": null,
   "id": "330bc0a1",
   "metadata": {},
   "outputs": [],
   "source": [
    "wine_review1_df.head()\n"
   ]
  },
  {
   "cell_type": "code",
   "execution_count": null,
   "id": "97b47316",
   "metadata": {},
   "outputs": [],
   "source": [
    "#Analysing the region_1 and region_2 variables\n",
    "#1st strategy: region_1 and region_2 Filling the missing data in region_1 with region_2 when applicable\n",
    "wine_review1_df['region_1'].fillna(wine_review1_df['region_2'], inplace=True)\n",
    "wine_review1_df['region_1'].isna().sum()\n"
   ]
  },
  {
   "cell_type": "code",
   "execution_count": null,
   "id": "0a41dfec",
   "metadata": {},
   "outputs": [],
   "source": [
    "#Removing the region_2 column from the dataset\n",
    "wine_review1_df.drop(columns='region_2', inplace=True)\n"
   ]
  },
  {
   "cell_type": "code",
   "execution_count": null,
   "id": "c3dfe36b",
   "metadata": {},
   "outputs": [],
   "source": [
    "wine_review1_df.isna().sum()\n"
   ]
  },
  {
   "cell_type": "code",
   "execution_count": null,
   "id": "cbf7d89d",
   "metadata": {},
   "outputs": [],
   "source": [
    "#import re #import re module for regular expressions\n",
    "#filling the missing region with the region displayed in the title\n",
    "\n",
    "#Function to extract the content within parentheses from title column\n",
    "def extract(s):\n",
    "    if isinstance(s, str):\n",
    "        extracted = re.search(r'\\((.*?)\\)', s)\n",
    "        if extracted:\n",
    "            return extracted.group(1)\n",
    "    return None\n",
    "wine_review1_df['region_1'].fillna(wine_review1_df['title'].apply(extract), inplace=True)\n",
    "\n",
    "wine_review1_df[wine_review1_df['region_1'].isna()]\n",
    "\n",
    "#412 instances don't have a region displayed but have other useful data available\n"
   ]
  },
  {
   "cell_type": "markdown",
   "id": "5b4dfac7",
   "metadata": {},
   "source": [
    "- Filling the missing region_1 data when applicable using title"
   ]
  },
  {
   "cell_type": "code",
   "execution_count": null,
   "id": "50544914",
   "metadata": {
    "scrolled": true
   },
   "outputs": [],
   "source": [
    "#checking the data that have both missing province and region\n",
    "check = wine_review1_df['region_1'].isnull() & wine_review1_df['province'].isnull()\n",
    "# Filter the DataFrame based on the condition\n",
    "rows_missing_region_province = wine_review1_df[check]\n",
    "#rows_missing_region_province\n",
    "\n",
    "wine_review1_df['region_1'].fillna(wine_review1_df['province'], inplace=True)\n"
   ]
  },
  {
   "cell_type": "code",
   "execution_count": null,
   "id": "3775dd28",
   "metadata": {},
   "outputs": [],
   "source": [
    "wine_review1_df['region_1'].isna().sum()\n"
   ]
  },
  {
   "cell_type": "code",
   "execution_count": null,
   "id": "00bdf60a",
   "metadata": {},
   "outputs": [],
   "source": [
    "#wine_review1_df[wine_review1_df['region_1'].isna()]\n",
    "#dropping the 63 remaining instances that don't have country , province and region filled\n",
    "wine_review1_df.dropna(subset='region_1', inplace=True)\n"
   ]
  },
  {
   "cell_type": "markdown",
   "id": "c76ee500",
   "metadata": {},
   "source": [
    "##### Wine_review2_df"
   ]
  },
  {
   "cell_type": "code",
   "execution_count": null,
   "id": "4f1eb914",
   "metadata": {
    "heading_collapsed": true
   },
   "outputs": [],
   "source": [
    "#Analysing the region_1 and region_2 variables\n",
    "#1st strategy: region_1 and region_2 Filling the missing data in region_1 with region_2 when applicable\n",
    "wine_review2_df['region_1'].fillna(wine_review2_df['region_2'], inplace=True)\n",
    "wine_review2_df['region_1'].isna().sum()\n"
   ]
  },
  {
   "cell_type": "code",
   "execution_count": null,
   "id": "6f05036f",
   "metadata": {},
   "outputs": [],
   "source": [
    "#Removing the region_2 column from the dataset\n",
    "wine_review2_df.drop(columns='region_2', inplace=True)\n"
   ]
  },
  {
   "cell_type": "code",
   "execution_count": null,
   "id": "dfe44395",
   "metadata": {},
   "outputs": [],
   "source": [
    "\n",
    "wine_review2_df['region_1'].fillna(wine_review2_df['province'], inplace=True)\n",
    "wine_review2_df[wine_review2_df['region_1'].isna()]\n",
    "wine_review2_df.dropna(subset='region_1', inplace=True)\n"
   ]
  },
  {
   "cell_type": "markdown",
   "id": "9a0ea4af",
   "metadata": {},
   "source": [
    "### Missing province variable"
   ]
  },
  {
   "cell_type": "markdown",
   "id": "67fb296d",
   "metadata": {},
   "source": [
    "##### Wine_review1_df"
   ]
  },
  {
   "cell_type": "code",
   "execution_count": null,
   "id": "887e7507",
   "metadata": {},
   "outputs": [],
   "source": [
    "#Displaying the missing data\n",
    "wine_review1_df[wine_review1_df['province'].isna()]\n",
    "wine_review1_df.shape[0]\n"
   ]
  },
  {
   "cell_type": "code",
   "execution_count": null,
   "id": "d93b85a9",
   "metadata": {},
   "outputs": [],
   "source": [
    "#Trying to fill the missing province with the title information\n",
    "\n",
    "def extract_province_from_title(title):\n",
    "    pattern = r'\\((.*?)\\)'  # Regex pattern to match text within parentheses\n",
    "    match = re.search(pattern, title)\n",
    "    if match:\n",
    "        return match.group(1)\n",
    "    else:\n",
    "        return None\n",
    "\n",
    "# Extract province from 'Title' column\n",
    "wine_review1_df['extracted_Province'] = wine_review1_df['title'].apply(extract_province_from_title)\n",
    "\n",
    "# Fill missing 'Province' values with extracted province information\n",
    "wine_review1_df['province'].fillna(wine_review1_df['extracted_Province'], inplace=True)\n",
    "wine_review1_df.drop(columns=['extracted_Province'], inplace=True)\n"
   ]
  },
  {
   "cell_type": "code",
   "execution_count": null,
   "id": "51df4214",
   "metadata": {},
   "outputs": [],
   "source": [
    "wine_review1_df.isna().sum()\n"
   ]
  },
  {
   "cell_type": "markdown",
   "id": "c200781e",
   "metadata": {},
   "source": [
    "##### Wine_review2_df"
   ]
  },
  {
   "cell_type": "code",
   "execution_count": null,
   "id": "609d0927",
   "metadata": {},
   "outputs": [],
   "source": [
    "wine_review2_df.isna().sum()\n"
   ]
  },
  {
   "cell_type": "markdown",
   "id": "a778bd43",
   "metadata": {},
   "source": [
    "### Missing price\n",
    "Decision taken : Missing price filled with mean price of wines with same variety"
   ]
  },
  {
   "cell_type": "markdown",
   "id": "012cf9c0",
   "metadata": {},
   "source": [
    "##### Wine_review1_df"
   ]
  },
  {
   "cell_type": "code",
   "execution_count": null,
   "id": "9c47f52f",
   "metadata": {},
   "outputs": [],
   "source": [
    "#Frequency of each unique variety\n",
    "wine_variety=pd.DataFrame(wine_review1_df['variety'].value_counts())\n",
    "\n",
    "#Calculating the mean price per variety\n",
    "mean_price_per_variety=pd.DataFrame(wine_review1_df.groupby('variety')['price'].mean())\n",
    "mean_price_per_variety\n",
    "\n",
    "#Replacing the missing price with mean price of same variety of wine when applicable\n",
    "\n",
    "wine_review1_df = pd.merge(wine_review1_df, mean_price_per_variety, on='variety', how='left',suffixes=('', '_mean'))\n",
    "wine_review1_df['price'] = wine_review1_df.apply(lambda row: row['price_mean'] if pd.isnull(row['price']) else row['price'], axis=1)\n"
   ]
  },
  {
   "cell_type": "code",
   "execution_count": null,
   "id": "07947c31",
   "metadata": {},
   "outputs": [],
   "source": [
    "wine_review1_df=wine_review1_df.drop(columns=['price_mean'])\n"
   ]
  },
  {
   "cell_type": "code",
   "execution_count": null,
   "id": "ac593a19",
   "metadata": {},
   "outputs": [],
   "source": [
    "wine_review1_df['price']=wine_review1_df['price'].round(2)\n",
    "#wine_review1_df\n"
   ]
  },
  {
   "cell_type": "code",
   "execution_count": null,
   "id": "72e0973b",
   "metadata": {},
   "outputs": [],
   "source": [
    "wine_review1_df=wine_review1_df.dropna()\n",
    "wine_review1_df.isna().sum()\n"
   ]
  },
  {
   "cell_type": "markdown",
   "id": "76fb35a3",
   "metadata": {},
   "source": [
    "##### Wine_review2_df"
   ]
  },
  {
   "cell_type": "code",
   "execution_count": null,
   "id": "5db59342",
   "metadata": {},
   "outputs": [],
   "source": [
    "#Frequency of each unique variety\n",
    "wine_variety=pd.DataFrame(wine_review2_df['variety'].value_counts())\n",
    "\n",
    "#Calculating the mean price per variety\n",
    "mean_price_per_variety=pd.DataFrame(wine_review2_df.groupby('variety')['price'].mean())\n",
    "mean_price_per_variety\n",
    "\n",
    "#Replacing the missing price with mean price of same variety of wine when applicable\n",
    "\n",
    "wine_review2_df = pd.merge(wine_review1_df, mean_price_per_variety, on='variety', how='left',suffixes=('', '_mean'))\n",
    "wine_review2_df['price'] = wine_review1_df.apply(lambda row: row['price_mean'] if pd.isnull(row['price']) else row['price'], axis=1)\n"
   ]
  },
  {
   "cell_type": "code",
   "execution_count": null,
   "id": "83831229",
   "metadata": {},
   "outputs": [],
   "source": [
    "wine_review2_df=wine_review2_df.drop(columns=['price_mean'])\n"
   ]
  },
  {
   "cell_type": "code",
   "execution_count": null,
   "id": "81030e92",
   "metadata": {},
   "outputs": [],
   "source": [
    "wine_review2_df['price']=wine_review2_df['price'].round(2)\n",
    "#wine_review1_df\n"
   ]
  },
  {
   "cell_type": "code",
   "execution_count": null,
   "id": "dccd735e",
   "metadata": {},
   "outputs": [],
   "source": [
    "wine_review2_df=wine_review2_df.dropna()\n",
    "wine_review2_df.isna().sum()"
   ]
  },
  {
   "cell_type": "code",
   "execution_count": null,
   "id": "d64696cd-76ee-4e60-9b95-19bb0a28017a",
   "metadata": {},
   "outputs": [],
   "source": [
    "wine_review1_df.columns, wine_review2_df.columns"
   ]
  },
  {
   "cell_type": "markdown",
   "id": "db8f0c06-0957-4610-85c7-5e14862854da",
   "metadata": {},
   "source": [
    "#### Removing the variable title from wine_review1_df \n",
    "Not relevant as other variables already contain the info in title "
   ]
  },
  {
   "cell_type": "code",
   "execution_count": null,
   "id": "47a7319a-62ef-4a33-8af9-91e01fa8ad1c",
   "metadata": {},
   "outputs": [],
   "source": [
    "wine_review1_df.drop(columns='title', inplace=True)\n",
    "wine_review2_df.drop(columns='title', inplace=True)\n"
   ]
  },
  {
   "cell_type": "markdown",
   "id": "da6a0c0c-4d51-45f2-953e-7cfb4a467e73",
   "metadata": {},
   "source": [
    "### Merging both datasets"
   ]
  },
  {
   "cell_type": "code",
   "execution_count": null,
   "id": "c3c25510-c4c4-486d-8035-b8d569d2246b",
   "metadata": {},
   "outputs": [],
   "source": [
    "wine_review1_df.isna().sum(), wine_review2_df.isna().sum()\n"
   ]
  },
  {
   "cell_type": "code",
   "execution_count": null,
   "id": "d81c5e8d-04d4-47c8-a6f2-226b50fb5afc",
   "metadata": {},
   "outputs": [],
   "source": [
    "wine_reviews_df=pd.concat([wine_review1_df, wine_review2_df])\n"
   ]
  },
  {
   "cell_type": "code",
   "execution_count": null,
   "id": "8f732e75-c492-4044-99e3-3adfe647063f",
   "metadata": {},
   "outputs": [],
   "source": [
    "wine_reviews_df.shape\n"
   ]
  },
  {
   "cell_type": "code",
   "execution_count": null,
   "id": "115500bc-a05c-45aa-b62c-6cf073c636a2",
   "metadata": {},
   "outputs": [],
   "source": [
    "wine_reviews_df.isna().sum()\n",
    "wine_reviews_df.head()\n"
   ]
  },
  {
   "cell_type": "markdown",
   "id": "a0819207-b05b-495a-b4bc-5b2eb3ad70e7",
   "metadata": {},
   "source": [
    "###  Outliers and anomalies\n",
    "\n"
   ]
  },
  {
   "cell_type": "markdown",
   "id": "7c86c13f-fa8e-4c93-8d28-82325dae3f9f",
   "metadata": {},
   "source": [
    "#### Numerical data : Identifying outliers \n",
    "- if >480k euros => most expensive bottle in the world\n",
    "- if >100 for score"
   ]
  },
  {
   "cell_type": "code",
   "execution_count": null,
   "id": "1e955a3a-3426-4499-8c84-326cab2c328f",
   "metadata": {},
   "outputs": [],
   "source": [
    "from scipy import stats\n",
    "\n",
    "# Assuming df is your DataFrame\n",
    "numerical_columns = wine_reviews_df.select_dtypes(include=['float64', 'int64']).columns\n",
    "numerical_columns"
   ]
  },
  {
   "cell_type": "code",
   "execution_count": null,
   "id": "2493f60a-fa46-4170-9802-49d30500c234",
   "metadata": {},
   "outputs": [],
   "source": [
    "# Finding outliers\n",
    "threshold_point=100\n",
    "threshold_price=480000\n",
    "outliers_point = wine_reviews_df[(abs(wine_reviews_df['points']) > threshold_point)]\n",
    "outliers_price = wine_reviews_df[(abs(wine_reviews_df['price'])> threshold_price)]\n"
   ]
  },
  {
   "cell_type": "code",
   "execution_count": null,
   "id": "377492ce-9f31-4aeb-be49-3350e9bc309f",
   "metadata": {},
   "outputs": [],
   "source": [
    "#Displaying the outliers\n",
    "outliers_point\n",
    "outliers_price\n",
    "#No price or points outliers\n"
   ]
  },
  {
   "cell_type": "markdown",
   "id": "e958c44c-9fac-47fb-9fd0-c14dbbe0a919",
   "metadata": {},
   "source": [
    "=> No price or points outliers "
   ]
  },
  {
   "cell_type": "markdown",
   "id": "f187a428-7af6-4f54-b836-dddc2f78858f",
   "metadata": {},
   "source": [
    "#### Categorical data : Identifying outliers "
   ]
  },
  {
   "cell_type": "markdown",
   "id": "4e70cc6b-0f87-4563-b48b-1c5f53f040bd",
   "metadata": {},
   "source": []
  },
  {
   "cell_type": "code",
   "execution_count": null,
   "id": "87e25d70-be50-428c-ad23-0b069e71006a",
   "metadata": {},
   "outputs": [],
   "source": [
    "import stat\n",
    "\n",
    "#wine_reviews_df.info()\n",
    "categorical_columns=wine_reviews_df.select_dtypes(include='object').columns\n"
   ]
  },
  {
   "cell_type": "code",
   "execution_count": null,
   "id": "1bda3528-7de2-46d1-85fb-7f10aa90fee4",
   "metadata": {},
   "outputs": [],
   "source": [
    "categorical_columns"
   ]
  },
  {
   "cell_type": "markdown",
   "id": "e0a63109-81ff-4893-b303-d0c9f578d0ed",
   "metadata": {},
   "source": [
    "##### Country"
   ]
  },
  {
   "cell_type": "code",
   "execution_count": null,
   "id": "82cc7e1e-63d4-4e2c-9ee0-3814032aa55e",
   "metadata": {},
   "outputs": [],
   "source": [
    "# Set max rows to display to a high number to show all unique values\n",
    "pd.set_option('display.max_rows', None)\n",
    "\n",
    "wine_reviews_df['country'].value_counts()\n",
    "#No issue"
   ]
  },
  {
   "cell_type": "markdown",
   "id": "c2fb568a-097b-49a4-96f0-bf9e4b7f41c3",
   "metadata": {},
   "source": [
    "##### Designation and variety\n",
    "- Both columns should be merged as they provide better understanding of the wine variety together - new variable created"
   ]
  },
  {
   "cell_type": "code",
   "execution_count": null,
   "id": "10e1f00c-708c-4dfb-83af-3da49ca3ded1",
   "metadata": {},
   "outputs": [],
   "source": [
    "wine_reviews_df['designation'].value_counts()\n",
    "#Designation column has false values and is an additional information given by the wine variety variable\n",
    "#decision merging both column as unique wine variety variable\n",
    "wine_reviews_df['wine_variety']=wine_reviews_df['designation']+' '+wine_reviews_df['variety']"
   ]
  },
  {
   "cell_type": "code",
   "execution_count": null,
   "id": "a2b65ea7-7f5b-40b8-88d3-719c89e5ff38",
   "metadata": {},
   "outputs": [],
   "source": [
    "#Removing repeated word in wine_variety created column\n",
    "\n",
    "def remove_repeated_words(text):\n",
    "    words = text.split()\n",
    "    unique_words = []\n",
    "    count = {}\n",
    "    \n",
    "    for word in words:\n",
    "        count[word] = count.get(word, 0) + 1\n",
    "        if count[word] <= 2:\n",
    "            unique_words.append(word)\n",
    "    \n",
    "    return ' '.join(unique_words)\n",
    "\n",
    "# Apply the function to the DataFrame column\n",
    "wine_reviews_df['wine_variety'] = wine_reviews_df['wine_variety'].apply(remove_repeated_words)\n"
   ]
  },
  {
   "cell_type": "code",
   "execution_count": null,
   "id": "566f4c93-a35c-4641-a496-66ef9e195e83",
   "metadata": {
    "scrolled": true
   },
   "outputs": [],
   "source": [
    "# Delete both columns designation and variety after columns merge\n",
    "\n",
    "wine_reviews_df"
   ]
  },
  {
   "cell_type": "markdown",
   "id": "83e2f727-8f1c-4a57-8f9d-33bc5e3f60fc",
   "metadata": {},
   "source": [
    "#####  Province"
   ]
  },
  {
   "cell_type": "code",
   "execution_count": null,
   "id": "3898cb86-84c0-4e64-b3ef-bd2da73559aa",
   "metadata": {},
   "outputs": [],
   "source": [
    "wine_reviews_df['province'].value_counts()\n",
    "# No outliers or anonalies found "
   ]
  },
  {
   "cell_type": "code",
   "execution_count": null,
   "id": "97a61c9e-63b1-4a36-8045-b3766681f77b",
   "metadata": {},
   "outputs": [],
   "source": [
    "wine_reviews_df.head()"
   ]
  },
  {
   "cell_type": "code",
   "execution_count": null,
   "id": "83abc8f9-aeff-4740-8eff-f423a399b771",
   "metadata": {},
   "outputs": [],
   "source": [
    "wine_reviews_df['winery'].value_counts()\n",
    "# No winery outliers or anomalies found "
   ]
  },
  {
   "cell_type": "markdown",
   "id": "d16a50c1-d1e2-4a59-a418-8d46b1c6a245",
   "metadata": {},
   "source": [
    "\n",
    "#### Create wine type dictionary"
   ]
  },
  {
   "cell_type": "code",
   "execution_count": null,
   "id": "1d5b0b39-174a-4897-b44b-3f7668f6b9e1",
   "metadata": {},
   "outputs": [],
   "source": [
    "unique_variety=wine_reviews_df['wine_variety'].unique()\n",
    "#pd.set_option('display.max_rows', None)\n"
   ]
  },
  {
   "cell_type": "code",
   "execution_count": null,
   "id": "38462e2c-a45f-4682-b68b-ec7acd56bb30",
   "metadata": {},
   "outputs": [],
   "source": [
    "list(unique_variety)"
   ]
  },
  {
   "cell_type": "code",
   "execution_count": 69,
   "id": "f8fc663f-49e8-47bb-a1d6-e3cc0c3ec046",
   "metadata": {},
   "outputs": [],
   "source": [
    "variety_to_type={}\n",
    "\n",
    "\n",
    "def assign_type(variety):\n",
    "    red_varieties = ['Cabernet Sauvignon', 'Merlot', 'Pinot Noir', 'Syrah','Sirah', 'Zinfandel', 'Malbec', 'Red',\"Nero d'Avola\",'Noir'\n",
    "                    ]\n",
    "    white_varieties = ['Chardonnay', 'Riesling', 'Sauvignon Blanc', 'Pinot Grigio', 'Gewürztraminer','Bianco', \n",
    "                       'White','White Blend', 'Gris','Blanc','Viognier']\n",
    "    rose_varieties=['Rose','Rosé','Rosato','']\n",
    "    sparkling_varieties = ['Champagne', 'Prosecco', 'Cava','Sparkling']\n",
    "\n",
    "    if any(variety.str.contains(var) for var in white_varieties):\n",
    "        return 'White'\n",
    "    elif any(variety.str.contains(var) for var in red_varieties):\n",
    "        return 'Red'\n",
    "    elif any(variety.str.contains(var) for var in sparkling_varieties:\n",
    "        return 'Sparkling'\n",
    "    else:\n",
    "        return 'Other' \n",
    "\n",
    "\n",
    "for variety in unique_varieties:\n",
    "    # Manually assign types based on the variety and on the logic built in the assign_type function\n",
    "    variety_to_type[variety] = assign_type(variety) "
   ]
  },
  {
   "cell_type": "code",
   "execution_count": null,
   "id": "f1064cf8-1a51-48e7-903f-a36d85b455c6",
   "metadata": {},
   "outputs": [],
   "source": []
  }
 ],
 "metadata": {
  "kernelspec": {
   "display_name": "Python 3 (ipykernel)",
   "language": "python",
   "name": "python3"
  },
  "language_info": {
   "codemirror_mode": {
    "name": "ipython",
    "version": 3
   },
   "file_extension": ".py",
   "mimetype": "text/x-python",
   "name": "python",
   "nbconvert_exporter": "python",
   "pygments_lexer": "ipython3",
   "version": "3.10.6"
  },
  "toc": {
   "base_numbering": 1,
   "nav_menu": {},
   "number_sections": true,
   "sideBar": true,
   "skip_h1_title": false,
   "title_cell": "Table of Contents",
   "title_sidebar": "Contents",
   "toc_cell": false,
   "toc_position": {},
   "toc_section_display": true,
   "toc_window_display": false
  }
 },
 "nbformat": 4,
 "nbformat_minor": 5
}
