{
 "cells": [
  {
   "cell_type": "markdown",
   "id": "b3bfed6d",
   "metadata": {},
   "source": [
    "# Import"
   ]
  },
  {
   "cell_type": "code",
   "execution_count": 162,
   "id": "4b4cb960",
   "metadata": {},
   "outputs": [
    {
     "name": "stdout",
     "output_type": "stream",
     "text": [
      "Requirement already satisfied: kaggle in /Users/sabrinaauger/.pyenv/versions/3.10.6/envs/lewagon/lib/python3.10/site-packages (1.5.12)\n",
      "Requirement already satisfied: six>=1.10 in /Users/sabrinaauger/.pyenv/versions/3.10.6/envs/lewagon/lib/python3.10/site-packages (from kaggle) (1.16.0)\n",
      "Requirement already satisfied: certifi in /Users/sabrinaauger/.pyenv/versions/3.10.6/envs/lewagon/lib/python3.10/site-packages (from kaggle) (2022.9.24)\n",
      "Requirement already satisfied: python-dateutil in /Users/sabrinaauger/.pyenv/versions/3.10.6/envs/lewagon/lib/python3.10/site-packages (from kaggle) (2.8.2)\n",
      "Requirement already satisfied: requests in /Users/sabrinaauger/.pyenv/versions/3.10.6/envs/lewagon/lib/python3.10/site-packages (from kaggle) (2.28.1)\n",
      "Requirement already satisfied: tqdm in /Users/sabrinaauger/.pyenv/versions/3.10.6/envs/lewagon/lib/python3.10/site-packages (from kaggle) (4.64.1)\n",
      "Requirement already satisfied: python-slugify in /Users/sabrinaauger/.pyenv/versions/3.10.6/envs/lewagon/lib/python3.10/site-packages (from kaggle) (6.1.2)\n",
      "Requirement already satisfied: urllib3 in /Users/sabrinaauger/.pyenv/versions/3.10.6/envs/lewagon/lib/python3.10/site-packages (from kaggle) (1.26.12)\n",
      "Requirement already satisfied: text-unidecode>=1.3 in /Users/sabrinaauger/.pyenv/versions/3.10.6/envs/lewagon/lib/python3.10/site-packages (from python-slugify->kaggle) (1.3)\n",
      "Requirement already satisfied: charset-normalizer<3,>=2 in /Users/sabrinaauger/.pyenv/versions/3.10.6/envs/lewagon/lib/python3.10/site-packages (from requests->kaggle) (2.1.1)\n",
      "Requirement already satisfied: idna<4,>=2.5 in /Users/sabrinaauger/.pyenv/versions/3.10.6/envs/lewagon/lib/python3.10/site-packages (from requests->kaggle) (3.4)\n"
     ]
    }
   ],
   "source": [
    "#packages import\n",
    "!pip install kaggle\n",
    "import matplotlib.pyplot as plt\n",
    "import seaborn as sns\n",
    "import pandas as pd\n",
    "import os\n",
    "os.environ['KAGGLE_USERNAME'] = \"sabrinaauger\"\n",
    "os.environ['KAGGLE_KEY'] = \"8db79b4ccae98a2c74af940e1f1b7c35\"\n",
    "import kaggle"
   ]
  },
  {
   "cell_type": "markdown",
   "id": "2472a3ab",
   "metadata": {},
   "source": [
    "# Import the dataset from Kaggle"
   ]
  },
  {
   "cell_type": "code",
   "execution_count": 163,
   "id": "c9fb844f",
   "metadata": {},
   "outputs": [
    {
     "name": "stdout",
     "output_type": "stream",
     "text": [
      "wine-reviews.zip: Skipping, found more recently modified local copy (use --force to force download)\r\n"
     ]
    }
   ],
   "source": [
    "#Retrieve the data from Kaggle platform\n",
    "!kaggle datasets download -d zynicide/wine-reviews"
   ]
  },
  {
   "cell_type": "code",
   "execution_count": 164,
   "id": "fd9e0188",
   "metadata": {},
   "outputs": [
    {
     "name": "stdout",
     "output_type": "stream",
     "text": [
      "Archive:  wine-reviews.zip\n",
      "replace winemag-data-130k-v2.csv? [y]es, [n]o, [A]ll, [N]one, [r]ename: ^C\n"
     ]
    }
   ],
   "source": [
    "#Unzip the data zip file\n",
    "!unzip wine-reviews.zip"
   ]
  },
  {
   "cell_type": "code",
   "execution_count": 512,
   "id": "fb3d44f1",
   "metadata": {},
   "outputs": [],
   "source": [
    "#Retrieve the data from csv unzipped files into two dataframes\n",
    "wine1_df=pd.read_csv(\"/Users/sabrinaauger/code/sabrinaauger/wino/raw_data/winemag-data-130k-v2.csv\")"
   ]
  },
  {
   "cell_type": "code",
   "execution_count": 513,
   "id": "8091e843",
   "metadata": {},
   "outputs": [],
   "source": [
    "wine2_df=pd.read_csv(\"/Users/sabrinaauger/code/sabrinaauger/wino/raw_data/winemag-data_first150k.csv\")"
   ]
  },
  {
   "cell_type": "code",
   "execution_count": 482,
   "id": "53465b08",
   "metadata": {},
   "outputs": [],
   "source": [
    "#wine2_df.head()"
   ]
  },
  {
   "cell_type": "code",
   "execution_count": 507,
   "id": "c1d52070",
   "metadata": {},
   "outputs": [],
   "source": [
    "#wine1_df.head()"
   ]
  },
  {
   "cell_type": "markdown",
   "id": "8f5318a7",
   "metadata": {},
   "source": [
    "\n",
    "\n"
   ]
  },
  {
   "cell_type": "markdown",
   "id": "0b262344",
   "metadata": {},
   "source": [
    "# Data vizualisation"
   ]
  },
  {
   "cell_type": "code",
   "execution_count": 600,
   "id": "64df61b3",
   "metadata": {},
   "outputs": [
    {
     "data": {
      "text/plain": [
       "(Index(['Unnamed: 0', 'country', 'description', 'designation', 'points',\n",
       "        'price', 'province', 'region_1', 'region_2', 'taster_name',\n",
       "        'taster_twitter_handle', 'title', 'variety', 'winery'],\n",
       "       dtype='object'),\n",
       " Index(['Unnamed: 0', 'country', 'description', 'designation', 'points',\n",
       "        'price', 'province', 'region_1', 'region_2', 'variety', 'winery'],\n",
       "       dtype='object'))"
      ]
     },
     "execution_count": 600,
     "metadata": {},
     "output_type": "execute_result"
    }
   ],
   "source": [
    "#Columns overview of both datasets\n",
    "wine1_df.columns, wine2_df.columns"
   ]
  },
  {
   "cell_type": "code",
   "execution_count": 601,
   "id": "c3fce2fd",
   "metadata": {},
   "outputs": [],
   "source": [
    "#Analysing the variety column and the unique value\n",
    "#wine1_df['variety'].unique()"
   ]
  },
  {
   "cell_type": "code",
   "execution_count": 602,
   "id": "770c7f19",
   "metadata": {},
   "outputs": [
    {
     "data": {
      "text/plain": [
       "\"This spent 20 months in 30% new French oak, and incorporates fruit from Ponzi's Aurora, Abetina and Madrona vineyards, among others. Aromatic, dense and toasty, it deftly blends aromas and flavors of toast, cigar box, blackberry, black cherry, coffee and graphite. Tannins are polished to a fine sheen, and frame a finish loaded with dark chocolate and espresso. Drink now through 2032.\""
      ]
     },
     "execution_count": 602,
     "metadata": {},
     "output_type": "execute_result"
    }
   ],
   "source": [
    "# Looking at the description of 1 specific wine\n",
    "index_of_record_to_view = 3\n",
    "des = wine2_df.loc[index_of_record_to_view, 'description']\n",
    "des"
   ]
  },
  {
   "cell_type": "code",
   "execution_count": 603,
   "id": "bb989f5a",
   "metadata": {},
   "outputs": [
    {
     "data": {
      "text/plain": [
       "((120915, 10), (120915, 10))"
      ]
     },
     "execution_count": 603,
     "metadata": {},
     "output_type": "execute_result"
    }
   ],
   "source": [
    "wine_review1_df.shape, wine_review2_df.shape"
   ]
  },
  {
   "cell_type": "markdown",
   "id": "d387f414",
   "metadata": {},
   "source": [
    "# Preprocessing the data "
   ]
  },
  {
   "cell_type": "markdown",
   "id": "65cd1e6b",
   "metadata": {},
   "source": [
    "## Cleaning wine1_df and wine2_df dataset "
   ]
  },
  {
   "cell_type": "markdown",
   "id": "6625f137",
   "metadata": {},
   "source": [
    "### Removing Unuseful columns for the recommendation system"
   ]
  },
  {
   "cell_type": "code",
   "execution_count": 604,
   "id": "91ae9c18",
   "metadata": {},
   "outputs": [],
   "source": [
    "#Remove both columns taster name and taster twitter_handle as they are not relevant for our analysis\n",
    "wine_review1_df=wine1_df.drop(columns=[\"taster_twitter_handle\",\"taster_name\",\"Unnamed: 0\"])\n",
    "wine_review2_df=wine2_df.drop(columns=[\"Unnamed: 0\"])\n",
    "#wine_review2_df.head()\n"
   ]
  },
  {
   "cell_type": "code",
   "execution_count": 605,
   "id": "220af375",
   "metadata": {
    "scrolled": true
   },
   "outputs": [
    {
     "name": "stdout",
     "output_type": "stream",
     "text": [
      "Missing data in year variable : 4609 - Decision taken: not adding this additional variable\n"
     ]
    }
   ],
   "source": [
    "#Extracting the year from the column title in wine1_df\n",
    "\n",
    "# Extract the year from title into a dedicated column using regular expression\n",
    "#regular instruction (\\d{4}) simply looks for four consecutive digits in the strings\n",
    "wine_review1_df['Year']=wine_review1_df['title'].str.extract(r'(\\d{4})')\n",
    "\n",
    "missing_year=wine_review1_df['Year'].isna().sum()\n",
    "print(f'Missing data in year variable : {missing_year} - Decision taken: not adding this additional variable')\n",
    "wine_review1_df.drop(columns='Year', inplace=True)"
   ]
  },
  {
   "cell_type": "markdown",
   "id": "dcd9e723",
   "metadata": {},
   "source": [
    "### Duplicates"
   ]
  },
  {
   "cell_type": "code",
   "execution_count": 606,
   "id": "77171e38",
   "metadata": {
    "scrolled": true
   },
   "outputs": [
    {
     "name": "stdout",
     "output_type": "stream",
     "text": [
      "9983\n",
      "53079\n",
      "Note - TODO: Check the duplicates 'title' after cleaning the missing data\n"
     ]
    }
   ],
   "source": [
    "#checking if there is any overall duplicates in both datasets\n",
    "print(wine_review1_df.duplicated().sum())\n",
    "print(wine_review2_df.duplicated().sum())\n",
    "print(\"Note - TODO: Check the duplicates 'title' after cleaning the missing data\")"
   ]
  },
  {
   "cell_type": "code",
   "execution_count": 607,
   "id": "381a8296",
   "metadata": {},
   "outputs": [],
   "source": [
    "### Checking at the duplicate\n",
    "duplicates=wine_review1_df[wine_review1_df.duplicated(subset=('title'))]\n",
    "duplicates_sorted = duplicates.sort_values(by=['title'])\n",
    "#duplicates_sorted\n",
    "#should not be considered as duplicates - cleaning the data first\n",
    "\n",
    "\n",
    "duplicates=wine_review2_df[wine_review2_df.duplicated(subset=('designation'))]\n",
    "duplicates_sorted = duplicates.sort_values(by=['designation'])\n",
    "#duplicates_sorted\n",
    "#need to clean the data to interpretate the duplicates"
   ]
  },
  {
   "cell_type": "markdown",
   "id": "9f9e8818",
   "metadata": {},
   "source": [
    "### Missing data "
   ]
  },
  {
   "cell_type": "code",
   "execution_count": 608,
   "id": "e356fe51",
   "metadata": {},
   "outputs": [
    {
     "data": {
      "text/plain": [
       "(country           63\n",
       " description        0\n",
       " designation    37465\n",
       " points             0\n",
       " price           8996\n",
       " province          63\n",
       " region_1       21247\n",
       " region_2       79460\n",
       " title              0\n",
       " variety            1\n",
       " winery             0\n",
       " dtype: int64,\n",
       " country            5\n",
       " description        0\n",
       " designation    45735\n",
       " points             0\n",
       " price          13695\n",
       " province           5\n",
       " region_1       25060\n",
       " region_2       89977\n",
       " variety            0\n",
       " winery             0\n",
       " dtype: int64)"
      ]
     },
     "execution_count": 608,
     "metadata": {},
     "output_type": "execute_result"
    }
   ],
   "source": [
    "#Overall missing data in wine_review1_df dataset\n",
    "wine_review1_df.isna().sum(),wine_review2_df.isna().sum()"
   ]
  },
  {
   "cell_type": "markdown",
   "id": "fdd45ad6",
   "metadata": {},
   "source": [
    "#### Variety missing data cleaning : "
   ]
  },
  {
   "cell_type": "code",
   "execution_count": 609,
   "id": "cdd4d1cf",
   "metadata": {},
   "outputs": [],
   "source": [
    "#Variety missing data \n",
    "wine_review1_df[wine_review1_df['variety'].isna()]\n",
    "#Only one record is missing in wine_review1_df and most of the data for this wine is missing - Decided to remove the record\n",
    "wine_review1_df = wine_review1_df.dropna(subset=['variety'])\n",
    "\n",
    "#As title contains already the information of designation column - decision : drop designation \n",
    "#wine_review1_df=wine_review1_df.drop(columns=['designation'])\n",
    "\n",
    "#print('Decision taken: Dropped the only record wine with missing variety as the record had only missing data')\n",
    "#print('Decision taken: Dropped column designation as title contains already the information')"
   ]
  },
  {
   "cell_type": "markdown",
   "id": "b8b190ad",
   "metadata": {},
   "source": [
    "#### Designation missing data cleaning"
   ]
  },
  {
   "cell_type": "code",
   "execution_count": 610,
   "id": "ec35c1eb",
   "metadata": {},
   "outputs": [
    {
     "name": "stdout",
     "output_type": "stream",
     "text": [
      "Designation missing in wine_review1_df:37464,in wine_review2_df:45735\n"
     ]
    }
   ],
   "source": [
    "m1=wine_review1_df['designation'].isna().sum()\n",
    "m2=wine_review2_df['designation'].isna().sum()\n",
    "print(f'Designation missing in wine_review1_df:{m1},in wine_review2_df:{m2}')"
   ]
  },
  {
   "cell_type": "markdown",
   "id": "cee6e0cc",
   "metadata": {},
   "source": [
    "##### Wine_review1_df"
   ]
  },
  {
   "cell_type": "code",
   "execution_count": 611,
   "id": "2127b4bd",
   "metadata": {},
   "outputs": [],
   "source": [
    "#Filling the missing designation using title variable \n",
    "\n",
    "wine_review1_df['designation'].fillna(wine_review1_df['title'], inplace=True)\n",
    "def remove_year(designation):\n",
    "    pattern = r'\\b\\d{4}\\b'  # Regex pattern to match four-digit year\n",
    "    return re.sub(pattern, '', designation).strip()\n",
    "\n",
    "# Remove year from 'Designation' column\n",
    "wine_review1_df['designation'] = wine_review1_df['designation'].apply(remove_year)\n",
    "\n",
    "#Dealing with the parentheses values in designation\n",
    "def remove_parentheses_text(designation):\n",
    "    pattern = r'\\s*\\([^)]*\\)'  # Regex pattern to match text within parentheses\n",
    "    return re.sub(pattern, '', designation).strip()\n",
    "\n",
    "# Remove text within parentheses from 'Designation' column\n",
    "wine_review1_df['designation'] = wine_review1_df['designation'].apply(remove_parentheses_text)"
   ]
  },
  {
   "cell_type": "markdown",
   "id": "c3d28f8b",
   "metadata": {},
   "source": [
    "##### Wine_review2_df"
   ]
  },
  {
   "cell_type": "code",
   "execution_count": 613,
   "id": "0f0112b9",
   "metadata": {},
   "outputs": [],
   "source": [
    "#As no title provide the designation of the wine the missing designation in wine_review2_df must be dropped \n",
    "wine_review2_df.dropna(subset='designation', inplace=True)\n"
   ]
  },
  {
   "cell_type": "code",
   "execution_count": 612,
   "id": "3911693f",
   "metadata": {},
   "outputs": [
    {
     "data": {
      "text/plain": [
       "country            5\n",
       "description        0\n",
       "designation    45735\n",
       "points             0\n",
       "price          13695\n",
       "province           5\n",
       "region_1       25060\n",
       "region_2       89977\n",
       "variety            0\n",
       "winery             0\n",
       "dtype: int64"
      ]
     },
     "execution_count": 612,
     "metadata": {},
     "output_type": "execute_result"
    }
   ],
   "source": [
    "wine_review2_df.isna().sum()"
   ]
  },
  {
   "cell_type": "markdown",
   "id": "034fbafb",
   "metadata": {},
   "source": [
    "#### Region missing data cleaning\n",
    "Analysing the region_1 and region_2 variables and missing data:\n",
    "- 1st strategy: Creating a unique new column 'region' retrieving the information from either region1 or region2 As 'region1' and 'region2' provide and contain the same information - remaining 21k missing data - NOT APPLIED\n",
    "- 2nd strategy: Understanding the value of the region_1 and region_2 into our analysis\n",
    "- => Decision taken: Dropping the columns region_1 and region_2 as they don;t provide any addiitonal information than the other variables\n"
   ]
  },
  {
   "cell_type": "markdown",
   "id": "8cc5bef1",
   "metadata": {},
   "source": [
    "##### Wine_review1_df"
   ]
  },
  {
   "cell_type": "code",
   "execution_count": 542,
   "id": "68813542",
   "metadata": {},
   "outputs": [
    {
     "data": {
      "text/html": [
       "<div>\n",
       "<style scoped>\n",
       "    .dataframe tbody tr th:only-of-type {\n",
       "        vertical-align: middle;\n",
       "    }\n",
       "\n",
       "    .dataframe tbody tr th {\n",
       "        vertical-align: top;\n",
       "    }\n",
       "\n",
       "    .dataframe thead th {\n",
       "        text-align: right;\n",
       "    }\n",
       "</style>\n",
       "<table border=\"1\" class=\"dataframe\">\n",
       "  <thead>\n",
       "    <tr style=\"text-align: right;\">\n",
       "      <th></th>\n",
       "      <th>country</th>\n",
       "      <th>description</th>\n",
       "      <th>designation</th>\n",
       "      <th>points</th>\n",
       "      <th>price</th>\n",
       "      <th>province</th>\n",
       "      <th>region_1</th>\n",
       "      <th>region_2</th>\n",
       "      <th>title</th>\n",
       "      <th>variety</th>\n",
       "      <th>winery</th>\n",
       "    </tr>\n",
       "  </thead>\n",
       "  <tbody>\n",
       "    <tr>\n",
       "      <th>0</th>\n",
       "      <td>Italy</td>\n",
       "      <td>Aromas include tropical fruit, broom, brimston...</td>\n",
       "      <td>Vulkà Bianco</td>\n",
       "      <td>87</td>\n",
       "      <td>NaN</td>\n",
       "      <td>Sicily &amp; Sardinia</td>\n",
       "      <td>Etna</td>\n",
       "      <td>NaN</td>\n",
       "      <td>Nicosia 2013 Vulkà Bianco  (Etna)</td>\n",
       "      <td>White Blend</td>\n",
       "      <td>Nicosia</td>\n",
       "    </tr>\n",
       "    <tr>\n",
       "      <th>1</th>\n",
       "      <td>Portugal</td>\n",
       "      <td>This is ripe and fruity, a wine that is smooth...</td>\n",
       "      <td>Avidagos</td>\n",
       "      <td>87</td>\n",
       "      <td>15.0</td>\n",
       "      <td>Douro</td>\n",
       "      <td>NaN</td>\n",
       "      <td>NaN</td>\n",
       "      <td>Quinta dos Avidagos 2011 Avidagos Red (Douro)</td>\n",
       "      <td>Portuguese Red</td>\n",
       "      <td>Quinta dos Avidagos</td>\n",
       "    </tr>\n",
       "    <tr>\n",
       "      <th>2</th>\n",
       "      <td>US</td>\n",
       "      <td>Tart and snappy, the flavors of lime flesh and...</td>\n",
       "      <td>Rainstorm  Pinot Gris</td>\n",
       "      <td>87</td>\n",
       "      <td>14.0</td>\n",
       "      <td>Oregon</td>\n",
       "      <td>Willamette Valley</td>\n",
       "      <td>Willamette Valley</td>\n",
       "      <td>Rainstorm 2013 Pinot Gris (Willamette Valley)</td>\n",
       "      <td>Pinot Gris</td>\n",
       "      <td>Rainstorm</td>\n",
       "    </tr>\n",
       "    <tr>\n",
       "      <th>3</th>\n",
       "      <td>US</td>\n",
       "      <td>Pineapple rind, lemon pith and orange blossom ...</td>\n",
       "      <td>Reserve Late Harvest</td>\n",
       "      <td>87</td>\n",
       "      <td>13.0</td>\n",
       "      <td>Michigan</td>\n",
       "      <td>Lake Michigan Shore</td>\n",
       "      <td>NaN</td>\n",
       "      <td>St. Julian 2013 Reserve Late Harvest Riesling ...</td>\n",
       "      <td>Riesling</td>\n",
       "      <td>St. Julian</td>\n",
       "    </tr>\n",
       "    <tr>\n",
       "      <th>4</th>\n",
       "      <td>US</td>\n",
       "      <td>Much like the regular bottling from 2012, this...</td>\n",
       "      <td>Vintner's Reserve Wild Child Block</td>\n",
       "      <td>87</td>\n",
       "      <td>65.0</td>\n",
       "      <td>Oregon</td>\n",
       "      <td>Willamette Valley</td>\n",
       "      <td>Willamette Valley</td>\n",
       "      <td>Sweet Cheeks 2012 Vintner's Reserve Wild Child...</td>\n",
       "      <td>Pinot Noir</td>\n",
       "      <td>Sweet Cheeks</td>\n",
       "    </tr>\n",
       "  </tbody>\n",
       "</table>\n",
       "</div>"
      ],
      "text/plain": [
       "    country                                        description  \\\n",
       "0     Italy  Aromas include tropical fruit, broom, brimston...   \n",
       "1  Portugal  This is ripe and fruity, a wine that is smooth...   \n",
       "2        US  Tart and snappy, the flavors of lime flesh and...   \n",
       "3        US  Pineapple rind, lemon pith and orange blossom ...   \n",
       "4        US  Much like the regular bottling from 2012, this...   \n",
       "\n",
       "                          designation  points  price           province  \\\n",
       "0                        Vulkà Bianco      87    NaN  Sicily & Sardinia   \n",
       "1                            Avidagos      87   15.0              Douro   \n",
       "2               Rainstorm  Pinot Gris      87   14.0             Oregon   \n",
       "3                Reserve Late Harvest      87   13.0           Michigan   \n",
       "4  Vintner's Reserve Wild Child Block      87   65.0             Oregon   \n",
       "\n",
       "              region_1           region_2  \\\n",
       "0                 Etna                NaN   \n",
       "1                  NaN                NaN   \n",
       "2    Willamette Valley  Willamette Valley   \n",
       "3  Lake Michigan Shore                NaN   \n",
       "4    Willamette Valley  Willamette Valley   \n",
       "\n",
       "                                               title         variety  \\\n",
       "0                  Nicosia 2013 Vulkà Bianco  (Etna)     White Blend   \n",
       "1      Quinta dos Avidagos 2011 Avidagos Red (Douro)  Portuguese Red   \n",
       "2      Rainstorm 2013 Pinot Gris (Willamette Valley)      Pinot Gris   \n",
       "3  St. Julian 2013 Reserve Late Harvest Riesling ...        Riesling   \n",
       "4  Sweet Cheeks 2012 Vintner's Reserve Wild Child...      Pinot Noir   \n",
       "\n",
       "                winery  \n",
       "0              Nicosia  \n",
       "1  Quinta dos Avidagos  \n",
       "2            Rainstorm  \n",
       "3           St. Julian  \n",
       "4         Sweet Cheeks  "
      ]
     },
     "execution_count": 542,
     "metadata": {},
     "output_type": "execute_result"
    }
   ],
   "source": [
    "wine_review1_df.head()"
   ]
  },
  {
   "cell_type": "code",
   "execution_count": 614,
   "id": "c1f8ec1c",
   "metadata": {},
   "outputs": [
    {
     "data": {
      "text/plain": [
       "21246"
      ]
     },
     "execution_count": 614,
     "metadata": {},
     "output_type": "execute_result"
    }
   ],
   "source": [
    "#Analysing the region_1 and region_2 variables \n",
    "#1st strategy: region_1 and region_2 Filling the missing data in region_1 with region_2 when applicable\n",
    "wine_review1_df['region_1'].fillna(wine_review1_df['region_2'], inplace=True)\n",
    "wine_review1_df['region_1'].isna().sum()\n"
   ]
  },
  {
   "cell_type": "code",
   "execution_count": 615,
   "id": "16e92986",
   "metadata": {},
   "outputs": [],
   "source": [
    "#Removing the region_2 column from the dataset\n",
    "wine_review1_df.drop(columns='region_2', inplace=True)"
   ]
  },
  {
   "cell_type": "code",
   "execution_count": 617,
   "id": "aab9aff8",
   "metadata": {},
   "outputs": [],
   "source": [
    "#Removing the Un-named created column\n",
    "#wine_review1_df.drop(columns='Unnamed: 0', inplace=True)"
   ]
  },
  {
   "cell_type": "code",
   "execution_count": 618,
   "id": "e88b9e9b",
   "metadata": {},
   "outputs": [
    {
     "data": {
      "text/plain": [
       "country           63\n",
       "description        0\n",
       "designation        0\n",
       "points             0\n",
       "price           8996\n",
       "province          63\n",
       "region_1       21246\n",
       "title              0\n",
       "variety            0\n",
       "winery             0\n",
       "dtype: int64"
      ]
     },
     "execution_count": 618,
     "metadata": {},
     "output_type": "execute_result"
    }
   ],
   "source": [
    "wine_review1_df.isna().sum()"
   ]
  },
  {
   "cell_type": "code",
   "execution_count": 619,
   "id": "46cdcc43",
   "metadata": {},
   "outputs": [
    {
     "data": {
      "text/html": [
       "<div>\n",
       "<style scoped>\n",
       "    .dataframe tbody tr th:only-of-type {\n",
       "        vertical-align: middle;\n",
       "    }\n",
       "\n",
       "    .dataframe tbody tr th {\n",
       "        vertical-align: top;\n",
       "    }\n",
       "\n",
       "    .dataframe thead th {\n",
       "        text-align: right;\n",
       "    }\n",
       "</style>\n",
       "<table border=\"1\" class=\"dataframe\">\n",
       "  <thead>\n",
       "    <tr style=\"text-align: right;\">\n",
       "      <th></th>\n",
       "      <th>country</th>\n",
       "      <th>description</th>\n",
       "      <th>designation</th>\n",
       "      <th>points</th>\n",
       "      <th>price</th>\n",
       "      <th>province</th>\n",
       "      <th>region_1</th>\n",
       "      <th>title</th>\n",
       "      <th>variety</th>\n",
       "      <th>winery</th>\n",
       "    </tr>\n",
       "  </thead>\n",
       "  <tbody>\n",
       "    <tr>\n",
       "      <th>261</th>\n",
       "      <td>Argentina</td>\n",
       "      <td>A blend of 50% Malbec with Cabernet, Syrah and...</td>\n",
       "      <td>Estate Blend Gran Reserva</td>\n",
       "      <td>89</td>\n",
       "      <td>37.0</td>\n",
       "      <td>Mendoza Province</td>\n",
       "      <td>None</td>\n",
       "      <td>Algodon 2008 Estate Blend Gran Reserva Red</td>\n",
       "      <td>Red Blend</td>\n",
       "      <td>Algodon</td>\n",
       "    </tr>\n",
       "    <tr>\n",
       "      <th>594</th>\n",
       "      <td>France</td>\n",
       "      <td>This medium-bodied blend of 50% Grenache and 5...</td>\n",
       "      <td>La Decelle</td>\n",
       "      <td>89</td>\n",
       "      <td>20.0</td>\n",
       "      <td>Rhône Valley</td>\n",
       "      <td>None</td>\n",
       "      <td>Lavau 2015 La Decelle Red</td>\n",
       "      <td>Rhône-style Red Blend</td>\n",
       "      <td>Lavau</td>\n",
       "    </tr>\n",
       "    <tr>\n",
       "      <th>622</th>\n",
       "      <td>US</td>\n",
       "      <td>Mostly Syrah, with just a dash of Petite Sirah...</td>\n",
       "      <td>Sidewinder</td>\n",
       "      <td>87</td>\n",
       "      <td>25.0</td>\n",
       "      <td>Idaho</td>\n",
       "      <td>None</td>\n",
       "      <td>Coiled 2009 Sidewinder Red</td>\n",
       "      <td>Red Blend</td>\n",
       "      <td>Coiled</td>\n",
       "    </tr>\n",
       "    <tr>\n",
       "      <th>623</th>\n",
       "      <td>US</td>\n",
       "      <td>This unusual blend of 85% Syrah, 10% Petit Ver...</td>\n",
       "      <td>Black Mamba</td>\n",
       "      <td>87</td>\n",
       "      <td>28.0</td>\n",
       "      <td>Idaho</td>\n",
       "      <td>None</td>\n",
       "      <td>Coiled 2010 Black Mamba Red</td>\n",
       "      <td>Red Blend</td>\n",
       "      <td>Coiled</td>\n",
       "    </tr>\n",
       "    <tr>\n",
       "      <th>913</th>\n",
       "      <td>NaN</td>\n",
       "      <td>Amber in color, this wine has aromas of peach ...</td>\n",
       "      <td>Asureti Valley</td>\n",
       "      <td>87</td>\n",
       "      <td>30.0</td>\n",
       "      <td>NaN</td>\n",
       "      <td>None</td>\n",
       "      <td>Gotsa Family Wines 2014 Asureti Valley Chinuri</td>\n",
       "      <td>Chinuri</td>\n",
       "      <td>Gotsa Family Wines</td>\n",
       "    </tr>\n",
       "    <tr>\n",
       "      <th>...</th>\n",
       "      <td>...</td>\n",
       "      <td>...</td>\n",
       "      <td>...</td>\n",
       "      <td>...</td>\n",
       "      <td>...</td>\n",
       "      <td>...</td>\n",
       "      <td>...</td>\n",
       "      <td>...</td>\n",
       "      <td>...</td>\n",
       "      <td>...</td>\n",
       "    </tr>\n",
       "    <tr>\n",
       "      <th>129297</th>\n",
       "      <td>Spain</td>\n",
       "      <td>Jammy black-fruit aromas push up against raisi...</td>\n",
       "      <td>Payoya Negra</td>\n",
       "      <td>90</td>\n",
       "      <td>33.0</td>\n",
       "      <td>Andalucia</td>\n",
       "      <td>None</td>\n",
       "      <td>Finca la Melonera 2014 Payoya Negra Red</td>\n",
       "      <td>Red Blend</td>\n",
       "      <td>Finca la Melonera</td>\n",
       "    </tr>\n",
       "    <tr>\n",
       "      <th>129407</th>\n",
       "      <td>NaN</td>\n",
       "      <td>Dry spicy aromas of dusty plum and tomato add ...</td>\n",
       "      <td>Reserve</td>\n",
       "      <td>89</td>\n",
       "      <td>22.0</td>\n",
       "      <td>NaN</td>\n",
       "      <td>None</td>\n",
       "      <td>El Capricho 2015 Reserve Cabernet Sauvignon</td>\n",
       "      <td>Cabernet Sauvignon</td>\n",
       "      <td>El Capricho</td>\n",
       "    </tr>\n",
       "    <tr>\n",
       "      <th>129408</th>\n",
       "      <td>NaN</td>\n",
       "      <td>El Capricho is one of Uruguay's more consisten...</td>\n",
       "      <td>Reserve</td>\n",
       "      <td>89</td>\n",
       "      <td>22.0</td>\n",
       "      <td>NaN</td>\n",
       "      <td>None</td>\n",
       "      <td>El Capricho 2015 Reserve Tempranillo</td>\n",
       "      <td>Tempranillo</td>\n",
       "      <td>El Capricho</td>\n",
       "    </tr>\n",
       "    <tr>\n",
       "      <th>129590</th>\n",
       "      <td>NaN</td>\n",
       "      <td>A blend of 60% Syrah, 30% Cabernet Sauvignon a...</td>\n",
       "      <td>Shah</td>\n",
       "      <td>90</td>\n",
       "      <td>30.0</td>\n",
       "      <td>NaN</td>\n",
       "      <td>None</td>\n",
       "      <td>Büyülübağ 2012 Shah Red</td>\n",
       "      <td>Red Blend</td>\n",
       "      <td>Büyülübağ</td>\n",
       "    </tr>\n",
       "    <tr>\n",
       "      <th>129900</th>\n",
       "      <td>NaN</td>\n",
       "      <td>This wine offers a delightful bouquet of black...</td>\n",
       "      <td>Psagot  Merlot</td>\n",
       "      <td>91</td>\n",
       "      <td>32.0</td>\n",
       "      <td>NaN</td>\n",
       "      <td>None</td>\n",
       "      <td>Psagot 2014 Merlot</td>\n",
       "      <td>Merlot</td>\n",
       "      <td>Psagot</td>\n",
       "    </tr>\n",
       "  </tbody>\n",
       "</table>\n",
       "<p>412 rows × 10 columns</p>\n",
       "</div>"
      ],
      "text/plain": [
       "          country                                        description  \\\n",
       "261     Argentina  A blend of 50% Malbec with Cabernet, Syrah and...   \n",
       "594        France  This medium-bodied blend of 50% Grenache and 5...   \n",
       "622            US  Mostly Syrah, with just a dash of Petite Sirah...   \n",
       "623            US  This unusual blend of 85% Syrah, 10% Petit Ver...   \n",
       "913           NaN  Amber in color, this wine has aromas of peach ...   \n",
       "...           ...                                                ...   \n",
       "129297      Spain  Jammy black-fruit aromas push up against raisi...   \n",
       "129407        NaN  Dry spicy aromas of dusty plum and tomato add ...   \n",
       "129408        NaN  El Capricho is one of Uruguay's more consisten...   \n",
       "129590        NaN  A blend of 60% Syrah, 30% Cabernet Sauvignon a...   \n",
       "129900        NaN  This wine offers a delightful bouquet of black...   \n",
       "\n",
       "                      designation  points  price          province region_1  \\\n",
       "261     Estate Blend Gran Reserva      89   37.0  Mendoza Province     None   \n",
       "594                    La Decelle      89   20.0      Rhône Valley     None   \n",
       "622                    Sidewinder      87   25.0             Idaho     None   \n",
       "623                   Black Mamba      87   28.0             Idaho     None   \n",
       "913                Asureti Valley      87   30.0               NaN     None   \n",
       "...                           ...     ...    ...               ...      ...   \n",
       "129297               Payoya Negra      90   33.0         Andalucia     None   \n",
       "129407                    Reserve      89   22.0               NaN     None   \n",
       "129408                    Reserve      89   22.0               NaN     None   \n",
       "129590                       Shah      90   30.0               NaN     None   \n",
       "129900             Psagot  Merlot      91   32.0               NaN     None   \n",
       "\n",
       "                                                 title                variety  \\\n",
       "261         Algodon 2008 Estate Blend Gran Reserva Red              Red Blend   \n",
       "594                          Lavau 2015 La Decelle Red  Rhône-style Red Blend   \n",
       "622                         Coiled 2009 Sidewinder Red              Red Blend   \n",
       "623                        Coiled 2010 Black Mamba Red              Red Blend   \n",
       "913     Gotsa Family Wines 2014 Asureti Valley Chinuri                Chinuri   \n",
       "...                                                ...                    ...   \n",
       "129297         Finca la Melonera 2014 Payoya Negra Red              Red Blend   \n",
       "129407     El Capricho 2015 Reserve Cabernet Sauvignon     Cabernet Sauvignon   \n",
       "129408            El Capricho 2015 Reserve Tempranillo            Tempranillo   \n",
       "129590                         Büyülübağ 2012 Shah Red              Red Blend   \n",
       "129900                              Psagot 2014 Merlot                 Merlot   \n",
       "\n",
       "                    winery  \n",
       "261                Algodon  \n",
       "594                  Lavau  \n",
       "622                 Coiled  \n",
       "623                 Coiled  \n",
       "913     Gotsa Family Wines  \n",
       "...                    ...  \n",
       "129297   Finca la Melonera  \n",
       "129407         El Capricho  \n",
       "129408         El Capricho  \n",
       "129590           Büyülübağ  \n",
       "129900              Psagot  \n",
       "\n",
       "[412 rows x 10 columns]"
      ]
     },
     "execution_count": 619,
     "metadata": {},
     "output_type": "execute_result"
    }
   ],
   "source": [
    "import re #import re module for regular expressions \n",
    "#filling the missing region with the region displayed in the title\n",
    "\n",
    "#Function to extract the content within parentheses from title column \n",
    "def extract(s):\n",
    "    if isinstance(s, str):\n",
    "        extracted = re.search(r'\\((.*?)\\)', s)\n",
    "        if extracted:\n",
    "            return extracted.group(1)\n",
    "    return None\n",
    "wine_review1_df['region_1'].fillna(wine_review1_df['title'].apply(extract), inplace=True)\n",
    "\n",
    "wine_review1_df[wine_review1_df['region_1'].isna()]\n",
    "\n",
    "#412 instances don't have a region displayed but have other useful data available\n"
   ]
  },
  {
   "cell_type": "markdown",
   "id": "69a23e19",
   "metadata": {},
   "source": [
    "- Filling the missing region_1 data when applicable using title"
   ]
  },
  {
   "cell_type": "code",
   "execution_count": 620,
   "id": "f24dbb2b",
   "metadata": {
    "scrolled": true
   },
   "outputs": [],
   "source": [
    "#checking the data that have both missing province and region\n",
    "check = wine_review1_df['region_1'].isnull() & wine_review1_df['province'].isnull()\n",
    "# Filter the DataFrame based on the condition\n",
    "rows_missing_region_province = wine_review1_df[check]\n",
    "#rows_missing_region_province\n",
    "\n",
    "wine_review1_df['region_1'].fillna(wine_review1_df['province'], inplace=True)\n"
   ]
  },
  {
   "cell_type": "code",
   "execution_count": 621,
   "id": "6292be12",
   "metadata": {},
   "outputs": [
    {
     "data": {
      "text/plain": [
       "63"
      ]
     },
     "execution_count": 621,
     "metadata": {},
     "output_type": "execute_result"
    }
   ],
   "source": [
    "wine_review1_df['region_1'].isna().sum()"
   ]
  },
  {
   "cell_type": "code",
   "execution_count": 622,
   "id": "bef75443",
   "metadata": {},
   "outputs": [],
   "source": [
    "#wine_review1_df[wine_review1_df['region_1'].isna()]\n",
    "#dropping the 63 remaining instances that don't have country , province and region filled\n",
    "wine_review1_df.dropna(subset='region_1', inplace=True)"
   ]
  },
  {
   "cell_type": "markdown",
   "id": "93a57e3d",
   "metadata": {},
   "source": [
    "##### Wine_review2_df"
   ]
  },
  {
   "cell_type": "code",
   "execution_count": 623,
   "id": "0075c3be",
   "metadata": {
    "heading_collapsed": true
   },
   "outputs": [
    {
     "data": {
      "text/plain": [
       "19581"
      ]
     },
     "execution_count": 623,
     "metadata": {},
     "output_type": "execute_result"
    }
   ],
   "source": [
    "#Analysing the region_1 and region_2 variables \n",
    "#1st strategy: region_1 and region_2 Filling the missing data in region_1 with region_2 when applicable\n",
    "wine_review2_df['region_1'].fillna(wine_review2_df['region_2'], inplace=True)\n",
    "wine_review2_df['region_1'].isna().sum()\n"
   ]
  },
  {
   "cell_type": "code",
   "execution_count": 624,
   "id": "ff34f2b8",
   "metadata": {},
   "outputs": [],
   "source": [
    "#Removing the region_2 column from the dataset\n",
    "wine_review2_df.drop(columns='region_2', inplace=True)\n"
   ]
  },
  {
   "cell_type": "code",
   "execution_count": 625,
   "id": "fdc4a8f6",
   "metadata": {},
   "outputs": [],
   "source": [
    "\n",
    "wine_review2_df['region_1'].fillna(wine_review2_df['province'], inplace=True)\n",
    "wine_review2_df[wine_review2_df['region_1'].isna()]\n",
    "wine_review2_df.dropna(subset='region_1', inplace=True)"
   ]
  },
  {
   "cell_type": "markdown",
   "id": "e63c908f",
   "metadata": {},
   "source": [
    "### Missing province variable"
   ]
  },
  {
   "cell_type": "markdown",
   "id": "a250bd72",
   "metadata": {},
   "source": [
    "##### Wine_review1_df"
   ]
  },
  {
   "cell_type": "code",
   "execution_count": 626,
   "id": "7af3890d",
   "metadata": {},
   "outputs": [
    {
     "data": {
      "text/plain": [
       "129907"
      ]
     },
     "execution_count": 626,
     "metadata": {},
     "output_type": "execute_result"
    }
   ],
   "source": [
    "#Displaying the missing data\n",
    "wine_review1_df[wine_review1_df['province'].isna()]\n",
    "wine_review1_df.shape[0]"
   ]
  },
  {
   "cell_type": "code",
   "execution_count": 627,
   "id": "ae8f5d37",
   "metadata": {},
   "outputs": [],
   "source": [
    "#Trying to fill the missing province with the title information \n",
    "\n",
    "def extract_province_from_title(title):\n",
    "    pattern = r'\\((.*?)\\)'  # Regex pattern to match text within parentheses\n",
    "    match = re.search(pattern, title)\n",
    "    if match:\n",
    "        return match.group(1)\n",
    "    else:\n",
    "        return None\n",
    "\n",
    "# Extract province from 'Title' column\n",
    "wine_review1_df['extracted_Province'] = wine_review1_df['title'].apply(extract_province_from_title)\n",
    "\n",
    "# Fill missing 'Province' values with extracted province information\n",
    "wine_review1_df['province'].fillna(wine_review1_df['extracted_Province'], inplace=True)\n",
    "wine_review1_df.drop(columns=['extracted_Province'], inplace=True)"
   ]
  },
  {
   "cell_type": "code",
   "execution_count": 628,
   "id": "bd96ba76",
   "metadata": {},
   "outputs": [
    {
     "data": {
      "text/plain": [
       "country           0\n",
       "description       0\n",
       "designation       0\n",
       "points            0\n",
       "price          8992\n",
       "province          0\n",
       "region_1          0\n",
       "title             0\n",
       "variety           0\n",
       "winery            0\n",
       "dtype: int64"
      ]
     },
     "execution_count": 628,
     "metadata": {},
     "output_type": "execute_result"
    }
   ],
   "source": [
    "wine_review1_df.isna().sum()"
   ]
  },
  {
   "cell_type": "markdown",
   "id": "e359524a",
   "metadata": {},
   "source": [
    "##### Wine_review2_df"
   ]
  },
  {
   "cell_type": "code",
   "execution_count": 629,
   "id": "638c339e",
   "metadata": {},
   "outputs": [
    {
     "data": {
      "text/plain": [
       "country            0\n",
       "description        0\n",
       "designation        0\n",
       "points             0\n",
       "price          10271\n",
       "province           0\n",
       "region_1           0\n",
       "variety            0\n",
       "winery             0\n",
       "dtype: int64"
      ]
     },
     "execution_count": 629,
     "metadata": {},
     "output_type": "execute_result"
    }
   ],
   "source": [
    "wine_review2_df.isna().sum()"
   ]
  },
  {
   "cell_type": "markdown",
   "id": "6300221e",
   "metadata": {},
   "source": [
    "### Missing price\n",
    "Decision taken : Missing price filled with mean price of wines with same variety"
   ]
  },
  {
   "cell_type": "markdown",
   "id": "cc320e0c",
   "metadata": {},
   "source": [
    "##### Wine_review1_df"
   ]
  },
  {
   "cell_type": "code",
   "execution_count": 630,
   "id": "fe12a46a",
   "metadata": {},
   "outputs": [],
   "source": [
    "#Frequency of each unique variety\n",
    "wine_variety=pd.DataFrame(wine_review1_df['variety'].value_counts())\n",
    "\n",
    "#Calculating the mean price per variety\n",
    "mean_price_per_variety=pd.DataFrame(wine_review1_df.groupby('variety')['price'].mean())\n",
    "mean_price_per_variety\n",
    "\n",
    "#Replacing the missing price with mean price of same variety of wine when applicable \n",
    "\n",
    "wine_review1_df = pd.merge(wine_review1_df, mean_price_per_variety, on='variety', how='left',suffixes=('', '_mean'))\n",
    "wine_review1_df['price'] = wine_review1_df.apply(lambda row: row['price_mean'] if pd.isnull(row['price']) else row['price'], axis=1)\n"
   ]
  },
  {
   "cell_type": "code",
   "execution_count": 631,
   "id": "70899d51",
   "metadata": {},
   "outputs": [],
   "source": [
    "wine_review1_df=wine_review1_df.drop(columns=['price_mean'])"
   ]
  },
  {
   "cell_type": "code",
   "execution_count": 632,
   "id": "c942a0c6",
   "metadata": {},
   "outputs": [],
   "source": [
    "wine_review1_df['price']=wine_review1_df['price'].round(2)\n",
    "#wine_review1_df"
   ]
  },
  {
   "cell_type": "code",
   "execution_count": 633,
   "id": "e54cf8ad",
   "metadata": {},
   "outputs": [
    {
     "data": {
      "text/plain": [
       "country        0\n",
       "description    0\n",
       "designation    0\n",
       "points         0\n",
       "price          0\n",
       "province       0\n",
       "region_1       0\n",
       "title          0\n",
       "variety        0\n",
       "winery         0\n",
       "dtype: int64"
      ]
     },
     "execution_count": 633,
     "metadata": {},
     "output_type": "execute_result"
    }
   ],
   "source": [
    "wine_review1_df=wine_review1_df.dropna()\n",
    "wine_review1_df.isna().sum()"
   ]
  },
  {
   "cell_type": "markdown",
   "id": "a11a3370",
   "metadata": {},
   "source": [
    "##### Wine_review2_df"
   ]
  },
  {
   "cell_type": "code",
   "execution_count": 634,
   "id": "7ba77d99",
   "metadata": {},
   "outputs": [],
   "source": [
    "#Frequency of each unique variety\n",
    "wine_variety=pd.DataFrame(wine_review2_df['variety'].value_counts())\n",
    "\n",
    "#Calculating the mean price per variety\n",
    "mean_price_per_variety=pd.DataFrame(wine_review2_df.groupby('variety')['price'].mean())\n",
    "mean_price_per_variety\n",
    "\n",
    "#Replacing the missing price with mean price of same variety of wine when applicable \n",
    "\n",
    "wine_review2_df = pd.merge(wine_review2_df, mean_price_per_variety, on='variety', how='left',suffixes=('', '_mean'))\n",
    "wine_review2_df['price'] = wine_review2_df.apply(lambda row: row['price_mean'] if pd.isnull(row['price']) else row['price'], axis=1)\n"
   ]
  },
  {
   "cell_type": "code",
   "execution_count": 635,
   "id": "f7a1b67f",
   "metadata": {},
   "outputs": [],
   "source": [
    "wine_review2_df=wine_review2_df.drop(columns=['price_mean'])"
   ]
  },
  {
   "cell_type": "code",
   "execution_count": 636,
   "id": "6745f06b",
   "metadata": {},
   "outputs": [],
   "source": [
    "wine_review2_df['price']=wine_review2_df['price'].round(2)\n",
    "#wine_review1_df"
   ]
  },
  {
   "cell_type": "code",
   "execution_count": 637,
   "id": "e6d4b5d6",
   "metadata": {},
   "outputs": [
    {
     "data": {
      "text/plain": [
       "country        0\n",
       "description    0\n",
       "designation    0\n",
       "points         0\n",
       "price          0\n",
       "province       0\n",
       "region_1       0\n",
       "variety        0\n",
       "winery         0\n",
       "dtype: int64"
      ]
     },
     "execution_count": 637,
     "metadata": {},
     "output_type": "execute_result"
    }
   ],
   "source": [
    "wine_review2_df=wine_review2_df.dropna()\n",
    "wine_review2_df.isna().sum()"
   ]
  },
  {
   "cell_type": "code",
   "execution_count": 638,
   "id": "5171a3e1",
   "metadata": {},
   "outputs": [
    {
     "data": {
      "text/plain": [
       "(Index(['country', 'description', 'designation', 'points', 'price', 'province',\n",
       "        'region_1', 'title', 'variety', 'winery'],\n",
       "       dtype='object'),\n",
       " Index(['country', 'description', 'designation', 'points', 'price', 'province',\n",
       "        'region_1', 'variety', 'winery'],\n",
       "       dtype='object'))"
      ]
     },
     "execution_count": 638,
     "metadata": {},
     "output_type": "execute_result"
    }
   ],
   "source": [
    "wine_review1_df.columns, wine_review2_df.columns"
   ]
  },
  {
   "cell_type": "code",
   "execution_count": 599,
   "id": "3138e16a",
   "metadata": {
    "collapsed": true
   },
   "outputs": [
    {
     "data": {
      "text/html": [
       "<div>\n",
       "<style scoped>\n",
       "    .dataframe tbody tr th:only-of-type {\n",
       "        vertical-align: middle;\n",
       "    }\n",
       "\n",
       "    .dataframe tbody tr th {\n",
       "        vertical-align: top;\n",
       "    }\n",
       "\n",
       "    .dataframe thead th {\n",
       "        text-align: right;\n",
       "    }\n",
       "</style>\n",
       "<table border=\"1\" class=\"dataframe\">\n",
       "  <thead>\n",
       "    <tr style=\"text-align: right;\">\n",
       "      <th></th>\n",
       "      <th>country</th>\n",
       "      <th>description</th>\n",
       "      <th>designation</th>\n",
       "      <th>points</th>\n",
       "      <th>price</th>\n",
       "      <th>province</th>\n",
       "      <th>region_1</th>\n",
       "      <th>title</th>\n",
       "      <th>variety</th>\n",
       "      <th>winery</th>\n",
       "    </tr>\n",
       "  </thead>\n",
       "  <tbody>\n",
       "    <tr>\n",
       "      <th>0</th>\n",
       "      <td>Portugal</td>\n",
       "      <td>This is ripe and fruity, a wine that is smooth...</td>\n",
       "      <td>Avidagos</td>\n",
       "      <td>87</td>\n",
       "      <td>15.0</td>\n",
       "      <td>Douro</td>\n",
       "      <td>Douro</td>\n",
       "      <td>Quinta dos Avidagos 2011 Avidagos Red (Douro)</td>\n",
       "      <td>Portuguese Red</td>\n",
       "      <td>Quinta dos Avidagos</td>\n",
       "    </tr>\n",
       "    <tr>\n",
       "      <th>1</th>\n",
       "      <td>US</td>\n",
       "      <td>Tart and snappy, the flavors of lime flesh and...</td>\n",
       "      <td>Rainstorm  Pinot Gris</td>\n",
       "      <td>87</td>\n",
       "      <td>14.0</td>\n",
       "      <td>Oregon</td>\n",
       "      <td>Willamette Valley</td>\n",
       "      <td>Rainstorm 2013 Pinot Gris (Willamette Valley)</td>\n",
       "      <td>Pinot Gris</td>\n",
       "      <td>Rainstorm</td>\n",
       "    </tr>\n",
       "    <tr>\n",
       "      <th>2</th>\n",
       "      <td>US</td>\n",
       "      <td>Pineapple rind, lemon pith and orange blossom ...</td>\n",
       "      <td>Reserve Late Harvest</td>\n",
       "      <td>87</td>\n",
       "      <td>13.0</td>\n",
       "      <td>Michigan</td>\n",
       "      <td>Lake Michigan Shore</td>\n",
       "      <td>St. Julian 2013 Reserve Late Harvest Riesling ...</td>\n",
       "      <td>Riesling</td>\n",
       "      <td>St. Julian</td>\n",
       "    </tr>\n",
       "    <tr>\n",
       "      <th>3</th>\n",
       "      <td>US</td>\n",
       "      <td>Much like the regular bottling from 2012, this...</td>\n",
       "      <td>Vintner's Reserve Wild Child Block</td>\n",
       "      <td>87</td>\n",
       "      <td>65.0</td>\n",
       "      <td>Oregon</td>\n",
       "      <td>Willamette Valley</td>\n",
       "      <td>Sweet Cheeks 2012 Vintner's Reserve Wild Child...</td>\n",
       "      <td>Pinot Noir</td>\n",
       "      <td>Sweet Cheeks</td>\n",
       "    </tr>\n",
       "    <tr>\n",
       "      <th>4</th>\n",
       "      <td>Spain</td>\n",
       "      <td>Blackberry and raspberry aromas show a typical...</td>\n",
       "      <td>Ars In Vitro</td>\n",
       "      <td>87</td>\n",
       "      <td>15.0</td>\n",
       "      <td>Northern Spain</td>\n",
       "      <td>Navarra</td>\n",
       "      <td>Tandem 2011 Ars In Vitro Tempranillo-Merlot (N...</td>\n",
       "      <td>Tempranillo-Merlot</td>\n",
       "      <td>Tandem</td>\n",
       "    </tr>\n",
       "    <tr>\n",
       "      <th>...</th>\n",
       "      <td>...</td>\n",
       "      <td>...</td>\n",
       "      <td>...</td>\n",
       "      <td>...</td>\n",
       "      <td>...</td>\n",
       "      <td>...</td>\n",
       "      <td>...</td>\n",
       "      <td>...</td>\n",
       "      <td>...</td>\n",
       "      <td>...</td>\n",
       "    </tr>\n",
       "    <tr>\n",
       "      <th>120910</th>\n",
       "      <td>Germany</td>\n",
       "      <td>Notes of honeysuckle and cantaloupe sweeten th...</td>\n",
       "      <td>Brauneberger Juffer-Sonnenuhr Spätlese</td>\n",
       "      <td>90</td>\n",
       "      <td>28.0</td>\n",
       "      <td>Mosel</td>\n",
       "      <td>Erben Müller-Burggraef</td>\n",
       "      <td>Dr. H. Thanisch (Erben Müller-Burggraef) 2013 ...</td>\n",
       "      <td>Riesling</td>\n",
       "      <td>Dr. H. Thanisch (Erben Müller-Burggraef)</td>\n",
       "    </tr>\n",
       "    <tr>\n",
       "      <th>120911</th>\n",
       "      <td>US</td>\n",
       "      <td>Citation is given as much as a decade of bottl...</td>\n",
       "      <td>Citation  Pinot Noir</td>\n",
       "      <td>90</td>\n",
       "      <td>75.0</td>\n",
       "      <td>Oregon</td>\n",
       "      <td>Oregon</td>\n",
       "      <td>Citation 2004 Pinot Noir (Oregon)</td>\n",
       "      <td>Pinot Noir</td>\n",
       "      <td>Citation</td>\n",
       "    </tr>\n",
       "    <tr>\n",
       "      <th>120912</th>\n",
       "      <td>France</td>\n",
       "      <td>Well-drained gravel soil gives this wine its c...</td>\n",
       "      <td>Kritt</td>\n",
       "      <td>90</td>\n",
       "      <td>30.0</td>\n",
       "      <td>Alsace</td>\n",
       "      <td>Alsace</td>\n",
       "      <td>Domaine Gresser 2013 Kritt Gewurztraminer (Als...</td>\n",
       "      <td>Gewürztraminer</td>\n",
       "      <td>Domaine Gresser</td>\n",
       "    </tr>\n",
       "    <tr>\n",
       "      <th>120913</th>\n",
       "      <td>France</td>\n",
       "      <td>A dry style of Pinot Gris, this is crisp with ...</td>\n",
       "      <td>Domaine Marcel Deiss  Pinot Gris</td>\n",
       "      <td>90</td>\n",
       "      <td>32.0</td>\n",
       "      <td>Alsace</td>\n",
       "      <td>Alsace</td>\n",
       "      <td>Domaine Marcel Deiss 2012 Pinot Gris (Alsace)</td>\n",
       "      <td>Pinot Gris</td>\n",
       "      <td>Domaine Marcel Deiss</td>\n",
       "    </tr>\n",
       "    <tr>\n",
       "      <th>120914</th>\n",
       "      <td>France</td>\n",
       "      <td>Big, rich and off-dry, this is powered by inte...</td>\n",
       "      <td>Lieu-dit Harth Cuvée Caroline</td>\n",
       "      <td>90</td>\n",
       "      <td>21.0</td>\n",
       "      <td>Alsace</td>\n",
       "      <td>Alsace</td>\n",
       "      <td>Domaine Schoffit 2012 Lieu-dit Harth Cuvée Car...</td>\n",
       "      <td>Gewürztraminer</td>\n",
       "      <td>Domaine Schoffit</td>\n",
       "    </tr>\n",
       "  </tbody>\n",
       "</table>\n",
       "<p>120915 rows × 10 columns</p>\n",
       "</div>"
      ],
      "text/plain": [
       "         country                                        description  \\\n",
       "0       Portugal  This is ripe and fruity, a wine that is smooth...   \n",
       "1             US  Tart and snappy, the flavors of lime flesh and...   \n",
       "2             US  Pineapple rind, lemon pith and orange blossom ...   \n",
       "3             US  Much like the regular bottling from 2012, this...   \n",
       "4          Spain  Blackberry and raspberry aromas show a typical...   \n",
       "...          ...                                                ...   \n",
       "120910   Germany  Notes of honeysuckle and cantaloupe sweeten th...   \n",
       "120911        US  Citation is given as much as a decade of bottl...   \n",
       "120912    France  Well-drained gravel soil gives this wine its c...   \n",
       "120913    France  A dry style of Pinot Gris, this is crisp with ...   \n",
       "120914    France  Big, rich and off-dry, this is powered by inte...   \n",
       "\n",
       "                                   designation  points  price        province  \\\n",
       "0                                     Avidagos      87   15.0           Douro   \n",
       "1                        Rainstorm  Pinot Gris      87   14.0          Oregon   \n",
       "2                         Reserve Late Harvest      87   13.0        Michigan   \n",
       "3           Vintner's Reserve Wild Child Block      87   65.0          Oregon   \n",
       "4                                 Ars In Vitro      87   15.0  Northern Spain   \n",
       "...                                        ...     ...    ...             ...   \n",
       "120910  Brauneberger Juffer-Sonnenuhr Spätlese      90   28.0           Mosel   \n",
       "120911                    Citation  Pinot Noir      90   75.0          Oregon   \n",
       "120912                                   Kritt      90   30.0          Alsace   \n",
       "120913        Domaine Marcel Deiss  Pinot Gris      90   32.0          Alsace   \n",
       "120914           Lieu-dit Harth Cuvée Caroline      90   21.0          Alsace   \n",
       "\n",
       "                      region_1  \\\n",
       "0                        Douro   \n",
       "1            Willamette Valley   \n",
       "2          Lake Michigan Shore   \n",
       "3            Willamette Valley   \n",
       "4                      Navarra   \n",
       "...                        ...   \n",
       "120910  Erben Müller-Burggraef   \n",
       "120911                  Oregon   \n",
       "120912                  Alsace   \n",
       "120913                  Alsace   \n",
       "120914                  Alsace   \n",
       "\n",
       "                                                    title             variety  \\\n",
       "0           Quinta dos Avidagos 2011 Avidagos Red (Douro)      Portuguese Red   \n",
       "1           Rainstorm 2013 Pinot Gris (Willamette Valley)          Pinot Gris   \n",
       "2       St. Julian 2013 Reserve Late Harvest Riesling ...            Riesling   \n",
       "3       Sweet Cheeks 2012 Vintner's Reserve Wild Child...          Pinot Noir   \n",
       "4       Tandem 2011 Ars In Vitro Tempranillo-Merlot (N...  Tempranillo-Merlot   \n",
       "...                                                   ...                 ...   \n",
       "120910  Dr. H. Thanisch (Erben Müller-Burggraef) 2013 ...            Riesling   \n",
       "120911                  Citation 2004 Pinot Noir (Oregon)          Pinot Noir   \n",
       "120912  Domaine Gresser 2013 Kritt Gewurztraminer (Als...      Gewürztraminer   \n",
       "120913      Domaine Marcel Deiss 2012 Pinot Gris (Alsace)          Pinot Gris   \n",
       "120914  Domaine Schoffit 2012 Lieu-dit Harth Cuvée Car...      Gewürztraminer   \n",
       "\n",
       "                                          winery  \n",
       "0                            Quinta dos Avidagos  \n",
       "1                                      Rainstorm  \n",
       "2                                     St. Julian  \n",
       "3                                   Sweet Cheeks  \n",
       "4                                         Tandem  \n",
       "...                                          ...  \n",
       "120910  Dr. H. Thanisch (Erben Müller-Burggraef)  \n",
       "120911                                  Citation  \n",
       "120912                           Domaine Gresser  \n",
       "120913                      Domaine Marcel Deiss  \n",
       "120914                          Domaine Schoffit  \n",
       "\n",
       "[120915 rows x 10 columns]"
      ]
     },
     "execution_count": 599,
     "metadata": {},
     "output_type": "execute_result"
    }
   ],
   "source": [
    "wine_review2_df"
   ]
  },
  {
   "cell_type": "code",
   "execution_count": null,
   "id": "40a014f6",
   "metadata": {},
   "outputs": [],
   "source": []
  }
 ],
 "metadata": {
  "kernelspec": {
   "display_name": "Python 3 (ipykernel)",
   "language": "python",
   "name": "python3"
  },
  "language_info": {
   "codemirror_mode": {
    "name": "ipython",
    "version": 3
   },
   "file_extension": ".py",
   "mimetype": "text/x-python",
   "name": "python",
   "nbconvert_exporter": "python",
   "pygments_lexer": "ipython3",
   "version": "3.10.6"
  },
  "toc": {
   "base_numbering": 1,
   "nav_menu": {},
   "number_sections": true,
   "sideBar": true,
   "skip_h1_title": false,
   "title_cell": "Table of Contents",
   "title_sidebar": "Contents",
   "toc_cell": false,
   "toc_position": {},
   "toc_section_display": true,
   "toc_window_display": false
  }
 },
 "nbformat": 4,
 "nbformat_minor": 5
}
