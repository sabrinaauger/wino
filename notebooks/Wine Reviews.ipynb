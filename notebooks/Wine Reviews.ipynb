{
 "cells": [
  {
   "cell_type": "code",
   "execution_count": 20,
   "id": "1deb0922",
   "metadata": {},
   "outputs": [
    {
     "name": "stdout",
     "output_type": "stream",
     "text": [
      "Requirement already satisfied: kaggle in /Users/sabrinaauger/.pyenv/versions/3.10.6/envs/lewagon/lib/python3.10/site-packages (1.5.12)\n",
      "Requirement already satisfied: six>=1.10 in /Users/sabrinaauger/.pyenv/versions/3.10.6/envs/lewagon/lib/python3.10/site-packages (from kaggle) (1.16.0)\n",
      "Requirement already satisfied: certifi in /Users/sabrinaauger/.pyenv/versions/3.10.6/envs/lewagon/lib/python3.10/site-packages (from kaggle) (2022.9.24)\n",
      "Requirement already satisfied: python-dateutil in /Users/sabrinaauger/.pyenv/versions/3.10.6/envs/lewagon/lib/python3.10/site-packages (from kaggle) (2.8.2)\n",
      "Requirement already satisfied: requests in /Users/sabrinaauger/.pyenv/versions/3.10.6/envs/lewagon/lib/python3.10/site-packages (from kaggle) (2.28.1)\n",
      "Requirement already satisfied: tqdm in /Users/sabrinaauger/.pyenv/versions/3.10.6/envs/lewagon/lib/python3.10/site-packages (from kaggle) (4.64.1)\n",
      "Requirement already satisfied: python-slugify in /Users/sabrinaauger/.pyenv/versions/3.10.6/envs/lewagon/lib/python3.10/site-packages (from kaggle) (6.1.2)\n",
      "Requirement already satisfied: urllib3 in /Users/sabrinaauger/.pyenv/versions/3.10.6/envs/lewagon/lib/python3.10/site-packages (from kaggle) (1.26.12)\n",
      "Requirement already satisfied: text-unidecode>=1.3 in /Users/sabrinaauger/.pyenv/versions/3.10.6/envs/lewagon/lib/python3.10/site-packages (from python-slugify->kaggle) (1.3)\n",
      "Requirement already satisfied: charset-normalizer<3,>=2 in /Users/sabrinaauger/.pyenv/versions/3.10.6/envs/lewagon/lib/python3.10/site-packages (from requests->kaggle) (2.1.1)\n",
      "Requirement already satisfied: idna<4,>=2.5 in /Users/sabrinaauger/.pyenv/versions/3.10.6/envs/lewagon/lib/python3.10/site-packages (from requests->kaggle) (3.4)\n"
     ]
    }
   ],
   "source": [
    "!pip install kaggle"
   ]
  },
  {
   "cell_type": "code",
   "execution_count": 22,
   "id": "4a572d4b",
   "metadata": {},
   "outputs": [],
   "source": [
    "import matplotlib.pyplot as plt\n",
    "import pandas as pd\n",
    "import os\n",
    "os.environ['KAGGLE_USERNAME'] = \"sabrinaauger\"\n",
    "os.environ['KAGGLE_KEY'] = \"8db79b4ccae98a2c74af940e1f1b7c35\"\n",
    "import kaggle"
   ]
  },
  {
   "cell_type": "code",
   "execution_count": 23,
   "id": "c1b670eb",
   "metadata": {},
   "outputs": [
    {
     "name": "stdout",
     "output_type": "stream",
     "text": [
      "Downloading wine-reviews.zip to /Users/sabrinaauger/code/sabrinaauger/wino/notebooks\n",
      "100%|██████████████████████████████████████| 50.9M/50.9M [00:14<00:00, 6.29MB/s]\n",
      "100%|██████████████████████████████████████| 50.9M/50.9M [00:14<00:00, 3.75MB/s]\n"
     ]
    }
   ],
   "source": [
    "!kaggle datasets download -d zynicide/wine-reviews"
   ]
  },
  {
   "cell_type": "code",
   "execution_count": 16,
   "id": "e8afb371",
   "metadata": {},
   "outputs": [
    {
     "data": {
      "text/plain": [
       "'/Users/sabrinaauger/code/sabrinaauger/wino/notebooks'"
      ]
     },
     "execution_count": 16,
     "metadata": {},
     "output_type": "execute_result"
    }
   ],
   "source": [
    "os.getcwd()"
   ]
  },
  {
   "cell_type": "code",
   "execution_count": 24,
   "id": "5c24b7b0",
   "metadata": {},
   "outputs": [
    {
     "name": "stdout",
     "output_type": "stream",
     "text": [
      "Archive:  wine-reviews.zip\n",
      "  inflating: winemag-data-130k-v2.csv  \n",
      "  inflating: winemag-data-130k-v2.json  \n",
      "  inflating: winemag-data_first150k.csv  \n"
     ]
    }
   ],
   "source": [
    "!unzip wine-reviews.zip"
   ]
  },
  {
   "cell_type": "code",
   "execution_count": null,
   "id": "3f5b11bf",
   "metadata": {},
   "outputs": [],
   "source": [
    "wine_review_df=pd.read_csv(\"winemag-data-130k-v2.csv\")"
   ]
  }
 ],
 "metadata": {
  "kernelspec": {
   "display_name": "Python 3 (ipykernel)",
   "language": "python",
   "name": "python3"
  },
  "language_info": {
   "codemirror_mode": {
    "name": "ipython",
    "version": 3
   },
   "file_extension": ".py",
   "mimetype": "text/x-python",
   "name": "python",
   "nbconvert_exporter": "python",
   "pygments_lexer": "ipython3",
   "version": "3.10.6"
  },
  "toc": {
   "base_numbering": 1,
   "nav_menu": {},
   "number_sections": true,
   "sideBar": true,
   "skip_h1_title": false,
   "title_cell": "Table of Contents",
   "title_sidebar": "Contents",
   "toc_cell": false,
   "toc_position": {},
   "toc_section_display": true,
   "toc_window_display": false
  }
 },
 "nbformat": 4,
 "nbformat_minor": 5
}
