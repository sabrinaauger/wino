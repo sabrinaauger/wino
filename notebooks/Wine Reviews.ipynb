{
 "cells": [
  {
   "cell_type": "markdown",
   "id": "7bf32c6e",
   "metadata": {},
   "source": [
    "# Import"
   ]
  },
  {
   "cell_type": "code",
   "execution_count": 2,
   "id": "f031d765",
   "metadata": {},
   "outputs": [
    {
     "name": "stdout",
     "output_type": "stream",
     "text": [
      "wino (set by PYENV_VERSION environment variable)\n",
      "Requirement already satisfied: kaggle in /Users/sabrinaauger/.pyenv/versions/3.10.6/envs/wino/lib/python3.10/site-packages (1.5.16)\n",
      "Requirement already satisfied: six>=1.10 in /Users/sabrinaauger/.pyenv/versions/3.10.6/envs/wino/lib/python3.10/site-packages (from kaggle) (1.16.0)\n",
      "Requirement already satisfied: certifi in /Users/sabrinaauger/.pyenv/versions/3.10.6/envs/wino/lib/python3.10/site-packages (from kaggle) (2023.11.17)\n",
      "Requirement already satisfied: python-dateutil in /Users/sabrinaauger/.pyenv/versions/3.10.6/envs/wino/lib/python3.10/site-packages (from kaggle) (2.8.2)\n",
      "Requirement already satisfied: requests in /Users/sabrinaauger/.pyenv/versions/3.10.6/envs/wino/lib/python3.10/site-packages (from kaggle) (2.31.0)\n",
      "Requirement already satisfied: tqdm in /Users/sabrinaauger/.pyenv/versions/3.10.6/envs/wino/lib/python3.10/site-packages (from kaggle) (4.66.1)\n",
      "Requirement already satisfied: python-slugify in /Users/sabrinaauger/.pyenv/versions/3.10.6/envs/wino/lib/python3.10/site-packages (from kaggle) (8.0.1)\n",
      "Requirement already satisfied: urllib3 in /Users/sabrinaauger/.pyenv/versions/3.10.6/envs/wino/lib/python3.10/site-packages (from kaggle) (2.1.0)\n",
      "Requirement already satisfied: bleach in /Users/sabrinaauger/.pyenv/versions/3.10.6/envs/wino/lib/python3.10/site-packages (from kaggle) (6.1.0)\n",
      "Requirement already satisfied: webencodings in /Users/sabrinaauger/.pyenv/versions/3.10.6/envs/wino/lib/python3.10/site-packages (from bleach->kaggle) (0.5.1)\n",
      "Requirement already satisfied: text-unidecode>=1.3 in /Users/sabrinaauger/.pyenv/versions/3.10.6/envs/wino/lib/python3.10/site-packages (from python-slugify->kaggle) (1.3)\n",
      "Requirement already satisfied: charset-normalizer<4,>=2 in /Users/sabrinaauger/.pyenv/versions/3.10.6/envs/wino/lib/python3.10/site-packages (from requests->kaggle) (3.3.2)\n",
      "Requirement already satisfied: idna<4,>=2.5 in /Users/sabrinaauger/.pyenv/versions/3.10.6/envs/wino/lib/python3.10/site-packages (from requests->kaggle) (3.4)\n",
      "Collecting matplotlib\n",
      "  Downloading matplotlib-3.8.2-cp310-cp310-macosx_10_12_x86_64.whl.metadata (5.8 kB)\n",
      "Collecting contourpy>=1.0.1 (from matplotlib)\n",
      "  Downloading contourpy-1.2.0-cp310-cp310-macosx_10_9_x86_64.whl.metadata (5.8 kB)\n",
      "Collecting cycler>=0.10 (from matplotlib)\n",
      "  Using cached cycler-0.12.1-py3-none-any.whl.metadata (3.8 kB)\n",
      "Collecting fonttools>=4.22.0 (from matplotlib)\n",
      "  Downloading fonttools-4.45.1-cp310-cp310-macosx_10_9_x86_64.whl.metadata (155 kB)\n",
      "\u001b[2K     \u001b[90m━━━━━━━━━━━━━━━━━━━━━━━━━━━━━━━━━━━━━\u001b[0m \u001b[32m155.2/155.2 kB\u001b[0m \u001b[31m185.0 kB/s\u001b[0m eta \u001b[36m0:00:00\u001b[0m00:01\u001b[0m00:01\u001b[0m\n",
      "\u001b[?25hCollecting kiwisolver>=1.3.1 (from matplotlib)\n",
      "  Using cached kiwisolver-1.4.5-cp310-cp310-macosx_10_9_x86_64.whl.metadata (6.4 kB)\n",
      "Collecting numpy<2,>=1.21 (from matplotlib)\n",
      "  Downloading numpy-1.26.2-cp310-cp310-macosx_10_9_x86_64.whl.metadata (61 kB)\n",
      "\u001b[2K     \u001b[90m━━━━━━━━━━━━━━━━━━━━━━━━━━━━━━━━━━━━━━━━\u001b[0m \u001b[32m61.2/61.2 kB\u001b[0m \u001b[31m6.8 kB/s\u001b[0m eta \u001b[36m0:00:00\u001b[0ma \u001b[36m0:00:02\u001b[0mm\n",
      "\u001b[?25hRequirement already satisfied: packaging>=20.0 in /Users/sabrinaauger/.pyenv/versions/3.10.6/envs/wino/lib/python3.10/site-packages (from matplotlib) (23.2)\n",
      "Collecting pillow>=8 (from matplotlib)\n",
      "  Using cached Pillow-10.1.0-cp310-cp310-macosx_10_10_x86_64.whl.metadata (9.5 kB)\n",
      "Collecting pyparsing>=2.3.1 (from matplotlib)\n",
      "  Using cached pyparsing-3.1.1-py3-none-any.whl.metadata (5.1 kB)\n",
      "Requirement already satisfied: python-dateutil>=2.7 in /Users/sabrinaauger/.pyenv/versions/3.10.6/envs/wino/lib/python3.10/site-packages (from matplotlib) (2.8.2)\n",
      "Requirement already satisfied: six>=1.5 in /Users/sabrinaauger/.pyenv/versions/3.10.6/envs/wino/lib/python3.10/site-packages (from python-dateutil>=2.7->matplotlib) (1.16.0)\n",
      "Downloading matplotlib-3.8.2-cp310-cp310-macosx_10_12_x86_64.whl (7.6 MB)\n",
      "\u001b[2K   \u001b[90m━━━━━━━━━━━━━━━━━━━━━━━━━━━━━━━━━━━━━━━━\u001b[0m \u001b[32m7.6/7.6 MB\u001b[0m \u001b[31m197.6 kB/s\u001b[0m eta \u001b[36m0:00:00\u001b[0m00:01\u001b[0m00:02\u001b[0m\n",
      "\u001b[?25hDownloading contourpy-1.2.0-cp310-cp310-macosx_10_9_x86_64.whl (256 kB)\n",
      "\u001b[2K   \u001b[90m━━━━━━━━━━━━━━━━━━━━━━━━━━━━━━━━━━━━━━━━\u001b[0m \u001b[32m256.9/256.9 kB\u001b[0m \u001b[31m45.9 kB/s\u001b[0m eta \u001b[36m0:00:00\u001b[0m00:01\u001b[0m00:01\u001b[0m\n",
      "\u001b[?25hUsing cached cycler-0.12.1-py3-none-any.whl (8.3 kB)\n",
      "Downloading fonttools-4.45.1-cp310-cp310-macosx_10_9_x86_64.whl (2.3 MB)\n",
      "\u001b[2K   \u001b[90m━━━━━━━━━━━━━━━━━━━━━━━━━━━━━━━━━━━━━━━━\u001b[0m \u001b[32m2.3/2.3 MB\u001b[0m \u001b[31m90.3 kB/s\u001b[0m eta \u001b[36m0:00:00\u001b[0m00:01\u001b[0m00:01\u001b[0mm\n",
      "\u001b[?25hUsing cached kiwisolver-1.4.5-cp310-cp310-macosx_10_9_x86_64.whl (68 kB)\n",
      "Downloading numpy-1.26.2-cp310-cp310-macosx_10_9_x86_64.whl (20.6 MB)\n",
      "\u001b[2K   \u001b[91m━━━\u001b[0m\u001b[91m╸\u001b[0m\u001b[90m━━━━━━━━━━━━━━━━━━━━━━━━━━━━━━━━━━━━\u001b[0m \u001b[32m2.0/20.6 MB\u001b[0m \u001b[31m103.2 kB/s\u001b[0m eta \u001b[36m0:03:01\u001b[0m\n",
      "\u001b[?25h\u001b[31mERROR: Exception:\n",
      "Traceback (most recent call last):\n",
      "  File \"/Users/sabrinaauger/.pyenv/versions/wino/lib/python3.10/site-packages/pip/_vendor/urllib3/response.py\", line 438, in _error_catcher\n",
      "    yield\n",
      "  File \"/Users/sabrinaauger/.pyenv/versions/wino/lib/python3.10/site-packages/pip/_vendor/urllib3/response.py\", line 561, in read\n",
      "    data = self._fp_read(amt) if not fp_closed else b\"\"\n",
      "  File \"/Users/sabrinaauger/.pyenv/versions/wino/lib/python3.10/site-packages/pip/_vendor/urllib3/response.py\", line 527, in _fp_read\n",
      "    return self._fp.read(amt) if amt is not None else self._fp.read()\n",
      "  File \"/Users/sabrinaauger/.pyenv/versions/wino/lib/python3.10/site-packages/pip/_vendor/cachecontrol/filewrapper.py\", line 98, in read\n",
      "    data: bytes = self.__fp.read(amt)\n",
      "  File \"/Users/sabrinaauger/.pyenv/versions/3.10.6/lib/python3.10/http/client.py\", line 465, in read\n",
      "    s = self.fp.read(amt)\n",
      "  File \"/Users/sabrinaauger/.pyenv/versions/3.10.6/lib/python3.10/socket.py\", line 705, in readinto\n",
      "    return self._sock.recv_into(b)\n",
      "  File \"/Users/sabrinaauger/.pyenv/versions/3.10.6/lib/python3.10/ssl.py\", line 1274, in recv_into\n",
      "    return self.read(nbytes, buffer)\n",
      "  File \"/Users/sabrinaauger/.pyenv/versions/3.10.6/lib/python3.10/ssl.py\", line 1130, in read\n",
      "    return self._sslobj.read(len, buffer)\n",
      "TimeoutError: The read operation timed out\n",
      "\n",
      "During handling of the above exception, another exception occurred:\n",
      "\n",
      "Traceback (most recent call last):\n",
      "  File \"/Users/sabrinaauger/.pyenv/versions/wino/lib/python3.10/site-packages/pip/_internal/cli/base_command.py\", line 180, in exc_logging_wrapper\n",
      "    status = run_func(*args)\n",
      "  File \"/Users/sabrinaauger/.pyenv/versions/wino/lib/python3.10/site-packages/pip/_internal/cli/req_command.py\", line 245, in wrapper\n",
      "    return func(self, options, args)\n",
      "  File \"/Users/sabrinaauger/.pyenv/versions/wino/lib/python3.10/site-packages/pip/_internal/commands/install.py\", line 377, in run\n",
      "    requirement_set = resolver.resolve(\n",
      "  File \"/Users/sabrinaauger/.pyenv/versions/wino/lib/python3.10/site-packages/pip/_internal/resolution/resolvelib/resolver.py\", line 179, in resolve\n",
      "    self.factory.preparer.prepare_linked_requirements_more(reqs)\n",
      "  File \"/Users/sabrinaauger/.pyenv/versions/wino/lib/python3.10/site-packages/pip/_internal/operations/prepare.py\", line 552, in prepare_linked_requirements_more\n",
      "    self._complete_partial_requirements(\n",
      "  File \"/Users/sabrinaauger/.pyenv/versions/wino/lib/python3.10/site-packages/pip/_internal/operations/prepare.py\", line 467, in _complete_partial_requirements\n",
      "    for link, (filepath, _) in batch_download:\n",
      "  File \"/Users/sabrinaauger/.pyenv/versions/wino/lib/python3.10/site-packages/pip/_internal/network/download.py\", line 183, in __call__\n",
      "    for chunk in chunks:\n",
      "  File \"/Users/sabrinaauger/.pyenv/versions/wino/lib/python3.10/site-packages/pip/_internal/cli/progress_bars.py\", line 53, in _rich_progress_bar\n",
      "    for chunk in iterable:\n",
      "  File \"/Users/sabrinaauger/.pyenv/versions/wino/lib/python3.10/site-packages/pip/_internal/network/utils.py\", line 63, in response_chunks\n",
      "    for chunk in response.raw.stream(\n",
      "  File \"/Users/sabrinaauger/.pyenv/versions/wino/lib/python3.10/site-packages/pip/_vendor/urllib3/response.py\", line 622, in stream\n",
      "    data = self.read(amt=amt, decode_content=decode_content)\n",
      "  File \"/Users/sabrinaauger/.pyenv/versions/wino/lib/python3.10/site-packages/pip/_vendor/urllib3/response.py\", line 560, in read\n",
      "    with self._error_catcher():\n",
      "  File \"/Users/sabrinaauger/.pyenv/versions/3.10.6/lib/python3.10/contextlib.py\", line 153, in __exit__\n",
      "    self.gen.throw(typ, value, traceback)\n",
      "  File \"/Users/sabrinaauger/.pyenv/versions/wino/lib/python3.10/site-packages/pip/_vendor/urllib3/response.py\", line 443, in _error_catcher\n",
      "    raise ReadTimeoutError(self._pool, None, \"Read timed out.\")\n",
      "pip._vendor.urllib3.exceptions.ReadTimeoutError: HTTPSConnectionPool(host='files.pythonhosted.org', port=443): Read timed out.\u001b[0m\u001b[31m\n",
      "\u001b[0m"
     ]
    }
   ],
   "source": [
    "# Verify which python environment we are running the notebook on\n",
    "\n",
    "!pyenv version\n",
    "!pip install kaggle\n",
    "!pip install matplotlib"
   ]
  },
  {
   "cell_type": "code",
   "execution_count": 3,
   "id": "3e51490d",
   "metadata": {},
   "outputs": [
    {
     "ename": "ModuleNotFoundError",
     "evalue": "No module named 'matplotlib'",
     "output_type": "error",
     "traceback": [
      "\u001b[0;31m---------------------------------------------------------------------------\u001b[0m",
      "\u001b[0;31mModuleNotFoundError\u001b[0m                       Traceback (most recent call last)",
      "Cell \u001b[0;32mIn[3], line 3\u001b[0m\n\u001b[1;32m      1\u001b[0m \u001b[38;5;66;03m#packages import\u001b[39;00m\n\u001b[0;32m----> 3\u001b[0m \u001b[38;5;28;01mimport\u001b[39;00m \u001b[38;5;21;01mmatplotlib\u001b[39;00m\u001b[38;5;21;01m.\u001b[39;00m\u001b[38;5;21;01mpyplot\u001b[39;00m \u001b[38;5;28;01mas\u001b[39;00m \u001b[38;5;21;01mplt\u001b[39;00m\n\u001b[1;32m      4\u001b[0m \u001b[38;5;28;01mimport\u001b[39;00m \u001b[38;5;21;01mseaborn\u001b[39;00m \u001b[38;5;28;01mas\u001b[39;00m \u001b[38;5;21;01msns\u001b[39;00m\n\u001b[1;32m      5\u001b[0m \u001b[38;5;28;01mimport\u001b[39;00m \u001b[38;5;21;01mpandas\u001b[39;00m \u001b[38;5;28;01mas\u001b[39;00m \u001b[38;5;21;01mpd\u001b[39;00m\n",
      "\u001b[0;31mModuleNotFoundError\u001b[0m: No module named 'matplotlib'"
     ]
    }
   ],
   "source": [
    "#packages import\n",
    "\n",
    "import matplotlib.pyplot as plt\n",
    "import seaborn as sns\n",
    "import pandas as pd\n",
    "import json\n",
    "import os\n",
    "import re\n",
    "from kaggle.api.kaggle_api_extended import KaggleApi\n",
    "import kaggle\n"
   ]
  },
  {
   "cell_type": "code",
   "execution_count": 75,
   "id": "10249b47",
   "metadata": {},
   "outputs": [
    {
     "name": "stdout",
     "output_type": "stream",
     "text": [
      "Authenticated as: jackzhong12\n"
     ]
    }
   ],
   "source": [
    "#Loading Kaggle username and key from user's own .kaggle/kaggle.json\n",
    "\n",
    "def load_kaggle_credentials():\n",
    "    kaggle_creds_path = os.path.expanduser(\"~/.kaggle/kaggle.json\")\n",
    "\n",
    "    if os.path.exists(kaggle_creds_path):\n",
    "        with open(kaggle_creds_path) as f:\n",
    "            kaggle_creds = json.load(f)\n",
    "            return kaggle_creds.get('username'), kaggle_creds.get('key')\n",
    "\n",
    "    return None, None\n",
    "\n",
    "# Load Kaggle credentials\n",
    "kaggle_username, kaggle_key = load_kaggle_credentials()\n",
    "\n",
    "# Authenticate with Kaggle API\n",
    "api = KaggleApi()\n",
    "api.authenticate()\n",
    "\n",
    "#REMOVE AFTER TESTING: Print Kaggle username for testing\n",
    "print(f\"Authenticated as: {kaggle_username}\")\n"
   ]
  },
  {
   "cell_type": "markdown",
   "id": "678660e6",
   "metadata": {},
   "source": [
    "# Import the dataset from Kaggle"
   ]
  },
  {
   "cell_type": "code",
   "execution_count": 32,
   "id": "a203919b",
   "metadata": {},
   "outputs": [
    {
     "name": "stdout",
     "output_type": "stream",
     "text": [
      "wine-reviews.zip: Skipping, found more recently modified local copy (use --force to force download)\n"
     ]
    }
   ],
   "source": [
    "#Retrieve the data from Kaggle platform\n",
    "!kaggle datasets download -d zynicide/wine-reviews\n"
   ]
  },
  {
   "cell_type": "code",
   "execution_count": 33,
   "id": "8a3b303b",
   "metadata": {},
   "outputs": [
    {
     "name": "stdout",
     "output_type": "stream",
     "text": [
      "Archive:  wine-reviews.zip\n",
      "replace winemag-data-130k-v2.csv? [y]es, [n]o, [A]ll, [N]one, [r]ename: "
     ]
    },
    {
     "name": "stdout",
     "output_type": "stream",
     "text": [
      "^C\n"
     ]
    }
   ],
   "source": [
    "#Unzip the data zip file\n",
    "!unzip wine-reviews.zip\n"
   ]
  },
  {
   "cell_type": "code",
   "execution_count": 36,
   "id": "9ec263ba",
   "metadata": {},
   "outputs": [],
   "source": [
    "#Retrieve the data from csv unzipped files into two dataframes\n",
    "wine1_df=pd.read_csv(\"~/code/sabrinaauger/wino/raw_data/winemag-data-130k-v2.csv\")\n"
   ]
  },
  {
   "cell_type": "code",
   "execution_count": 37,
   "id": "98563707",
   "metadata": {},
   "outputs": [],
   "source": [
    "wine2_df=pd.read_csv(\"~/code/sabrinaauger/wino/raw_data/winemag-data_first150k.csv\")\n"
   ]
  },
  {
   "cell_type": "code",
   "execution_count": 38,
   "id": "79c814ac",
   "metadata": {},
   "outputs": [
    {
     "data": {
      "text/html": [
       "<div>\n",
       "<style scoped>\n",
       "    .dataframe tbody tr th:only-of-type {\n",
       "        vertical-align: middle;\n",
       "    }\n",
       "\n",
       "    .dataframe tbody tr th {\n",
       "        vertical-align: top;\n",
       "    }\n",
       "\n",
       "    .dataframe thead th {\n",
       "        text-align: right;\n",
       "    }\n",
       "</style>\n",
       "<table border=\"1\" class=\"dataframe\">\n",
       "  <thead>\n",
       "    <tr style=\"text-align: right;\">\n",
       "      <th></th>\n",
       "      <th>Unnamed: 0</th>\n",
       "      <th>country</th>\n",
       "      <th>description</th>\n",
       "      <th>designation</th>\n",
       "      <th>points</th>\n",
       "      <th>price</th>\n",
       "      <th>province</th>\n",
       "      <th>region_1</th>\n",
       "      <th>region_2</th>\n",
       "      <th>variety</th>\n",
       "      <th>winery</th>\n",
       "    </tr>\n",
       "  </thead>\n",
       "  <tbody>\n",
       "    <tr>\n",
       "      <th>0</th>\n",
       "      <td>0</td>\n",
       "      <td>US</td>\n",
       "      <td>This tremendous 100% varietal wine hails from ...</td>\n",
       "      <td>Martha's Vineyard</td>\n",
       "      <td>96</td>\n",
       "      <td>235.0</td>\n",
       "      <td>California</td>\n",
       "      <td>Napa Valley</td>\n",
       "      <td>Napa</td>\n",
       "      <td>Cabernet Sauvignon</td>\n",
       "      <td>Heitz</td>\n",
       "    </tr>\n",
       "    <tr>\n",
       "      <th>1</th>\n",
       "      <td>1</td>\n",
       "      <td>Spain</td>\n",
       "      <td>Ripe aromas of fig, blackberry and cassis are ...</td>\n",
       "      <td>Carodorum Selección Especial Reserva</td>\n",
       "      <td>96</td>\n",
       "      <td>110.0</td>\n",
       "      <td>Northern Spain</td>\n",
       "      <td>Toro</td>\n",
       "      <td>NaN</td>\n",
       "      <td>Tinta de Toro</td>\n",
       "      <td>Bodega Carmen Rodríguez</td>\n",
       "    </tr>\n",
       "    <tr>\n",
       "      <th>2</th>\n",
       "      <td>2</td>\n",
       "      <td>US</td>\n",
       "      <td>Mac Watson honors the memory of a wine once ma...</td>\n",
       "      <td>Special Selected Late Harvest</td>\n",
       "      <td>96</td>\n",
       "      <td>90.0</td>\n",
       "      <td>California</td>\n",
       "      <td>Knights Valley</td>\n",
       "      <td>Sonoma</td>\n",
       "      <td>Sauvignon Blanc</td>\n",
       "      <td>Macauley</td>\n",
       "    </tr>\n",
       "    <tr>\n",
       "      <th>3</th>\n",
       "      <td>3</td>\n",
       "      <td>US</td>\n",
       "      <td>This spent 20 months in 30% new French oak, an...</td>\n",
       "      <td>Reserve</td>\n",
       "      <td>96</td>\n",
       "      <td>65.0</td>\n",
       "      <td>Oregon</td>\n",
       "      <td>Willamette Valley</td>\n",
       "      <td>Willamette Valley</td>\n",
       "      <td>Pinot Noir</td>\n",
       "      <td>Ponzi</td>\n",
       "    </tr>\n",
       "    <tr>\n",
       "      <th>4</th>\n",
       "      <td>4</td>\n",
       "      <td>France</td>\n",
       "      <td>This is the top wine from La Bégude, named aft...</td>\n",
       "      <td>La Brûlade</td>\n",
       "      <td>95</td>\n",
       "      <td>66.0</td>\n",
       "      <td>Provence</td>\n",
       "      <td>Bandol</td>\n",
       "      <td>NaN</td>\n",
       "      <td>Provence red blend</td>\n",
       "      <td>Domaine de la Bégude</td>\n",
       "    </tr>\n",
       "  </tbody>\n",
       "</table>\n",
       "</div>"
      ],
      "text/plain": [
       "   Unnamed: 0 country                                        description  \\\n",
       "0           0      US  This tremendous 100% varietal wine hails from ...   \n",
       "1           1   Spain  Ripe aromas of fig, blackberry and cassis are ...   \n",
       "2           2      US  Mac Watson honors the memory of a wine once ma...   \n",
       "3           3      US  This spent 20 months in 30% new French oak, an...   \n",
       "4           4  France  This is the top wine from La Bégude, named aft...   \n",
       "\n",
       "                            designation  points  price        province  \\\n",
       "0                     Martha's Vineyard      96  235.0      California   \n",
       "1  Carodorum Selección Especial Reserva      96  110.0  Northern Spain   \n",
       "2         Special Selected Late Harvest      96   90.0      California   \n",
       "3                               Reserve      96   65.0          Oregon   \n",
       "4                            La Brûlade      95   66.0        Provence   \n",
       "\n",
       "            region_1           region_2             variety  \\\n",
       "0        Napa Valley               Napa  Cabernet Sauvignon   \n",
       "1               Toro                NaN       Tinta de Toro   \n",
       "2     Knights Valley             Sonoma     Sauvignon Blanc   \n",
       "3  Willamette Valley  Willamette Valley          Pinot Noir   \n",
       "4             Bandol                NaN  Provence red blend   \n",
       "\n",
       "                    winery  \n",
       "0                    Heitz  \n",
       "1  Bodega Carmen Rodríguez  \n",
       "2                 Macauley  \n",
       "3                    Ponzi  \n",
       "4     Domaine de la Bégude  "
      ]
     },
     "execution_count": 38,
     "metadata": {},
     "output_type": "execute_result"
    }
   ],
   "source": [
    "wine2_df.head()\n"
   ]
  },
  {
   "cell_type": "code",
   "execution_count": 39,
   "id": "e89fbb11",
   "metadata": {},
   "outputs": [
    {
     "data": {
      "text/html": [
       "<div>\n",
       "<style scoped>\n",
       "    .dataframe tbody tr th:only-of-type {\n",
       "        vertical-align: middle;\n",
       "    }\n",
       "\n",
       "    .dataframe tbody tr th {\n",
       "        vertical-align: top;\n",
       "    }\n",
       "\n",
       "    .dataframe thead th {\n",
       "        text-align: right;\n",
       "    }\n",
       "</style>\n",
       "<table border=\"1\" class=\"dataframe\">\n",
       "  <thead>\n",
       "    <tr style=\"text-align: right;\">\n",
       "      <th></th>\n",
       "      <th>Unnamed: 0</th>\n",
       "      <th>country</th>\n",
       "      <th>description</th>\n",
       "      <th>designation</th>\n",
       "      <th>points</th>\n",
       "      <th>price</th>\n",
       "      <th>province</th>\n",
       "      <th>region_1</th>\n",
       "      <th>region_2</th>\n",
       "      <th>taster_name</th>\n",
       "      <th>taster_twitter_handle</th>\n",
       "      <th>title</th>\n",
       "      <th>variety</th>\n",
       "      <th>winery</th>\n",
       "    </tr>\n",
       "  </thead>\n",
       "  <tbody>\n",
       "    <tr>\n",
       "      <th>0</th>\n",
       "      <td>0</td>\n",
       "      <td>Italy</td>\n",
       "      <td>Aromas include tropical fruit, broom, brimston...</td>\n",
       "      <td>Vulkà Bianco</td>\n",
       "      <td>87</td>\n",
       "      <td>NaN</td>\n",
       "      <td>Sicily &amp; Sardinia</td>\n",
       "      <td>Etna</td>\n",
       "      <td>NaN</td>\n",
       "      <td>Kerin O’Keefe</td>\n",
       "      <td>@kerinokeefe</td>\n",
       "      <td>Nicosia 2013 Vulkà Bianco  (Etna)</td>\n",
       "      <td>White Blend</td>\n",
       "      <td>Nicosia</td>\n",
       "    </tr>\n",
       "    <tr>\n",
       "      <th>1</th>\n",
       "      <td>1</td>\n",
       "      <td>Portugal</td>\n",
       "      <td>This is ripe and fruity, a wine that is smooth...</td>\n",
       "      <td>Avidagos</td>\n",
       "      <td>87</td>\n",
       "      <td>15.0</td>\n",
       "      <td>Douro</td>\n",
       "      <td>NaN</td>\n",
       "      <td>NaN</td>\n",
       "      <td>Roger Voss</td>\n",
       "      <td>@vossroger</td>\n",
       "      <td>Quinta dos Avidagos 2011 Avidagos Red (Douro)</td>\n",
       "      <td>Portuguese Red</td>\n",
       "      <td>Quinta dos Avidagos</td>\n",
       "    </tr>\n",
       "    <tr>\n",
       "      <th>2</th>\n",
       "      <td>2</td>\n",
       "      <td>US</td>\n",
       "      <td>Tart and snappy, the flavors of lime flesh and...</td>\n",
       "      <td>NaN</td>\n",
       "      <td>87</td>\n",
       "      <td>14.0</td>\n",
       "      <td>Oregon</td>\n",
       "      <td>Willamette Valley</td>\n",
       "      <td>Willamette Valley</td>\n",
       "      <td>Paul Gregutt</td>\n",
       "      <td>@paulgwine</td>\n",
       "      <td>Rainstorm 2013 Pinot Gris (Willamette Valley)</td>\n",
       "      <td>Pinot Gris</td>\n",
       "      <td>Rainstorm</td>\n",
       "    </tr>\n",
       "    <tr>\n",
       "      <th>3</th>\n",
       "      <td>3</td>\n",
       "      <td>US</td>\n",
       "      <td>Pineapple rind, lemon pith and orange blossom ...</td>\n",
       "      <td>Reserve Late Harvest</td>\n",
       "      <td>87</td>\n",
       "      <td>13.0</td>\n",
       "      <td>Michigan</td>\n",
       "      <td>Lake Michigan Shore</td>\n",
       "      <td>NaN</td>\n",
       "      <td>Alexander Peartree</td>\n",
       "      <td>NaN</td>\n",
       "      <td>St. Julian 2013 Reserve Late Harvest Riesling ...</td>\n",
       "      <td>Riesling</td>\n",
       "      <td>St. Julian</td>\n",
       "    </tr>\n",
       "    <tr>\n",
       "      <th>4</th>\n",
       "      <td>4</td>\n",
       "      <td>US</td>\n",
       "      <td>Much like the regular bottling from 2012, this...</td>\n",
       "      <td>Vintner's Reserve Wild Child Block</td>\n",
       "      <td>87</td>\n",
       "      <td>65.0</td>\n",
       "      <td>Oregon</td>\n",
       "      <td>Willamette Valley</td>\n",
       "      <td>Willamette Valley</td>\n",
       "      <td>Paul Gregutt</td>\n",
       "      <td>@paulgwine</td>\n",
       "      <td>Sweet Cheeks 2012 Vintner's Reserve Wild Child...</td>\n",
       "      <td>Pinot Noir</td>\n",
       "      <td>Sweet Cheeks</td>\n",
       "    </tr>\n",
       "  </tbody>\n",
       "</table>\n",
       "</div>"
      ],
      "text/plain": [
       "   Unnamed: 0   country                                        description  \\\n",
       "0           0     Italy  Aromas include tropical fruit, broom, brimston...   \n",
       "1           1  Portugal  This is ripe and fruity, a wine that is smooth...   \n",
       "2           2        US  Tart and snappy, the flavors of lime flesh and...   \n",
       "3           3        US  Pineapple rind, lemon pith and orange blossom ...   \n",
       "4           4        US  Much like the regular bottling from 2012, this...   \n",
       "\n",
       "                          designation  points  price           province  \\\n",
       "0                        Vulkà Bianco      87    NaN  Sicily & Sardinia   \n",
       "1                            Avidagos      87   15.0              Douro   \n",
       "2                                 NaN      87   14.0             Oregon   \n",
       "3                Reserve Late Harvest      87   13.0           Michigan   \n",
       "4  Vintner's Reserve Wild Child Block      87   65.0             Oregon   \n",
       "\n",
       "              region_1           region_2         taster_name  \\\n",
       "0                 Etna                NaN       Kerin O’Keefe   \n",
       "1                  NaN                NaN          Roger Voss   \n",
       "2    Willamette Valley  Willamette Valley        Paul Gregutt   \n",
       "3  Lake Michigan Shore                NaN  Alexander Peartree   \n",
       "4    Willamette Valley  Willamette Valley        Paul Gregutt   \n",
       "\n",
       "  taster_twitter_handle                                              title  \\\n",
       "0          @kerinokeefe                  Nicosia 2013 Vulkà Bianco  (Etna)   \n",
       "1            @vossroger      Quinta dos Avidagos 2011 Avidagos Red (Douro)   \n",
       "2           @paulgwine       Rainstorm 2013 Pinot Gris (Willamette Valley)   \n",
       "3                   NaN  St. Julian 2013 Reserve Late Harvest Riesling ...   \n",
       "4           @paulgwine   Sweet Cheeks 2012 Vintner's Reserve Wild Child...   \n",
       "\n",
       "          variety               winery  \n",
       "0     White Blend              Nicosia  \n",
       "1  Portuguese Red  Quinta dos Avidagos  \n",
       "2      Pinot Gris            Rainstorm  \n",
       "3        Riesling           St. Julian  \n",
       "4      Pinot Noir         Sweet Cheeks  "
      ]
     },
     "execution_count": 39,
     "metadata": {},
     "output_type": "execute_result"
    }
   ],
   "source": [
    "wine1_df.head()\n"
   ]
  },
  {
   "cell_type": "markdown",
   "id": "9fc7d120",
   "metadata": {},
   "source": [
    "\n",
    "\n"
   ]
  },
  {
   "cell_type": "markdown",
   "id": "79acd551",
   "metadata": {},
   "source": [
    "# Data vizualisation"
   ]
  },
  {
   "cell_type": "code",
   "execution_count": 40,
   "id": "309e9cb3",
   "metadata": {},
   "outputs": [
    {
     "data": {
      "text/plain": [
       "(Index(['Unnamed: 0', 'country', 'description', 'designation', 'points',\n",
       "        'price', 'province', 'region_1', 'region_2', 'taster_name',\n",
       "        'taster_twitter_handle', 'title', 'variety', 'winery'],\n",
       "       dtype='object'),\n",
       " Index(['Unnamed: 0', 'country', 'description', 'designation', 'points',\n",
       "        'price', 'province', 'region_1', 'region_2', 'variety', 'winery'],\n",
       "       dtype='object'))"
      ]
     },
     "execution_count": 40,
     "metadata": {},
     "output_type": "execute_result"
    }
   ],
   "source": [
    "#Columns overview of both datasets\n",
    "wine1_df.columns, wine2_df.columns\n"
   ]
  },
  {
   "cell_type": "code",
   "execution_count": 41,
   "id": "50a01096",
   "metadata": {
    "scrolled": true
   },
   "outputs": [
    {
     "data": {
      "text/plain": [
       "array(['White Blend', 'Portuguese Red', 'Pinot Gris', 'Riesling',\n",
       "       'Pinot Noir', 'Tempranillo-Merlot', 'Frappato', 'Gewürztraminer',\n",
       "       'Cabernet Sauvignon', 'Nerello Mascalese', 'Chardonnay', 'Malbec',\n",
       "       'Tempranillo Blend', 'Meritage', 'Red Blend', 'Merlot',\n",
       "       \"Nero d'Avola\", 'Chenin Blanc', 'Gamay', 'Sauvignon Blanc',\n",
       "       'Viognier-Chardonnay', 'Primitivo', 'Catarratto', 'Inzolia',\n",
       "       'Petit Verdot', 'Monica', 'Bordeaux-style White Blend', 'Grillo',\n",
       "       'Sangiovese', 'Cabernet Franc', 'Champagne Blend',\n",
       "       'Bordeaux-style Red Blend', 'Aglianico', 'Petite Sirah',\n",
       "       'Touriga Nacional', 'Carmenère', 'Albariño', 'Petit Manseng',\n",
       "       'Rosé', 'Zinfandel', 'Vernaccia', 'Rosato', 'Grüner Veltliner',\n",
       "       'Viognier', 'Vermentino', 'Grenache Blanc', 'Syrah', 'Nebbiolo',\n",
       "       'Shiraz-Cabernet Sauvignon', 'Pinot Blanc', 'Alsace white blend',\n",
       "       'Barbera', 'Rhône-style Red Blend', 'Portuguese White', 'Graciano',\n",
       "       'Tannat-Cabernet', 'Sauvignon', 'Sangiovese Grosso', 'Torrontés',\n",
       "       'Prugnolo Gentile', 'G-S-M', 'Verdejo', 'Fumé Blanc', 'Furmint',\n",
       "       'Pinot Bianco', 'Bonarda', 'Shiraz', 'Montepulciano', 'Moscato',\n",
       "       'Grenache', 'Ugni Blanc-Colombard', 'Syrah-Viognier',\n",
       "       'Blaufränkisch', 'Friulano', 'Assyrtico', 'Carignan-Grenache',\n",
       "       'Sagrantino', 'Savagnin', 'Cabernet Sauvignon-Syrah', 'Prosecco',\n",
       "       'Vignoles', 'Sparkling Blend', 'Muscat', 'Muscadelle',\n",
       "       'Shiraz-Viognier', 'Garganega', 'Pinot Grigio', 'Tempranillo',\n",
       "       'Zierfandler', 'Cortese', 'Mencía', 'Zweigelt', 'Melon',\n",
       "       'Rhône-style White Blend', 'Vidal', 'Cannonau', 'Verdelho',\n",
       "       'Marsanne', 'Scheurebe', 'Kerner', 'Syrah-Grenache', 'Dolcetto',\n",
       "       'Vilana', 'Glera', 'Viura', 'Garnacha Tintorera', 'Pinot Nero',\n",
       "       'Roter Veltliner', 'Pinotage', 'Sémillon', 'Pinot Noir-Gamay',\n",
       "       'Antão Vaz', 'Cabernet Sauvignon-Carmenère', 'Verdejo-Viura',\n",
       "       'Verduzzo', 'Verdicchio', 'Silvaner', 'Colombard', 'Carricante',\n",
       "       'Sylvaner', 'Fiano', 'Früburgunder', 'Sousão', 'Roussanne',\n",
       "       'Avesso', 'Cinsault', 'Chinuri', 'Tinta Miúda',\n",
       "       'Muscat Blanc à Petits Grains', 'Portuguese Sparkling',\n",
       "       'Monastrell', 'Xarel-lo', 'Greco', 'Trebbiano',\n",
       "       'Corvina, Rondinella, Molinara', 'Port', 'Chenin Blanc-Chardonnay',\n",
       "       'Insolia', 'Merlot-Malbec', 'Ribolla Gialla',\n",
       "       'Cabernet Sauvignon-Merlot', 'Duras', 'Weissburgunder', 'Roditis',\n",
       "       'Traminer', 'Papaskarasi', 'Tannat-Syrah', 'Marsanne-Roussanne',\n",
       "       'Charbono', 'Merlot-Argaman', 'Prié Blanc', 'Sherry',\n",
       "       'Provence red blend', 'Tannat', 'Zibibbo', 'Falanghina',\n",
       "       'Garnacha', 'Negroamaro', 'Mourvèdre', 'Syrah-Cabernet',\n",
       "       'Müller-Thurgau', 'Pinot Meunier', 'Cabernet Sauvignon-Sangiovese',\n",
       "       'Austrian Red Blend', 'Teroldego', 'Pansa Blanca',\n",
       "       'Muskat Ottonel', 'Sauvignon Blanc-Semillon', 'Claret',\n",
       "       'Semillon-Sauvignon Blanc', 'Bical', 'Moscatel', 'Rosado',\n",
       "       'Viura-Chardonnay', 'Baga', 'Malvasia Bianca',\n",
       "       'Gelber Muskateller', 'Malbec-Merlot', 'Monastrell-Syrah',\n",
       "       'Malbec-Tannat', 'Malbec-Cabernet Franc', 'Turbiana', 'Refosco',\n",
       "       'Alvarinho', 'Manzoni', 'Aragonês', 'Agiorgitiko', 'Malagousia',\n",
       "       'Assyrtiko', 'Ruché', 'Welschriesling', 'Tinta de Toro',\n",
       "       'Cabernet Moravia', 'Rieslaner', 'Traminette', 'Chambourcin',\n",
       "       'Nero di Troia', 'Lambrusco di Sorbara', 'Cesanese',\n",
       "       'Feteasca Neagra', 'Lagrein', 'Tinta Fina', 'St. Laurent',\n",
       "       'Marsanne-Viognier', 'Cabernet Sauvignon-Shiraz',\n",
       "       'Syrah-Cabernet Sauvignon', 'Gewürztraminer-Riesling',\n",
       "       'Pugnitello', 'Cerceal', 'Touriga Nacional Blend',\n",
       "       'Austrian white blend', 'Tocai', 'Tinta Roriz',\n",
       "       'Chardonnay-Viognier', 'Fernão Pires',\n",
       "       'Cabernet Franc-Cabernet Sauvignon', 'Grenache-Syrah',\n",
       "       'Seyval Blanc', 'Muscat Canelli', 'Cabernet Merlot',\n",
       "       'Tempranillo-Cabernet Sauvignon', 'Arinto', 'Aragonez',\n",
       "       'Merlot-Cabernet Franc', 'Syrah-Petite Sirah', 'Cabernet Blend',\n",
       "       'Maturana', 'Pecorino', 'Rotgipfler', 'Kinali Yapincak',\n",
       "       'Cabernet Franc-Carmenère', 'Magliocco', 'Gamay Noir',\n",
       "       'Sauvignon Gris', 'Spätburgunder', 'Picpoul', 'Vidal Blanc',\n",
       "       'Albanello', 'White Port', 'Arneis', 'Malvasia', 'Plavac Mali',\n",
       "       'Lemberger', 'Saperavi', 'Altesse', 'Blanc du Bois',\n",
       "       'Provence white blend', 'Nosiola', 'Dornfelder',\n",
       "       'Roussanne-Viognier', 'Ojaleshi', 'Godello', 'Mondeuse',\n",
       "       'Perricone', 'Pedro Ximénez', 'Auxerrois', 'Syrah-Merlot',\n",
       "       'Albana', 'Muskat', 'Lambrusco', 'Cabernet Sauvignon-Malbec',\n",
       "       'Tinto Fino', 'Malbec-Cabernet Sauvignon', 'Moschofilero',\n",
       "       'Grechetto', 'Encruzado', 'Carignano', 'Cabernet Franc-Merlot',\n",
       "       'Torbato', 'Syrah-Petit Verdot', 'Garnacha Blanca', 'Pallagrello',\n",
       "       'Morava', 'Syrah-Mourvèdre', 'Aleatico', 'Carcajolu', 'Kisi',\n",
       "       'Shiraz-Grenache', 'Palomino', 'Grenache-Carignan', 'Nascetta',\n",
       "       'Siria', 'Malbec-Syrah', 'Asprinio', 'Feteascǎ Regalǎ',\n",
       "       'Lambrusco Grasparossa', 'Marselan', 'Tocai Friulano', 'Schiava',\n",
       "       'Alfrocheiro', 'Chardonnay-Semillon', 'Corvina', 'Norton',\n",
       "       'Alicante Bouschet', 'Tokaji', 'Moscadello',\n",
       "       'Cabernet Sauvignon-Tempranillo', 'Carignan', 'Loureiro-Arinto',\n",
       "       'Cabernet-Syrah', 'Sauvignon Blanc-Chardonnay', 'Symphony',\n",
       "       'Edelzwicker', 'Madeira Blend', 'Black Muscat', 'Grenache Noir',\n",
       "       'Durella', 'Xinomavro', 'Tinto del Pais',\n",
       "       'Merlot-Cabernet Sauvignon', 'Cercial', 'Johannisberg Riesling',\n",
       "       'Petite Verdot', 'Passerina', 'Valdiguié',\n",
       "       'Colombard-Sauvignon Blanc', 'Kangoun', 'Loureiro', 'Posip',\n",
       "       'Uva di Troia', 'Gros and Petit Manseng', 'Jacquère',\n",
       "       'Kalecik Karasi', 'Karasakiz', 'Mourvèdre-Syrah', 'Negrette',\n",
       "       'Zierfandler-Rotgipfler', 'Clairette', 'Raboso', 'País', 'Mauzac',\n",
       "       'Pinot Auxerrois', 'Chenin Blanc-Sauvignon Blanc', 'Diamond',\n",
       "       'Marzemino', 'Tinta Barroca', 'Chardonnay-Sauvignon Blanc',\n",
       "       'Castelão', 'Trebbiano Spoletino', 'Teran', 'Trepat', 'Freisa',\n",
       "       'Neuburger', 'Sämling', 'Chasselas', 'Hárslevelü', 'Trincadeira',\n",
       "       'Merlot-Tannat', 'Rkatsiteli', 'Melnik', 'Siegerrebe',\n",
       "       'Trousseau Gris', 'Grenache Blend', 'Gros Manseng',\n",
       "       'Portuguese Rosé', 'Brachetto', 'Mantonico', 'Ekigaïna',\n",
       "       'Muskateller', 'Aligoté', 'Sangiovese Cabernet',\n",
       "       'Touriga Nacional-Cabernet Sauvignon', 'Muscat Blanc', 'Argaman',\n",
       "       'Viognier-Roussanne', 'Pallagrello Bianco', 'Bobal',\n",
       "       'Malvasia Istriana', 'Cabernet Sauvignon-Cabernet Franc',\n",
       "       'Baco Noir', 'Veltliner', 'Tempranillo-Tannat', 'Morillon',\n",
       "       'Touriga Franca', 'Picolit', 'Barbera-Nebbiolo', 'Prieto Picudo',\n",
       "       'Gaglioppo', 'Tokay', 'Sacy', 'Piedirosso', 'Piquepoul Blanc',\n",
       "       'Mansois', 'Chardonnay-Sauvignon', 'Tempranillo-Garnacha',\n",
       "       'Carmenère-Cabernet Sauvignon', 'Chenin Blanc-Viognier',\n",
       "       'Susumaniello', 'Vitovska', 'Orange Muscat', 'Grauburgunder',\n",
       "       'Carignane', 'Moscatel Roxo', 'Tannat-Merlot', 'Nerello Cappuccio',\n",
       "       'Counoise', 'Macabeo', 'Mazuelo', 'Sauvignon-Sémillon',\n",
       "       'Tinta del Pais', 'Vranec', 'Mavrud', \"Cesanese d'Affile\",\n",
       "       'Moscato Giallo', 'Debit', 'Verdil', 'Cabernet',\n",
       "       'Verduzzo Friulano ', 'Treixadura', \"Loin de l'Oeil\",\n",
       "       'Coda di Volpe', 'Grenache-Mourvèdre', 'Forcallà', 'Viura-Verdejo',\n",
       "       'Bombino Bianco', 'Pinot-Chardonnay', 'Syrah-Tempranillo',\n",
       "       'Cabernet Sauvignon-Barbera', 'Merlot-Cabernet',\n",
       "       \"Muscat d'Alexandrie\", 'Jaen', 'Tinta del Toro', 'Timorasso',\n",
       "       'Pigato', 'Sangiovese-Cabernet Sauvignon', 'Shiraz-Cabernet',\n",
       "       'Viognier-Gewürztraminer', 'Prunelard',\n",
       "       'Sauvignon Blanc-Chenin Blanc', 'Gros Plant',\n",
       "       'Malbec-Petit Verdot', 'Colombard-Ugni Blanc', 'Grignolino',\n",
       "       'Garnacha-Syrah', 'Rufete', 'Tempranillo-Shiraz', 'Mtsvane',\n",
       "       'Chardonnay-Pinot Gris', 'Marawi', 'Chardonnay-Pinot Blanc',\n",
       "       'Mataro', 'Tinta Cao', 'Blauer Portugieser', 'Ugni Blanc',\n",
       "       'Groppello', 'Semillon-Chardonnay', 'Irsai Oliver', 'Alvarelhão',\n",
       "       'Poulsard', 'Grenache-Shiraz', 'Baga-Touriga Nacional', 'Carineña',\n",
       "       'Pignoletto', 'Muscatel', 'Mavrodaphne', 'Ciliegiolo',\n",
       "       'Viognier-Grenache Blanc', 'Greco Bianco',\n",
       "       'Cabernet Sauvignon-Merlot-Shiraz', 'Sciaccerellu', 'Zelen',\n",
       "       'Alicante', 'Emir', 'Rosenmuskateller', 'Tsolikouri', 'Narince',\n",
       "       'Malbec-Cabernet', 'Touriga', 'Grecanico', 'Carmenère-Syrah',\n",
       "       'Madeleine Angevine', 'Mavroudi', 'Pinot Blanc-Pinot Noir',\n",
       "       'Muscat Hamburg', 'Tempranillo Blanco', 'Casavecchia',\n",
       "       'Pinot Gris-Gewürztraminer', 'White Riesling', 'Tinto Velasco',\n",
       "       'Hondarrabi Zuri', 'Nuragus', 'Xynisteri', 'Kadarka',\n",
       "       'Sauvignon Musqué', 'Roussanne-Marsanne', 'Incrocio Manzoni',\n",
       "       'Terrantez', 'Bual', 'Okuzgozu', 'Rivaner', 'Doña Blanca',\n",
       "       'Graševina', 'Lambrusco Salamino', 'Sangiovese-Syrah',\n",
       "       'Tannat-Cabernet Franc', 'Thrapsathiri', 'Fer Servadou', 'Mission',\n",
       "       'Kekfrankos', 'Cococciola', 'Blauburgunder', 'Marquette',\n",
       "       'Romorantin', 'Verdejo-Sauvignon Blanc', 'Braucol',\n",
       "       'Malvasia-Viura', 'Savatiano', 'Cabernet Franc-Malbec',\n",
       "       'Pallagrello Nero', 'Rebula', 'Vespolina', 'Shiraz-Malbec', 'Rebo',\n",
       "       'Macabeo-Chardonnay', 'Tempranillo-Malbec', 'Tamjanika',\n",
       "       'Trousseau', 'Bacchus', 'Syrah-Malbec', 'Syrah-Cabernet Franc',\n",
       "       'Macabeo-Moscatel', 'Cariñena-Garnacha', 'Plyto',\n",
       "       'Códega do Larinho', 'Sideritis', 'Çalkarası', 'Azal',\n",
       "       'Moscatel Graúdo', 'Viosinho', 'Moschofilero-Chardonnay',\n",
       "       'Paralleda', 'Rara Neagra', 'Malvasia di Candia', 'Maria Gomes',\n",
       "       'Molinara', 'Malvar', 'Airen', 'Erbaluce', 'Muscat of Alexandria',\n",
       "       'Verdosilla', 'Abouriou', 'Pinot Noir-Syrah', 'Nielluciu',\n",
       "       'Malbec-Bonarda', 'Vespaiolo', 'Malbec-Carménère', 'Biancolella',\n",
       "       'Sauvignon Blanc-Verdejo', 'Aidani', 'Garnacha-Monastrell',\n",
       "       'Vinhão', 'Souzao', 'Roter Traminer', 'Moscatel de Alejandría',\n",
       "       'Rolle', 'Tinta Francisca', 'Malvasia Nera', 'Orangetraube',\n",
       "       'Riesling-Chardonnay', 'Žilavka', 'Portuguiser', 'Listán Negro',\n",
       "       'Pinotage-Merlot', 'Muscadine', 'Maria Gomes-Bical', 'Grolleau',\n",
       "       'Zlahtina', 'Syrah-Grenache-Viognier', 'Jacquez', 'Gouveio',\n",
       "       'Canaiolo', 'Carignan-Syrah', 'Bombino Nero',\n",
       "       'Chardonnay-Riesling', 'Malagouzia-Chardonnay', 'Mavrotragano',\n",
       "       'Bovale', 'Frankovka', 'Shiraz-Roussanne', 'Cabernet-Shiraz',\n",
       "       'Syrah-Carignan', 'Elbling', 'Gragnano', 'Garnacha Blend',\n",
       "       'Pinot Blanc-Chardonnay', 'Schwartzriesling', 'Petit Meslier',\n",
       "       'Bastardo', 'Vidadillo', 'Misket', 'Chardonnay Weissburgunder',\n",
       "       'Other', 'Robola', 'Merlot-Shiraz', 'Malagouzia', 'Folle Blanche',\n",
       "       'Malbec Blend', 'Merlot-Syrah', 'Tamianka', 'Cabernet Pfeffer',\n",
       "       'Morio Muskat', 'Rabigato', 'Babić', 'Roviello', 'Yapincak',\n",
       "       'Sauvignonasse', 'Viognier-Marsanne', 'Mandilaria', 'Meseguera',\n",
       "       'Alvarinho-Chardonnay', 'Saperavi-Merlot', 'Pinot Blanc-Viognier',\n",
       "       'Teroldego Rotaliano', 'Biancu Gentile', 'Garnacha-Tempranillo',\n",
       "       'Xinisteri', 'Sauvignon Blanc-Sauvignon Gris',\n",
       "       'Trebbiano di Lugana', 'Albarossa', 'Ryzlink Rýnský', 'Verdeca',\n",
       "       'Cabernet Sauvignon Grenache', 'Tămâioasă Românească',\n",
       "       'Black Monukka', 'Merlot-Grenache', 'Vranac', 'Tempranillo-Syrah',\n",
       "       'Chardonel', 'Silvaner-Traminer', 'Uvalino',\n",
       "       'Merseguera-Sauvignon Blanc', 'Cabernet-Malbec', 'Boğazkere',\n",
       "       'Gelber Traminer', 'Vermentino Nero', 'Cayuga', 'Tinta Amarela',\n",
       "       'Tinta Negra Mole', 'Moscato Rosa', 'Chelois',\n",
       "       'Sauvignon Blanc-Assyrtiko', nan, 'Muscadel', 'Shiraz-Tempranillo',\n",
       "       'Roussanne-Grenache Blanc', 'Biancale', 'Ansonica',\n",
       "       'Syrah-Bonarda', 'Durif', 'Franconia', 'Malbec-Tempranillo',\n",
       "       'Nasco', 'Monastrell-Petit Verdot', 'Sirica', 'Vital', 'Espadeiro',\n",
       "       'Apple', 'Pinot Grigio-Sauvignon Blanc', 'Blatina', 'Karalahna',\n",
       "       'Feteasca', 'Sercial', 'Valvin Muscat', 'Malvasia Fina',\n",
       "       'Roditis-Moschofilero', 'St. Vincent', 'Chancellor', 'Premsal',\n",
       "       'Jampal', 'Tokay Pinot Gris', 'Colorino', 'Picapoll', 'Blauburger',\n",
       "       'Tinta Madeira', 'Centesimino', 'Grenache Gris', 'Trajadura',\n",
       "       'Merlot-Petite Verdot', 'Ramisco', 'Catalanesca',\n",
       "       'Garnacha-Cabernet', 'Garnacha-Cariñena', 'Gamza',\n",
       "       'Cabernet Franc-Lemberger', 'Chardonnay-Albariño',\n",
       "       'Shiraz-Mourvèdre', 'Mavrokalavryta', 'Favorita', 'Babosa Negro',\n",
       "       'Tintilia ', 'Dafni', 'Petit Courbu', 'Kotsifali', 'Parraleta',\n",
       "       'Moscato di Noto', 'Roscetto', 'Torontel', 'Otskhanuri Sapere',\n",
       "       'Viognier-Valdiguié', 'Trollinger', 'Tsapournakos', 'Francisa',\n",
       "       'Kuntra', 'Pignolo', 'Caprettone', 'Ondenc', 'Athiri',\n",
       "       'Bobal-Cabernet Sauvignon'], dtype=object)"
      ]
     },
     "execution_count": 41,
     "metadata": {},
     "output_type": "execute_result"
    }
   ],
   "source": [
    "#Analysing the variety column and the unique value\n",
    "wine1_df['variety'].unique()\n"
   ]
  },
  {
   "cell_type": "code",
   "execution_count": 42,
   "id": "46fbf56e",
   "metadata": {},
   "outputs": [
    {
     "data": {
      "text/plain": [
       "\"This spent 20 months in 30% new French oak, and incorporates fruit from Ponzi's Aurora, Abetina and Madrona vineyards, among others. Aromatic, dense and toasty, it deftly blends aromas and flavors of toast, cigar box, blackberry, black cherry, coffee and graphite. Tannins are polished to a fine sheen, and frame a finish loaded with dark chocolate and espresso. Drink now through 2032.\""
      ]
     },
     "execution_count": 42,
     "metadata": {},
     "output_type": "execute_result"
    }
   ],
   "source": [
    "# Looking at the description of 1 specific wine\n",
    "index_of_record_to_view = 3\n",
    "des = wine2_df.loc[index_of_record_to_view, 'description']\n",
    "des\n"
   ]
  },
  {
   "cell_type": "code",
   "execution_count": 43,
   "id": "ff53ce28",
   "metadata": {},
   "outputs": [
    {
     "data": {
      "text/plain": [
       "((129971, 14), (150930, 11))"
      ]
     },
     "execution_count": 43,
     "metadata": {},
     "output_type": "execute_result"
    }
   ],
   "source": [
    "wine1_df.shape, wine2_df.shape\n"
   ]
  },
  {
   "cell_type": "markdown",
   "id": "54e95e0a",
   "metadata": {},
   "source": [
    "# Preprocessing the data "
   ]
  },
  {
   "cell_type": "markdown",
   "id": "df8a4f89",
   "metadata": {},
   "source": [
    "## Cleaning wine1_df and wine2_df dataset "
   ]
  },
  {
   "cell_type": "markdown",
   "id": "a3261685",
   "metadata": {},
   "source": [
    "### Removing Unuseful columns for the recommendation system"
   ]
  },
  {
   "cell_type": "code",
   "execution_count": 44,
   "id": "298a2828",
   "metadata": {},
   "outputs": [],
   "source": [
    "#Remove both columns taster name and taster twitter_handle as they are not relevant for our analysis\n",
    "wine_review1_df=wine1_df.drop(columns=[\"taster_twitter_handle\",\"taster_name\",\"Unnamed: 0\"])\n",
    "wine_review2_df=wine2_df.drop(columns=[\"Unnamed: 0\"])\n",
    "#wine_review2_df.head()\n"
   ]
  },
  {
   "cell_type": "code",
   "execution_count": 45,
   "id": "25f37794",
   "metadata": {
    "scrolled": true
   },
   "outputs": [
    {
     "name": "stdout",
     "output_type": "stream",
     "text": [
      "Missing data in year variable : 4609 - Decision taken: not adding this additional variable\n"
     ]
    }
   ],
   "source": [
    "#Extracting the year from the column title in wine1_df\n",
    "\n",
    "# Extract the year from title into a dedicated column using regular expression\n",
    "#regular instruction (\\d{4}) simply looks for four consecutive digits in the strings\n",
    "wine_review1_df['Year']=wine_review1_df['title'].str.extract(r'(\\d{4})')\n",
    "\n",
    "missing_year=wine_review1_df['Year'].isna().sum()\n",
    "print(f'Missing data in year variable : {missing_year} - Decision taken: not adding this additional variable')\n",
    "wine_review1_df.drop(columns='Year', inplace=True)\n"
   ]
  },
  {
   "cell_type": "markdown",
   "id": "1a8a0779",
   "metadata": {},
   "source": [
    "### Duplicates"
   ]
  },
  {
   "cell_type": "code",
   "execution_count": 46,
   "id": "2fd1af04",
   "metadata": {
    "scrolled": true
   },
   "outputs": [
    {
     "name": "stdout",
     "output_type": "stream",
     "text": [
      "9983\n",
      "53079\n",
      "Note - TODO: Check the duplicates 'title' after cleaning the missing data\n"
     ]
    }
   ],
   "source": [
    "#checking if there is any overall duplicates in both datasets\n",
    "print(wine_review1_df.duplicated().sum())\n",
    "print(wine_review2_df.duplicated().sum())\n",
    "print(\"Note - TODO: Check the duplicates 'title' after cleaning the missing data\")\n"
   ]
  },
  {
   "cell_type": "code",
   "execution_count": 47,
   "id": "fcbeab99",
   "metadata": {},
   "outputs": [],
   "source": [
    "### Checking at the duplicate\n",
    "duplicates=wine_review1_df[wine_review1_df.duplicated(subset=('title'))]\n",
    "duplicates_sorted = duplicates.sort_values(by=['title'])\n",
    "#duplicates_sorted\n",
    "#should not be considered as duplicates - cleaning the data first\n",
    "\n",
    "\n",
    "duplicates=wine_review2_df[wine_review2_df.duplicated(subset=('designation'))]\n",
    "duplicates_sorted = duplicates.sort_values(by=['designation'])\n",
    "#duplicates_sorted\n",
    "#need to clean the data to interpretate the duplicates\n"
   ]
  },
  {
   "cell_type": "markdown",
   "id": "d5f579cf",
   "metadata": {},
   "source": [
    "### Missing data "
   ]
  },
  {
   "cell_type": "code",
   "execution_count": 48,
   "id": "0cc1e62f",
   "metadata": {
    "collapsed": true,
    "jupyter": {
     "outputs_hidden": true
    }
   },
   "outputs": [
    {
     "data": {
      "text/plain": [
       "(country           63\n",
       " description        0\n",
       " designation    37465\n",
       " points             0\n",
       " price           8996\n",
       " province          63\n",
       " region_1       21247\n",
       " region_2       79460\n",
       " title              0\n",
       " variety            1\n",
       " winery             0\n",
       " dtype: int64,\n",
       " country            5\n",
       " description        0\n",
       " designation    45735\n",
       " points             0\n",
       " price          13695\n",
       " province           5\n",
       " region_1       25060\n",
       " region_2       89977\n",
       " variety            0\n",
       " winery             0\n",
       " dtype: int64)"
      ]
     },
     "execution_count": 48,
     "metadata": {},
     "output_type": "execute_result"
    }
   ],
   "source": [
    "#Overall missing data in wine_review1_df dataset\n",
    "wine_review1_df.isna().sum(),wine_review2_df.isna().sum()\n"
   ]
  },
  {
   "cell_type": "markdown",
   "id": "cb408cf1",
   "metadata": {},
   "source": [
    "#### Variety missing data cleaning : "
   ]
  },
  {
   "cell_type": "code",
   "execution_count": 49,
   "id": "0fdc5b7b",
   "metadata": {},
   "outputs": [],
   "source": [
    "#Variety missing data\n",
    "wine_review1_df[wine_review1_df['variety'].isna()]\n",
    "#Only one record is missing in wine_review1_df and most of the data for this wine is missing - Decided to remove the record\n",
    "wine_review1_df = wine_review1_df.dropna(subset=['variety'])\n",
    "\n",
    "#As title contains already the information of designation column - decision : drop designation\n",
    "#wine_review1_df=wine_review1_df.drop(columns=['designation'])\n",
    "\n",
    "#print('Decision taken: Dropped the only record wine with missing variety as the record had only missing data')\n",
    "#print('Decision taken: Dropped column designation as title contains already the information')\n"
   ]
  },
  {
   "cell_type": "markdown",
   "id": "7bb3acbe",
   "metadata": {},
   "source": [
    "#### Designation missing data cleaning"
   ]
  },
  {
   "cell_type": "code",
   "execution_count": 50,
   "id": "edbcac53",
   "metadata": {},
   "outputs": [
    {
     "name": "stdout",
     "output_type": "stream",
     "text": [
      "Designation missing in wine_review1_df:37464,in wine_review2_df:45735\n"
     ]
    }
   ],
   "source": [
    "m1=wine_review1_df['designation'].isna().sum()\n",
    "m2=wine_review2_df['designation'].isna().sum()\n",
    "print(f'Designation missing in wine_review1_df:{m1},in wine_review2_df:{m2}')\n"
   ]
  },
  {
   "cell_type": "markdown",
   "id": "1dc6b81e",
   "metadata": {},
   "source": [
    "##### Wine_review1_df"
   ]
  },
  {
   "cell_type": "code",
   "execution_count": 51,
   "id": "eb2bb3ee",
   "metadata": {},
   "outputs": [
    {
     "ename": "NameError",
     "evalue": "name 're' is not defined",
     "output_type": "error",
     "traceback": [
      "\u001b[0;31m---------------------------------------------------------------------------\u001b[0m",
      "\u001b[0;31mNameError\u001b[0m                                 Traceback (most recent call last)",
      "\u001b[1;32m/home/jackzhong12/code/sabrinaauger/wino/notebooks/Wine Reviews.ipynb Cell 31\u001b[0m line \u001b[0;36m9\n\u001b[1;32m      <a href='vscode-notebook-cell://wsl%2Bubuntu/home/jackzhong12/code/sabrinaauger/wino/notebooks/Wine%20Reviews.ipynb#Y101sdnNjb2RlLXJlbW90ZQ%3D%3D?line=5'>6</a>\u001b[0m     \u001b[39mreturn\u001b[39;00m re\u001b[39m.\u001b[39msub(pattern, \u001b[39m'\u001b[39m\u001b[39m'\u001b[39m, designation)\u001b[39m.\u001b[39mstrip()\n\u001b[1;32m      <a href='vscode-notebook-cell://wsl%2Bubuntu/home/jackzhong12/code/sabrinaauger/wino/notebooks/Wine%20Reviews.ipynb#Y101sdnNjb2RlLXJlbW90ZQ%3D%3D?line=7'>8</a>\u001b[0m \u001b[39m# Remove year from 'Designation' column\u001b[39;00m\n\u001b[0;32m----> <a href='vscode-notebook-cell://wsl%2Bubuntu/home/jackzhong12/code/sabrinaauger/wino/notebooks/Wine%20Reviews.ipynb#Y101sdnNjb2RlLXJlbW90ZQ%3D%3D?line=8'>9</a>\u001b[0m wine_review1_df[\u001b[39m'\u001b[39m\u001b[39mdesignation\u001b[39m\u001b[39m'\u001b[39m] \u001b[39m=\u001b[39m wine_review1_df[\u001b[39m'\u001b[39;49m\u001b[39mdesignation\u001b[39;49m\u001b[39m'\u001b[39;49m]\u001b[39m.\u001b[39;49mapply(remove_year)\n\u001b[1;32m     <a href='vscode-notebook-cell://wsl%2Bubuntu/home/jackzhong12/code/sabrinaauger/wino/notebooks/Wine%20Reviews.ipynb#Y101sdnNjb2RlLXJlbW90ZQ%3D%3D?line=10'>11</a>\u001b[0m \u001b[39m#Dealing with the parentheses values in designation\u001b[39;00m\n\u001b[1;32m     <a href='vscode-notebook-cell://wsl%2Bubuntu/home/jackzhong12/code/sabrinaauger/wino/notebooks/Wine%20Reviews.ipynb#Y101sdnNjb2RlLXJlbW90ZQ%3D%3D?line=11'>12</a>\u001b[0m \u001b[39mdef\u001b[39;00m \u001b[39mremove_parentheses_text\u001b[39m(designation):\n",
      "File \u001b[0;32m~/.pyenv/versions/lewagon/lib/python3.10/site-packages/pandas/core/series.py:4433\u001b[0m, in \u001b[0;36mSeries.apply\u001b[0;34m(self, func, convert_dtype, args, **kwargs)\u001b[0m\n\u001b[1;32m   4323\u001b[0m \u001b[39mdef\u001b[39;00m \u001b[39mapply\u001b[39m(\n\u001b[1;32m   4324\u001b[0m     \u001b[39mself\u001b[39m,\n\u001b[1;32m   4325\u001b[0m     func: AggFuncType,\n\u001b[0;32m   (...)\u001b[0m\n\u001b[1;32m   4328\u001b[0m     \u001b[39m*\u001b[39m\u001b[39m*\u001b[39mkwargs,\n\u001b[1;32m   4329\u001b[0m ) \u001b[39m-\u001b[39m\u001b[39m>\u001b[39m DataFrame \u001b[39m|\u001b[39m Series:\n\u001b[1;32m   4330\u001b[0m     \u001b[39m\"\"\"\u001b[39;00m\n\u001b[1;32m   4331\u001b[0m \u001b[39m    Invoke function on values of Series.\u001b[39;00m\n\u001b[1;32m   4332\u001b[0m \n\u001b[0;32m   (...)\u001b[0m\n\u001b[1;32m   4431\u001b[0m \u001b[39m    dtype: float64\u001b[39;00m\n\u001b[1;32m   4432\u001b[0m \u001b[39m    \"\"\"\u001b[39;00m\n\u001b[0;32m-> 4433\u001b[0m     \u001b[39mreturn\u001b[39;00m SeriesApply(\u001b[39mself\u001b[39;49m, func, convert_dtype, args, kwargs)\u001b[39m.\u001b[39;49mapply()\n",
      "File \u001b[0;32m~/.pyenv/versions/lewagon/lib/python3.10/site-packages/pandas/core/apply.py:1088\u001b[0m, in \u001b[0;36mSeriesApply.apply\u001b[0;34m(self)\u001b[0m\n\u001b[1;32m   1084\u001b[0m \u001b[39mif\u001b[39;00m \u001b[39misinstance\u001b[39m(\u001b[39mself\u001b[39m\u001b[39m.\u001b[39mf, \u001b[39mstr\u001b[39m):\n\u001b[1;32m   1085\u001b[0m     \u001b[39m# if we are a string, try to dispatch\u001b[39;00m\n\u001b[1;32m   1086\u001b[0m     \u001b[39mreturn\u001b[39;00m \u001b[39mself\u001b[39m\u001b[39m.\u001b[39mapply_str()\n\u001b[0;32m-> 1088\u001b[0m \u001b[39mreturn\u001b[39;00m \u001b[39mself\u001b[39;49m\u001b[39m.\u001b[39;49mapply_standard()\n",
      "File \u001b[0;32m~/.pyenv/versions/lewagon/lib/python3.10/site-packages/pandas/core/apply.py:1143\u001b[0m, in \u001b[0;36mSeriesApply.apply_standard\u001b[0;34m(self)\u001b[0m\n\u001b[1;32m   1137\u001b[0m         values \u001b[39m=\u001b[39m obj\u001b[39m.\u001b[39mastype(\u001b[39mobject\u001b[39m)\u001b[39m.\u001b[39m_values\n\u001b[1;32m   1138\u001b[0m         \u001b[39m# error: Argument 2 to \"map_infer\" has incompatible type\u001b[39;00m\n\u001b[1;32m   1139\u001b[0m         \u001b[39m# \"Union[Callable[..., Any], str, List[Union[Callable[..., Any], str]],\u001b[39;00m\n\u001b[1;32m   1140\u001b[0m         \u001b[39m# Dict[Hashable, Union[Union[Callable[..., Any], str],\u001b[39;00m\n\u001b[1;32m   1141\u001b[0m         \u001b[39m# List[Union[Callable[..., Any], str]]]]]\"; expected\u001b[39;00m\n\u001b[1;32m   1142\u001b[0m         \u001b[39m# \"Callable[[Any], Any]\"\u001b[39;00m\n\u001b[0;32m-> 1143\u001b[0m         mapped \u001b[39m=\u001b[39m lib\u001b[39m.\u001b[39;49mmap_infer(\n\u001b[1;32m   1144\u001b[0m             values,\n\u001b[1;32m   1145\u001b[0m             f,  \u001b[39m# type: ignore[arg-type]\u001b[39;49;00m\n\u001b[1;32m   1146\u001b[0m             convert\u001b[39m=\u001b[39;49m\u001b[39mself\u001b[39;49m\u001b[39m.\u001b[39;49mconvert_dtype,\n\u001b[1;32m   1147\u001b[0m         )\n\u001b[1;32m   1149\u001b[0m \u001b[39mif\u001b[39;00m \u001b[39mlen\u001b[39m(mapped) \u001b[39mand\u001b[39;00m \u001b[39misinstance\u001b[39m(mapped[\u001b[39m0\u001b[39m], ABCSeries):\n\u001b[1;32m   1150\u001b[0m     \u001b[39m# GH#43986 Need to do list(mapped) in order to get treated as nested\u001b[39;00m\n\u001b[1;32m   1151\u001b[0m     \u001b[39m#  See also GH#25959 regarding EA support\u001b[39;00m\n\u001b[1;32m   1152\u001b[0m     \u001b[39mreturn\u001b[39;00m obj\u001b[39m.\u001b[39m_constructor_expanddim(\u001b[39mlist\u001b[39m(mapped), index\u001b[39m=\u001b[39mobj\u001b[39m.\u001b[39mindex)\n",
      "File \u001b[0;32m~/.pyenv/versions/lewagon/lib/python3.10/site-packages/pandas/_libs/lib.pyx:2870\u001b[0m, in \u001b[0;36mpandas._libs.lib.map_infer\u001b[0;34m()\u001b[0m\n",
      "\u001b[1;32m/home/jackzhong12/code/sabrinaauger/wino/notebooks/Wine Reviews.ipynb Cell 31\u001b[0m line \u001b[0;36m6\n\u001b[1;32m      <a href='vscode-notebook-cell://wsl%2Bubuntu/home/jackzhong12/code/sabrinaauger/wino/notebooks/Wine%20Reviews.ipynb#Y101sdnNjb2RlLXJlbW90ZQ%3D%3D?line=3'>4</a>\u001b[0m \u001b[39mdef\u001b[39;00m \u001b[39mremove_year\u001b[39m(designation):\n\u001b[1;32m      <a href='vscode-notebook-cell://wsl%2Bubuntu/home/jackzhong12/code/sabrinaauger/wino/notebooks/Wine%20Reviews.ipynb#Y101sdnNjb2RlLXJlbW90ZQ%3D%3D?line=4'>5</a>\u001b[0m     pattern \u001b[39m=\u001b[39m \u001b[39mr\u001b[39m\u001b[39m'\u001b[39m\u001b[39m\\\u001b[39m\u001b[39mb\u001b[39m\u001b[39m\\\u001b[39m\u001b[39md\u001b[39m\u001b[39m{4}\u001b[39;00m\u001b[39m\\\u001b[39m\u001b[39mb\u001b[39m\u001b[39m'\u001b[39m  \u001b[39m# Regex pattern to match four-digit year\u001b[39;00m\n\u001b[0;32m----> <a href='vscode-notebook-cell://wsl%2Bubuntu/home/jackzhong12/code/sabrinaauger/wino/notebooks/Wine%20Reviews.ipynb#Y101sdnNjb2RlLXJlbW90ZQ%3D%3D?line=5'>6</a>\u001b[0m     \u001b[39mreturn\u001b[39;00m re\u001b[39m.\u001b[39msub(pattern, \u001b[39m'\u001b[39m\u001b[39m'\u001b[39m, designation)\u001b[39m.\u001b[39mstrip()\n",
      "\u001b[0;31mNameError\u001b[0m: name 're' is not defined"
     ]
    }
   ],
   "source": [
    "#Filling the missing designation using title variable\n",
    "\n",
    "wine_review1_df['designation'].fillna(wine_review1_df['title'], inplace=True)\n",
    "def remove_year(designation):\n",
    "    pattern = r'\\b\\d{4}\\b'  # Regex pattern to match four-digit year\n",
    "    return re.sub(pattern, '', designation).strip()\n",
    "\n",
    "# Remove year from 'Designation' column\n",
    "wine_review1_df['designation'] = wine_review1_df['designation'].apply(remove_year)\n",
    "\n",
    "#Dealing with the parentheses values in designation\n",
    "def remove_parentheses_text(designation):\n",
    "    pattern = r'\\s*\\([^)]*\\)'  # Regex pattern to match text within parentheses\n",
    "    return re.sub(pattern, '', designation).strip()\n",
    "\n",
    "# Remove text within parentheses from 'Designation' column\n",
    "wine_review1_df['designation'] = wine_review1_df['designation'].apply(remove_parentheses_text)\n"
   ]
  },
  {
   "cell_type": "markdown",
   "id": "586560a1",
   "metadata": {},
   "source": [
    "##### Wine_review2_df"
   ]
  },
  {
   "cell_type": "code",
   "execution_count": 52,
   "id": "e8fe9c74",
   "metadata": {},
   "outputs": [],
   "source": [
    "#As no title provide the designation of the wine the missing designation in wine_review2_df must be dropped\n",
    "wine_review2_df.dropna(subset='designation', inplace=True)\n"
   ]
  },
  {
   "cell_type": "code",
   "execution_count": 53,
   "id": "68134b59",
   "metadata": {},
   "outputs": [
    {
     "data": {
      "text/plain": [
       "country           63\n",
       "description        0\n",
       "designation        0\n",
       "points             0\n",
       "price           8996\n",
       "province          63\n",
       "region_1       21246\n",
       "region_2       79459\n",
       "title              0\n",
       "variety            0\n",
       "winery             0\n",
       "dtype: int64"
      ]
     },
     "execution_count": 53,
     "metadata": {},
     "output_type": "execute_result"
    }
   ],
   "source": [
    "wine_review1_df.isna().sum()\n"
   ]
  },
  {
   "cell_type": "markdown",
   "id": "1b4b0e95",
   "metadata": {},
   "source": [
    "#### Region missing data cleaning\n",
    "Analysing the region_1 and region_2 variables and missing data:"
   ]
  },
  {
   "cell_type": "markdown",
   "id": "904139f7",
   "metadata": {},
   "source": [
    "##### Wine_review1_df"
   ]
  },
  {
   "cell_type": "code",
   "execution_count": 54,
   "id": "330bc0a1",
   "metadata": {},
   "outputs": [
    {
     "data": {
      "text/html": [
       "<div>\n",
       "<style scoped>\n",
       "    .dataframe tbody tr th:only-of-type {\n",
       "        vertical-align: middle;\n",
       "    }\n",
       "\n",
       "    .dataframe tbody tr th {\n",
       "        vertical-align: top;\n",
       "    }\n",
       "\n",
       "    .dataframe thead th {\n",
       "        text-align: right;\n",
       "    }\n",
       "</style>\n",
       "<table border=\"1\" class=\"dataframe\">\n",
       "  <thead>\n",
       "    <tr style=\"text-align: right;\">\n",
       "      <th></th>\n",
       "      <th>country</th>\n",
       "      <th>description</th>\n",
       "      <th>designation</th>\n",
       "      <th>points</th>\n",
       "      <th>price</th>\n",
       "      <th>province</th>\n",
       "      <th>region_1</th>\n",
       "      <th>region_2</th>\n",
       "      <th>title</th>\n",
       "      <th>variety</th>\n",
       "      <th>winery</th>\n",
       "    </tr>\n",
       "  </thead>\n",
       "  <tbody>\n",
       "    <tr>\n",
       "      <th>0</th>\n",
       "      <td>Italy</td>\n",
       "      <td>Aromas include tropical fruit, broom, brimston...</td>\n",
       "      <td>Vulkà Bianco</td>\n",
       "      <td>87</td>\n",
       "      <td>NaN</td>\n",
       "      <td>Sicily &amp; Sardinia</td>\n",
       "      <td>Etna</td>\n",
       "      <td>NaN</td>\n",
       "      <td>Nicosia 2013 Vulkà Bianco  (Etna)</td>\n",
       "      <td>White Blend</td>\n",
       "      <td>Nicosia</td>\n",
       "    </tr>\n",
       "    <tr>\n",
       "      <th>1</th>\n",
       "      <td>Portugal</td>\n",
       "      <td>This is ripe and fruity, a wine that is smooth...</td>\n",
       "      <td>Avidagos</td>\n",
       "      <td>87</td>\n",
       "      <td>15.0</td>\n",
       "      <td>Douro</td>\n",
       "      <td>NaN</td>\n",
       "      <td>NaN</td>\n",
       "      <td>Quinta dos Avidagos 2011 Avidagos Red (Douro)</td>\n",
       "      <td>Portuguese Red</td>\n",
       "      <td>Quinta dos Avidagos</td>\n",
       "    </tr>\n",
       "    <tr>\n",
       "      <th>2</th>\n",
       "      <td>US</td>\n",
       "      <td>Tart and snappy, the flavors of lime flesh and...</td>\n",
       "      <td>Rainstorm 2013 Pinot Gris (Willamette Valley)</td>\n",
       "      <td>87</td>\n",
       "      <td>14.0</td>\n",
       "      <td>Oregon</td>\n",
       "      <td>Willamette Valley</td>\n",
       "      <td>Willamette Valley</td>\n",
       "      <td>Rainstorm 2013 Pinot Gris (Willamette Valley)</td>\n",
       "      <td>Pinot Gris</td>\n",
       "      <td>Rainstorm</td>\n",
       "    </tr>\n",
       "    <tr>\n",
       "      <th>3</th>\n",
       "      <td>US</td>\n",
       "      <td>Pineapple rind, lemon pith and orange blossom ...</td>\n",
       "      <td>Reserve Late Harvest</td>\n",
       "      <td>87</td>\n",
       "      <td>13.0</td>\n",
       "      <td>Michigan</td>\n",
       "      <td>Lake Michigan Shore</td>\n",
       "      <td>NaN</td>\n",
       "      <td>St. Julian 2013 Reserve Late Harvest Riesling ...</td>\n",
       "      <td>Riesling</td>\n",
       "      <td>St. Julian</td>\n",
       "    </tr>\n",
       "    <tr>\n",
       "      <th>4</th>\n",
       "      <td>US</td>\n",
       "      <td>Much like the regular bottling from 2012, this...</td>\n",
       "      <td>Vintner's Reserve Wild Child Block</td>\n",
       "      <td>87</td>\n",
       "      <td>65.0</td>\n",
       "      <td>Oregon</td>\n",
       "      <td>Willamette Valley</td>\n",
       "      <td>Willamette Valley</td>\n",
       "      <td>Sweet Cheeks 2012 Vintner's Reserve Wild Child...</td>\n",
       "      <td>Pinot Noir</td>\n",
       "      <td>Sweet Cheeks</td>\n",
       "    </tr>\n",
       "  </tbody>\n",
       "</table>\n",
       "</div>"
      ],
      "text/plain": [
       "    country                                        description  \\\n",
       "0     Italy  Aromas include tropical fruit, broom, brimston...   \n",
       "1  Portugal  This is ripe and fruity, a wine that is smooth...   \n",
       "2        US  Tart and snappy, the flavors of lime flesh and...   \n",
       "3        US  Pineapple rind, lemon pith and orange blossom ...   \n",
       "4        US  Much like the regular bottling from 2012, this...   \n",
       "\n",
       "                                     designation  points  price  \\\n",
       "0                                   Vulkà Bianco      87    NaN   \n",
       "1                                       Avidagos      87   15.0   \n",
       "2  Rainstorm 2013 Pinot Gris (Willamette Valley)      87   14.0   \n",
       "3                           Reserve Late Harvest      87   13.0   \n",
       "4             Vintner's Reserve Wild Child Block      87   65.0   \n",
       "\n",
       "            province             region_1           region_2  \\\n",
       "0  Sicily & Sardinia                 Etna                NaN   \n",
       "1              Douro                  NaN                NaN   \n",
       "2             Oregon    Willamette Valley  Willamette Valley   \n",
       "3           Michigan  Lake Michigan Shore                NaN   \n",
       "4             Oregon    Willamette Valley  Willamette Valley   \n",
       "\n",
       "                                               title         variety  \\\n",
       "0                  Nicosia 2013 Vulkà Bianco  (Etna)     White Blend   \n",
       "1      Quinta dos Avidagos 2011 Avidagos Red (Douro)  Portuguese Red   \n",
       "2      Rainstorm 2013 Pinot Gris (Willamette Valley)      Pinot Gris   \n",
       "3  St. Julian 2013 Reserve Late Harvest Riesling ...        Riesling   \n",
       "4  Sweet Cheeks 2012 Vintner's Reserve Wild Child...      Pinot Noir   \n",
       "\n",
       "                winery  \n",
       "0              Nicosia  \n",
       "1  Quinta dos Avidagos  \n",
       "2            Rainstorm  \n",
       "3           St. Julian  \n",
       "4         Sweet Cheeks  "
      ]
     },
     "execution_count": 54,
     "metadata": {},
     "output_type": "execute_result"
    }
   ],
   "source": [
    "wine_review1_df.head()\n"
   ]
  },
  {
   "cell_type": "code",
   "execution_count": 55,
   "id": "97b47316",
   "metadata": {
    "collapsed": true,
    "jupyter": {
     "outputs_hidden": true
    }
   },
   "outputs": [
    {
     "data": {
      "text/plain": [
       "21246"
      ]
     },
     "execution_count": 55,
     "metadata": {},
     "output_type": "execute_result"
    }
   ],
   "source": [
    "#Analysing the region_1 and region_2 variables\n",
    "#1st strategy: region_1 and region_2 Filling the missing data in region_1 with region_2 when applicable\n",
    "wine_review1_df['region_1'].fillna(wine_review1_df['region_2'], inplace=True)\n",
    "wine_review1_df['region_1'].isna().sum()\n"
   ]
  },
  {
   "cell_type": "code",
   "execution_count": 56,
   "id": "0a41dfec",
   "metadata": {},
   "outputs": [],
   "source": [
    "#Removing the region_2 column from the dataset\n",
    "wine_review1_df.drop(columns='region_2', inplace=True)\n"
   ]
  },
  {
   "cell_type": "code",
   "execution_count": 57,
   "id": "d01b06f7",
   "metadata": {},
   "outputs": [
    {
     "ename": "KeyError",
     "evalue": "\"['Unnamed: 0'] not found in axis\"",
     "output_type": "error",
     "traceback": [
      "\u001b[0;31m---------------------------------------------------------------------------\u001b[0m",
      "\u001b[0;31mKeyError\u001b[0m                                  Traceback (most recent call last)",
      "\u001b[1;32m/home/jackzhong12/code/sabrinaauger/wino/notebooks/Wine Reviews.ipynb Cell 40\u001b[0m line \u001b[0;36m2\n\u001b[1;32m      <a href='vscode-notebook-cell://wsl%2Bubuntu/home/jackzhong12/code/sabrinaauger/wino/notebooks/Wine%20Reviews.ipynb#Y113sdnNjb2RlLXJlbW90ZQ%3D%3D?line=0'>1</a>\u001b[0m \u001b[39m#Removing the Un-named created column\u001b[39;00m\n\u001b[0;32m----> <a href='vscode-notebook-cell://wsl%2Bubuntu/home/jackzhong12/code/sabrinaauger/wino/notebooks/Wine%20Reviews.ipynb#Y113sdnNjb2RlLXJlbW90ZQ%3D%3D?line=1'>2</a>\u001b[0m wine_review1_df\u001b[39m.\u001b[39;49mdrop(columns\u001b[39m=\u001b[39;49m\u001b[39m'\u001b[39;49m\u001b[39mUnnamed: 0\u001b[39;49m\u001b[39m'\u001b[39;49m, inplace\u001b[39m=\u001b[39;49m\u001b[39mTrue\u001b[39;49;00m)\n",
      "File \u001b[0;32m~/.pyenv/versions/lewagon/lib/python3.10/site-packages/pandas/util/_decorators.py:311\u001b[0m, in \u001b[0;36mdeprecate_nonkeyword_arguments.<locals>.decorate.<locals>.wrapper\u001b[0;34m(*args, **kwargs)\u001b[0m\n\u001b[1;32m    305\u001b[0m \u001b[39mif\u001b[39;00m \u001b[39mlen\u001b[39m(args) \u001b[39m>\u001b[39m num_allow_args:\n\u001b[1;32m    306\u001b[0m     warnings\u001b[39m.\u001b[39mwarn(\n\u001b[1;32m    307\u001b[0m         msg\u001b[39m.\u001b[39mformat(arguments\u001b[39m=\u001b[39marguments),\n\u001b[1;32m    308\u001b[0m         \u001b[39mFutureWarning\u001b[39;00m,\n\u001b[1;32m    309\u001b[0m         stacklevel\u001b[39m=\u001b[39mstacklevel,\n\u001b[1;32m    310\u001b[0m     )\n\u001b[0;32m--> 311\u001b[0m \u001b[39mreturn\u001b[39;00m func(\u001b[39m*\u001b[39;49margs, \u001b[39m*\u001b[39;49m\u001b[39m*\u001b[39;49mkwargs)\n",
      "File \u001b[0;32m~/.pyenv/versions/lewagon/lib/python3.10/site-packages/pandas/core/frame.py:4957\u001b[0m, in \u001b[0;36mDataFrame.drop\u001b[0;34m(self, labels, axis, index, columns, level, inplace, errors)\u001b[0m\n\u001b[1;32m   4809\u001b[0m \u001b[39m@deprecate_nonkeyword_arguments\u001b[39m(version\u001b[39m=\u001b[39m\u001b[39mNone\u001b[39;00m, allowed_args\u001b[39m=\u001b[39m[\u001b[39m\"\u001b[39m\u001b[39mself\u001b[39m\u001b[39m\"\u001b[39m, \u001b[39m\"\u001b[39m\u001b[39mlabels\u001b[39m\u001b[39m\"\u001b[39m])\n\u001b[1;32m   4810\u001b[0m \u001b[39mdef\u001b[39;00m \u001b[39mdrop\u001b[39m(\n\u001b[1;32m   4811\u001b[0m     \u001b[39mself\u001b[39m,\n\u001b[0;32m   (...)\u001b[0m\n\u001b[1;32m   4818\u001b[0m     errors: \u001b[39mstr\u001b[39m \u001b[39m=\u001b[39m \u001b[39m\"\u001b[39m\u001b[39mraise\u001b[39m\u001b[39m\"\u001b[39m,\n\u001b[1;32m   4819\u001b[0m ):\n\u001b[1;32m   4820\u001b[0m     \u001b[39m\"\"\"\u001b[39;00m\n\u001b[1;32m   4821\u001b[0m \u001b[39m    Drop specified labels from rows or columns.\u001b[39;00m\n\u001b[1;32m   4822\u001b[0m \n\u001b[0;32m   (...)\u001b[0m\n\u001b[1;32m   4955\u001b[0m \u001b[39m            weight  1.0     0.8\u001b[39;00m\n\u001b[1;32m   4956\u001b[0m \u001b[39m    \"\"\"\u001b[39;00m\n\u001b[0;32m-> 4957\u001b[0m     \u001b[39mreturn\u001b[39;00m \u001b[39msuper\u001b[39;49m()\u001b[39m.\u001b[39;49mdrop(\n\u001b[1;32m   4958\u001b[0m         labels\u001b[39m=\u001b[39;49mlabels,\n\u001b[1;32m   4959\u001b[0m         axis\u001b[39m=\u001b[39;49maxis,\n\u001b[1;32m   4960\u001b[0m         index\u001b[39m=\u001b[39;49mindex,\n\u001b[1;32m   4961\u001b[0m         columns\u001b[39m=\u001b[39;49mcolumns,\n\u001b[1;32m   4962\u001b[0m         level\u001b[39m=\u001b[39;49mlevel,\n\u001b[1;32m   4963\u001b[0m         inplace\u001b[39m=\u001b[39;49minplace,\n\u001b[1;32m   4964\u001b[0m         errors\u001b[39m=\u001b[39;49merrors,\n\u001b[1;32m   4965\u001b[0m     )\n",
      "File \u001b[0;32m~/.pyenv/versions/lewagon/lib/python3.10/site-packages/pandas/core/generic.py:4267\u001b[0m, in \u001b[0;36mNDFrame.drop\u001b[0;34m(self, labels, axis, index, columns, level, inplace, errors)\u001b[0m\n\u001b[1;32m   4265\u001b[0m \u001b[39mfor\u001b[39;00m axis, labels \u001b[39min\u001b[39;00m axes\u001b[39m.\u001b[39mitems():\n\u001b[1;32m   4266\u001b[0m     \u001b[39mif\u001b[39;00m labels \u001b[39mis\u001b[39;00m \u001b[39mnot\u001b[39;00m \u001b[39mNone\u001b[39;00m:\n\u001b[0;32m-> 4267\u001b[0m         obj \u001b[39m=\u001b[39m obj\u001b[39m.\u001b[39;49m_drop_axis(labels, axis, level\u001b[39m=\u001b[39;49mlevel, errors\u001b[39m=\u001b[39;49merrors)\n\u001b[1;32m   4269\u001b[0m \u001b[39mif\u001b[39;00m inplace:\n\u001b[1;32m   4270\u001b[0m     \u001b[39mself\u001b[39m\u001b[39m.\u001b[39m_update_inplace(obj)\n",
      "File \u001b[0;32m~/.pyenv/versions/lewagon/lib/python3.10/site-packages/pandas/core/generic.py:4311\u001b[0m, in \u001b[0;36mNDFrame._drop_axis\u001b[0;34m(self, labels, axis, level, errors, consolidate, only_slice)\u001b[0m\n\u001b[1;32m   4309\u001b[0m         new_axis \u001b[39m=\u001b[39m axis\u001b[39m.\u001b[39mdrop(labels, level\u001b[39m=\u001b[39mlevel, errors\u001b[39m=\u001b[39merrors)\n\u001b[1;32m   4310\u001b[0m     \u001b[39melse\u001b[39;00m:\n\u001b[0;32m-> 4311\u001b[0m         new_axis \u001b[39m=\u001b[39m axis\u001b[39m.\u001b[39;49mdrop(labels, errors\u001b[39m=\u001b[39;49merrors)\n\u001b[1;32m   4312\u001b[0m     indexer \u001b[39m=\u001b[39m axis\u001b[39m.\u001b[39mget_indexer(new_axis)\n\u001b[1;32m   4314\u001b[0m \u001b[39m# Case for non-unique axis\u001b[39;00m\n\u001b[1;32m   4315\u001b[0m \u001b[39melse\u001b[39;00m:\n",
      "File \u001b[0;32m~/.pyenv/versions/lewagon/lib/python3.10/site-packages/pandas/core/indexes/base.py:6661\u001b[0m, in \u001b[0;36mIndex.drop\u001b[0;34m(self, labels, errors)\u001b[0m\n\u001b[1;32m   6659\u001b[0m \u001b[39mif\u001b[39;00m mask\u001b[39m.\u001b[39many():\n\u001b[1;32m   6660\u001b[0m     \u001b[39mif\u001b[39;00m errors \u001b[39m!=\u001b[39m \u001b[39m\"\u001b[39m\u001b[39mignore\u001b[39m\u001b[39m\"\u001b[39m:\n\u001b[0;32m-> 6661\u001b[0m         \u001b[39mraise\u001b[39;00m \u001b[39mKeyError\u001b[39;00m(\u001b[39mf\u001b[39m\u001b[39m\"\u001b[39m\u001b[39m{\u001b[39;00m\u001b[39mlist\u001b[39m(labels[mask])\u001b[39m}\u001b[39;00m\u001b[39m not found in axis\u001b[39m\u001b[39m\"\u001b[39m)\n\u001b[1;32m   6662\u001b[0m     indexer \u001b[39m=\u001b[39m indexer[\u001b[39m~\u001b[39mmask]\n\u001b[1;32m   6663\u001b[0m \u001b[39mreturn\u001b[39;00m \u001b[39mself\u001b[39m\u001b[39m.\u001b[39mdelete(indexer)\n",
      "\u001b[0;31mKeyError\u001b[0m: \"['Unnamed: 0'] not found in axis\""
     ]
    }
   ],
   "source": [
    "#Removing the Un-named created column\n",
    "#wine_review1_df.drop(columns='Unnamed: 0', inplace=True)\n"
   ]
  },
  {
   "cell_type": "code",
   "execution_count": null,
   "id": "c3dfe36b",
   "metadata": {},
   "outputs": [
    {
     "data": {
      "text/plain": [
       "country           63\n",
       "description        0\n",
       "designation        0\n",
       "points             0\n",
       "price           8996\n",
       "province          63\n",
       "region_1       21246\n",
       "title              0\n",
       "variety            0\n",
       "winery             0\n",
       "dtype: int64"
      ]
     },
     "execution_count": 547,
     "metadata": {},
     "output_type": "execute_result"
    }
   ],
   "source": [
    "wine_review1_df.isna().sum()\n"
   ]
  },
  {
   "cell_type": "code",
   "execution_count": 58,
   "id": "cbf7d89d",
   "metadata": {},
   "outputs": [
    {
     "data": {
      "text/html": [
       "<div>\n",
       "<style scoped>\n",
       "    .dataframe tbody tr th:only-of-type {\n",
       "        vertical-align: middle;\n",
       "    }\n",
       "\n",
       "    .dataframe tbody tr th {\n",
       "        vertical-align: top;\n",
       "    }\n",
       "\n",
       "    .dataframe thead th {\n",
       "        text-align: right;\n",
       "    }\n",
       "</style>\n",
       "<table border=\"1\" class=\"dataframe\">\n",
       "  <thead>\n",
       "    <tr style=\"text-align: right;\">\n",
       "      <th></th>\n",
       "      <th>country</th>\n",
       "      <th>description</th>\n",
       "      <th>designation</th>\n",
       "      <th>points</th>\n",
       "      <th>price</th>\n",
       "      <th>province</th>\n",
       "      <th>region_1</th>\n",
       "      <th>title</th>\n",
       "      <th>variety</th>\n",
       "      <th>winery</th>\n",
       "    </tr>\n",
       "  </thead>\n",
       "  <tbody>\n",
       "    <tr>\n",
       "      <th>261</th>\n",
       "      <td>Argentina</td>\n",
       "      <td>A blend of 50% Malbec with Cabernet, Syrah and...</td>\n",
       "      <td>Estate Blend Gran Reserva</td>\n",
       "      <td>89</td>\n",
       "      <td>37.0</td>\n",
       "      <td>Mendoza Province</td>\n",
       "      <td>None</td>\n",
       "      <td>Algodon 2008 Estate Blend Gran Reserva Red</td>\n",
       "      <td>Red Blend</td>\n",
       "      <td>Algodon</td>\n",
       "    </tr>\n",
       "    <tr>\n",
       "      <th>594</th>\n",
       "      <td>France</td>\n",
       "      <td>This medium-bodied blend of 50% Grenache and 5...</td>\n",
       "      <td>La Decelle</td>\n",
       "      <td>89</td>\n",
       "      <td>20.0</td>\n",
       "      <td>Rhône Valley</td>\n",
       "      <td>None</td>\n",
       "      <td>Lavau 2015 La Decelle Red</td>\n",
       "      <td>Rhône-style Red Blend</td>\n",
       "      <td>Lavau</td>\n",
       "    </tr>\n",
       "    <tr>\n",
       "      <th>622</th>\n",
       "      <td>US</td>\n",
       "      <td>Mostly Syrah, with just a dash of Petite Sirah...</td>\n",
       "      <td>Sidewinder</td>\n",
       "      <td>87</td>\n",
       "      <td>25.0</td>\n",
       "      <td>Idaho</td>\n",
       "      <td>None</td>\n",
       "      <td>Coiled 2009 Sidewinder Red</td>\n",
       "      <td>Red Blend</td>\n",
       "      <td>Coiled</td>\n",
       "    </tr>\n",
       "    <tr>\n",
       "      <th>623</th>\n",
       "      <td>US</td>\n",
       "      <td>This unusual blend of 85% Syrah, 10% Petit Ver...</td>\n",
       "      <td>Black Mamba</td>\n",
       "      <td>87</td>\n",
       "      <td>28.0</td>\n",
       "      <td>Idaho</td>\n",
       "      <td>None</td>\n",
       "      <td>Coiled 2010 Black Mamba Red</td>\n",
       "      <td>Red Blend</td>\n",
       "      <td>Coiled</td>\n",
       "    </tr>\n",
       "    <tr>\n",
       "      <th>913</th>\n",
       "      <td>NaN</td>\n",
       "      <td>Amber in color, this wine has aromas of peach ...</td>\n",
       "      <td>Asureti Valley</td>\n",
       "      <td>87</td>\n",
       "      <td>30.0</td>\n",
       "      <td>NaN</td>\n",
       "      <td>None</td>\n",
       "      <td>Gotsa Family Wines 2014 Asureti Valley Chinuri</td>\n",
       "      <td>Chinuri</td>\n",
       "      <td>Gotsa Family Wines</td>\n",
       "    </tr>\n",
       "    <tr>\n",
       "      <th>...</th>\n",
       "      <td>...</td>\n",
       "      <td>...</td>\n",
       "      <td>...</td>\n",
       "      <td>...</td>\n",
       "      <td>...</td>\n",
       "      <td>...</td>\n",
       "      <td>...</td>\n",
       "      <td>...</td>\n",
       "      <td>...</td>\n",
       "      <td>...</td>\n",
       "    </tr>\n",
       "    <tr>\n",
       "      <th>129297</th>\n",
       "      <td>Spain</td>\n",
       "      <td>Jammy black-fruit aromas push up against raisi...</td>\n",
       "      <td>Payoya Negra</td>\n",
       "      <td>90</td>\n",
       "      <td>33.0</td>\n",
       "      <td>Andalucia</td>\n",
       "      <td>None</td>\n",
       "      <td>Finca la Melonera 2014 Payoya Negra Red</td>\n",
       "      <td>Red Blend</td>\n",
       "      <td>Finca la Melonera</td>\n",
       "    </tr>\n",
       "    <tr>\n",
       "      <th>129407</th>\n",
       "      <td>NaN</td>\n",
       "      <td>Dry spicy aromas of dusty plum and tomato add ...</td>\n",
       "      <td>Reserve</td>\n",
       "      <td>89</td>\n",
       "      <td>22.0</td>\n",
       "      <td>NaN</td>\n",
       "      <td>None</td>\n",
       "      <td>El Capricho 2015 Reserve Cabernet Sauvignon</td>\n",
       "      <td>Cabernet Sauvignon</td>\n",
       "      <td>El Capricho</td>\n",
       "    </tr>\n",
       "    <tr>\n",
       "      <th>129408</th>\n",
       "      <td>NaN</td>\n",
       "      <td>El Capricho is one of Uruguay's more consisten...</td>\n",
       "      <td>Reserve</td>\n",
       "      <td>89</td>\n",
       "      <td>22.0</td>\n",
       "      <td>NaN</td>\n",
       "      <td>None</td>\n",
       "      <td>El Capricho 2015 Reserve Tempranillo</td>\n",
       "      <td>Tempranillo</td>\n",
       "      <td>El Capricho</td>\n",
       "    </tr>\n",
       "    <tr>\n",
       "      <th>129590</th>\n",
       "      <td>NaN</td>\n",
       "      <td>A blend of 60% Syrah, 30% Cabernet Sauvignon a...</td>\n",
       "      <td>Shah</td>\n",
       "      <td>90</td>\n",
       "      <td>30.0</td>\n",
       "      <td>NaN</td>\n",
       "      <td>None</td>\n",
       "      <td>Büyülübağ 2012 Shah Red</td>\n",
       "      <td>Red Blend</td>\n",
       "      <td>Büyülübağ</td>\n",
       "    </tr>\n",
       "    <tr>\n",
       "      <th>129900</th>\n",
       "      <td>NaN</td>\n",
       "      <td>This wine offers a delightful bouquet of black...</td>\n",
       "      <td>Psagot 2014 Merlot</td>\n",
       "      <td>91</td>\n",
       "      <td>32.0</td>\n",
       "      <td>NaN</td>\n",
       "      <td>None</td>\n",
       "      <td>Psagot 2014 Merlot</td>\n",
       "      <td>Merlot</td>\n",
       "      <td>Psagot</td>\n",
       "    </tr>\n",
       "  </tbody>\n",
       "</table>\n",
       "<p>412 rows × 10 columns</p>\n",
       "</div>"
      ],
      "text/plain": [
       "          country                                        description  \\\n",
       "261     Argentina  A blend of 50% Malbec with Cabernet, Syrah and...   \n",
       "594        France  This medium-bodied blend of 50% Grenache and 5...   \n",
       "622            US  Mostly Syrah, with just a dash of Petite Sirah...   \n",
       "623            US  This unusual blend of 85% Syrah, 10% Petit Ver...   \n",
       "913           NaN  Amber in color, this wine has aromas of peach ...   \n",
       "...           ...                                                ...   \n",
       "129297      Spain  Jammy black-fruit aromas push up against raisi...   \n",
       "129407        NaN  Dry spicy aromas of dusty plum and tomato add ...   \n",
       "129408        NaN  El Capricho is one of Uruguay's more consisten...   \n",
       "129590        NaN  A blend of 60% Syrah, 30% Cabernet Sauvignon a...   \n",
       "129900        NaN  This wine offers a delightful bouquet of black...   \n",
       "\n",
       "                      designation  points  price          province region_1  \\\n",
       "261     Estate Blend Gran Reserva      89   37.0  Mendoza Province     None   \n",
       "594                    La Decelle      89   20.0      Rhône Valley     None   \n",
       "622                    Sidewinder      87   25.0             Idaho     None   \n",
       "623                   Black Mamba      87   28.0             Idaho     None   \n",
       "913                Asureti Valley      87   30.0               NaN     None   \n",
       "...                           ...     ...    ...               ...      ...   \n",
       "129297               Payoya Negra      90   33.0         Andalucia     None   \n",
       "129407                    Reserve      89   22.0               NaN     None   \n",
       "129408                    Reserve      89   22.0               NaN     None   \n",
       "129590                       Shah      90   30.0               NaN     None   \n",
       "129900         Psagot 2014 Merlot      91   32.0               NaN     None   \n",
       "\n",
       "                                                 title                variety  \\\n",
       "261         Algodon 2008 Estate Blend Gran Reserva Red              Red Blend   \n",
       "594                          Lavau 2015 La Decelle Red  Rhône-style Red Blend   \n",
       "622                         Coiled 2009 Sidewinder Red              Red Blend   \n",
       "623                        Coiled 2010 Black Mamba Red              Red Blend   \n",
       "913     Gotsa Family Wines 2014 Asureti Valley Chinuri                Chinuri   \n",
       "...                                                ...                    ...   \n",
       "129297         Finca la Melonera 2014 Payoya Negra Red              Red Blend   \n",
       "129407     El Capricho 2015 Reserve Cabernet Sauvignon     Cabernet Sauvignon   \n",
       "129408            El Capricho 2015 Reserve Tempranillo            Tempranillo   \n",
       "129590                         Büyülübağ 2012 Shah Red              Red Blend   \n",
       "129900                              Psagot 2014 Merlot                 Merlot   \n",
       "\n",
       "                    winery  \n",
       "261                Algodon  \n",
       "594                  Lavau  \n",
       "622                 Coiled  \n",
       "623                 Coiled  \n",
       "913     Gotsa Family Wines  \n",
       "...                    ...  \n",
       "129297   Finca la Melonera  \n",
       "129407         El Capricho  \n",
       "129408         El Capricho  \n",
       "129590           Büyülübağ  \n",
       "129900              Psagot  \n",
       "\n",
       "[412 rows x 10 columns]"
      ]
     },
     "execution_count": 58,
     "metadata": {},
     "output_type": "execute_result"
    }
   ],
   "source": [
    "#import re #import re module for regular expressions\n",
    "#filling the missing region with the region displayed in the title\n",
    "\n",
    "#Function to extract the content within parentheses from title column\n",
    "def extract(s):\n",
    "    if isinstance(s, str):\n",
    "        extracted = re.search(r'\\((.*?)\\)', s)\n",
    "        if extracted:\n",
    "            return extracted.group(1)\n",
    "    return None\n",
    "wine_review1_df['region_1'].fillna(wine_review1_df['title'].apply(extract), inplace=True)\n",
    "\n",
    "wine_review1_df[wine_review1_df['region_1'].isna()]\n",
    "\n",
    "#412 instances don't have a region displayed but have other useful data available\n"
   ]
  },
  {
   "cell_type": "markdown",
   "id": "5b4dfac7",
   "metadata": {},
   "source": [
    "- Filling the missing region_1 data when applicable using title"
   ]
  },
  {
   "cell_type": "code",
   "execution_count": 59,
   "id": "50544914",
   "metadata": {
    "scrolled": true
   },
   "outputs": [],
   "source": [
    "#checking the data that have both missing province and region\n",
    "check = wine_review1_df['region_1'].isnull() & wine_review1_df['province'].isnull()\n",
    "# Filter the DataFrame based on the condition\n",
    "rows_missing_region_province = wine_review1_df[check]\n",
    "#rows_missing_region_province\n",
    "\n",
    "wine_review1_df['region_1'].fillna(wine_review1_df['province'], inplace=True)\n"
   ]
  },
  {
   "cell_type": "code",
   "execution_count": 60,
   "id": "3775dd28",
   "metadata": {},
   "outputs": [
    {
     "data": {
      "text/plain": [
       "63"
      ]
     },
     "execution_count": 60,
     "metadata": {},
     "output_type": "execute_result"
    }
   ],
   "source": [
    "wine_review1_df['region_1'].isna().sum()\n"
   ]
  },
  {
   "cell_type": "code",
   "execution_count": 61,
   "id": "00bdf60a",
   "metadata": {},
   "outputs": [],
   "source": [
    "#wine_review1_df[wine_review1_df['region_1'].isna()]\n",
    "#dropping the 63 remaining instances that don't have country , province and region filled\n",
    "wine_review1_df.dropna(subset='region_1', inplace=True)\n"
   ]
  },
  {
   "cell_type": "markdown",
   "id": "c76ee500",
   "metadata": {},
   "source": [
    "##### Wine_review2_df"
   ]
  },
  {
   "cell_type": "code",
   "execution_count": null,
   "id": "4f1eb914",
   "metadata": {
    "heading_collapsed": true
   },
   "outputs": [
    {
     "data": {
      "text/plain": [
       "19581"
      ]
     },
     "execution_count": 572,
     "metadata": {},
     "output_type": "execute_result"
    }
   ],
   "source": [
    "#Analysing the region_1 and region_2 variables\n",
    "#1st strategy: region_1 and region_2 Filling the missing data in region_1 with region_2 when applicable\n",
    "wine_review2_df['region_1'].fillna(wine_review2_df['region_2'], inplace=True)\n",
    "wine_review2_df['region_1'].isna().sum()\n"
   ]
  },
  {
   "cell_type": "code",
   "execution_count": null,
   "id": "6f05036f",
   "metadata": {},
   "outputs": [],
   "source": [
    "#Removing the region_2 column from the dataset\n",
    "wine_review2_df.drop(columns='region_2', inplace=True)\n"
   ]
  },
  {
   "cell_type": "code",
   "execution_count": null,
   "id": "dfe44395",
   "metadata": {},
   "outputs": [],
   "source": [
    "\n",
    "wine_review2_df['region_1'].fillna(wine_review2_df['province'], inplace=True)\n",
    "wine_review2_df[wine_review2_df['region_1'].isna()]\n",
    "wine_review2_df.dropna(subset='region_1', inplace=True)\n"
   ]
  },
  {
   "cell_type": "markdown",
   "id": "9a0ea4af",
   "metadata": {},
   "source": [
    "### Missing province variable"
   ]
  },
  {
   "cell_type": "markdown",
   "id": "67fb296d",
   "metadata": {},
   "source": [
    "##### Wine_review1_df"
   ]
  },
  {
   "cell_type": "code",
   "execution_count": null,
   "id": "887e7507",
   "metadata": {},
   "outputs": [
    {
     "data": {
      "text/plain": [
       "129907"
      ]
     },
     "execution_count": 581,
     "metadata": {},
     "output_type": "execute_result"
    }
   ],
   "source": [
    "#Displaying the missing data\n",
    "wine_review1_df[wine_review1_df['province'].isna()]\n",
    "wine_review1_df.shape[0]\n"
   ]
  },
  {
   "cell_type": "code",
   "execution_count": null,
   "id": "d93b85a9",
   "metadata": {},
   "outputs": [],
   "source": [
    "#Trying to fill the missing province with the title information\n",
    "\n",
    "def extract_province_from_title(title):\n",
    "    pattern = r'\\((.*?)\\)'  # Regex pattern to match text within parentheses\n",
    "    match = re.search(pattern, title)\n",
    "    if match:\n",
    "        return match.group(1)\n",
    "    else:\n",
    "        return None\n",
    "\n",
    "# Extract province from 'Title' column\n",
    "wine_review1_df['extracted_Province'] = wine_review1_df['title'].apply(extract_province_from_title)\n",
    "\n",
    "# Fill missing 'Province' values with extracted province information\n",
    "wine_review1_df['province'].fillna(wine_review1_df['extracted_Province'], inplace=True)\n",
    "wine_review1_df.drop(columns=['extracted_Province'], inplace=True)\n"
   ]
  },
  {
   "cell_type": "code",
   "execution_count": null,
   "id": "51df4214",
   "metadata": {},
   "outputs": [
    {
     "data": {
      "text/plain": [
       "country           0\n",
       "description       0\n",
       "designation       0\n",
       "points            0\n",
       "price          8992\n",
       "province          0\n",
       "region_1          0\n",
       "title             0\n",
       "variety           0\n",
       "winery            0\n",
       "dtype: int64"
      ]
     },
     "execution_count": 583,
     "metadata": {},
     "output_type": "execute_result"
    }
   ],
   "source": [
    "wine_review1_df.isna().sum()\n"
   ]
  },
  {
   "cell_type": "markdown",
   "id": "c200781e",
   "metadata": {},
   "source": [
    "##### Wine_review2_df"
   ]
  },
  {
   "cell_type": "code",
   "execution_count": null,
   "id": "609d0927",
   "metadata": {},
   "outputs": [
    {
     "data": {
      "text/plain": [
       "country            0\n",
       "description        0\n",
       "designation        0\n",
       "points             0\n",
       "price          10271\n",
       "province           0\n",
       "region_1           0\n",
       "variety            0\n",
       "winery             0\n",
       "dtype: int64"
      ]
     },
     "execution_count": 584,
     "metadata": {},
     "output_type": "execute_result"
    }
   ],
   "source": [
    "wine_review2_df.isna().sum()\n"
   ]
  },
  {
   "cell_type": "markdown",
   "id": "a778bd43",
   "metadata": {},
   "source": [
    "### Missing price\n",
    "Decision taken : Missing price filled with mean price of wines with same variety"
   ]
  },
  {
   "cell_type": "markdown",
   "id": "012cf9c0",
   "metadata": {},
   "source": [
    "##### Wine_review1_df"
   ]
  },
  {
   "cell_type": "code",
   "execution_count": null,
   "id": "9c47f52f",
   "metadata": {},
   "outputs": [],
   "source": [
    "#Frequency of each unique variety\n",
    "wine_variety=pd.DataFrame(wine_review1_df['variety'].value_counts())\n",
    "\n",
    "#Calculating the mean price per variety\n",
    "mean_price_per_variety=pd.DataFrame(wine_review1_df.groupby('variety')['price'].mean())\n",
    "mean_price_per_variety\n",
    "\n",
    "#Replacing the missing price with mean price of same variety of wine when applicable\n",
    "\n",
    "wine_review1_df = pd.merge(wine_review1_df, mean_price_per_variety, on='variety', how='left',suffixes=('', '_mean'))\n",
    "wine_review1_df['price'] = wine_review1_df.apply(lambda row: row['price_mean'] if pd.isnull(row['price']) else row['price'], axis=1)\n"
   ]
  },
  {
   "cell_type": "code",
   "execution_count": null,
   "id": "07947c31",
   "metadata": {},
   "outputs": [],
   "source": [
    "wine_review1_df=wine_review1_df.drop(columns=['price_mean'])\n"
   ]
  },
  {
   "cell_type": "code",
   "execution_count": null,
   "id": "ac593a19",
   "metadata": {},
   "outputs": [],
   "source": [
    "wine_review1_df['price']=wine_review1_df['price'].round(2)\n",
    "#wine_review1_df\n"
   ]
  },
  {
   "cell_type": "code",
   "execution_count": null,
   "id": "72e0973b",
   "metadata": {},
   "outputs": [
    {
     "data": {
      "text/plain": [
       "country        0\n",
       "description    0\n",
       "designation    0\n",
       "points         0\n",
       "price          0\n",
       "province       0\n",
       "region_1       0\n",
       "title          0\n",
       "variety        0\n",
       "winery         0\n",
       "dtype: int64"
      ]
     },
     "execution_count": 591,
     "metadata": {},
     "output_type": "execute_result"
    }
   ],
   "source": [
    "wine_review1_df=wine_review1_df.dropna()\n",
    "wine_review1_df.isna().sum()\n"
   ]
  },
  {
   "cell_type": "markdown",
   "id": "76fb35a3",
   "metadata": {},
   "source": [
    "##### Wine_review2_df"
   ]
  },
  {
   "cell_type": "code",
   "execution_count": null,
   "id": "5db59342",
   "metadata": {},
   "outputs": [],
   "source": [
    "#Frequency of each unique variety\n",
    "wine_variety=pd.DataFrame(wine_review2_df['variety'].value_counts())\n",
    "\n",
    "#Calculating the mean price per variety\n",
    "mean_price_per_variety=pd.DataFrame(wine_review2_df.groupby('variety')['price'].mean())\n",
    "mean_price_per_variety\n",
    "\n",
    "#Replacing the missing price with mean price of same variety of wine when applicable\n",
    "\n",
    "wine_review2_df = pd.merge(wine_review1_df, mean_price_per_variety, on='variety', how='left',suffixes=('', '_mean'))\n",
    "wine_review2_df['price'] = wine_review1_df.apply(lambda row: row['price_mean'] if pd.isnull(row['price']) else row['price'], axis=1)\n"
   ]
  },
  {
   "cell_type": "code",
   "execution_count": null,
   "id": "83831229",
   "metadata": {},
   "outputs": [],
   "source": [
    "wine_review2_df=wine_review2_df.drop(columns=['price_mean'])\n"
   ]
  },
  {
   "cell_type": "code",
   "execution_count": null,
   "id": "81030e92",
   "metadata": {},
   "outputs": [],
   "source": [
    "wine_review2_df['price']=wine_review2_df['price'].round(2)\n",
    "#wine_review1_df\n"
   ]
  },
  {
   "cell_type": "code",
   "execution_count": 4,
   "id": "dccd735e",
   "metadata": {},
   "outputs": [
    {
     "ename": "NameError",
     "evalue": "name 'wine_review2_df' is not defined",
     "output_type": "error",
     "traceback": [
      "\u001b[0;31m---------------------------------------------------------------------------\u001b[0m",
      "\u001b[0;31mNameError\u001b[0m                                 Traceback (most recent call last)",
      "Cell \u001b[0;32mIn[4], line 1\u001b[0m\n\u001b[0;32m----> 1\u001b[0m wine_review2_df\u001b[38;5;241m=\u001b[39m\u001b[43mwine_review2_df\u001b[49m\u001b[38;5;241m.\u001b[39mdropna()\n\u001b[1;32m      2\u001b[0m wine_review2_df\u001b[38;5;241m.\u001b[39misna()\u001b[38;5;241m.\u001b[39msum()\n",
      "\u001b[0;31mNameError\u001b[0m: name 'wine_review2_df' is not defined"
     ]
    }
   ],
   "source": [
    "wine_review2_df=wine_review2_df.dropna()\n",
    "wine_review2_df.isna().sum()"
   ]
  },
  {
   "cell_type": "code",
   "execution_count": null,
   "id": "d64696cd-76ee-4e60-9b95-19bb0a28017a",
   "metadata": {},
   "outputs": [],
   "source": []
  }
 ],
 "metadata": {
  "kernelspec": {
   "display_name": "Python 3 (ipykernel)",
   "language": "python",
   "name": "python3"
  },
  "language_info": {
   "codemirror_mode": {
    "name": "ipython",
    "version": 3
   },
   "file_extension": ".py",
   "mimetype": "text/x-python",
   "name": "python",
   "nbconvert_exporter": "python",
   "pygments_lexer": "ipython3",
   "version": "3.10.6"
  },
  "toc": {
   "base_numbering": 1,
   "nav_menu": {},
   "number_sections": true,
   "sideBar": true,
   "skip_h1_title": false,
   "title_cell": "Table of Contents",
   "title_sidebar": "Contents",
   "toc_cell": false,
   "toc_position": {},
   "toc_section_display": true,
   "toc_window_display": false
  }
 },
 "nbformat": 4,
 "nbformat_minor": 5
}
