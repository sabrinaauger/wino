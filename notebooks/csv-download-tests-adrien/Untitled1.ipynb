{
 "cells": [
  {
   "cell_type": "markdown",
   "id": "ebcc4ccd-6c8e-4646-b8b7-4b4fb3b09ffd",
   "metadata": {},
   "source": [
    "data_Downloading with wget"
   ]
  },
  {
   "cell_type": "code",
   "execution_count": 3,
   "id": "e1004ac9-3fb2-49d6-a483-2e83293ce07d",
   "metadata": {},
   "outputs": [
    {
     "name": "stdout",
     "output_type": "stream",
     "text": [
      "--2023-11-21 19:45:37--  https://docs.google.com/uc?export=download&confirm=&id=drive_link\n",
      "Resolving docs.google.com (docs.google.com)... 172.217.13.110\n",
      "Connecting to docs.google.com (docs.google.com)|172.217.13.110|:443... connected.\n",
      "HTTP request sent, awaiting response... 404 Not Found\n",
      "2023-11-21 19:45:37 ERROR 404: Not Found.\n",
      "\n"
     ]
    }
   ],
   "source": [
    "!wget --load-cookies /tmp/cookies.txt \"https://docs.google.com/uc?export=download&confirm=$(wget --quiet --save-cookies /tmp/cookies.txt --keep-session-cookies --no-check-certificate 'https://docs.google.com/uc?export=download&id=drive_link' -O- | sed -rn 's/.*confirm=([0-9A-Za-z_]+).*/\\1\\n/p')&id=drive_link\" -O foo.csv && rm -rf /tmp/cookies.txt"
   ]
  },
  {
   "cell_type": "code",
   "execution_count": null,
   "id": "5a2e8dc5-392b-4999-a8c2-a46bd69af5c2",
   "metadata": {},
   "outputs": [],
   "source": []
  }
 ],
 "metadata": {
  "kernelspec": {
   "display_name": "Python 3 (ipykernel)",
   "language": "python",
   "name": "python3"
  },
  "language_info": {
   "codemirror_mode": {
    "name": "ipython",
    "version": 3
   },
   "file_extension": ".py",
   "mimetype": "text/x-python",
   "name": "python",
   "nbconvert_exporter": "python",
   "pygments_lexer": "ipython3",
   "version": "3.10.6"
  }
 },
 "nbformat": 4,
 "nbformat_minor": 5
}
