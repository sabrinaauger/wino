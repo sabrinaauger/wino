{
 "cells": [
  {
   "cell_type": "markdown",
   "id": "332aa438-55f8-4f3a-b616-e813ef7a9a73",
   "metadata": {},
   "source": [
    "# BUGGED! - Downloading a CSV dataset using gspread"
   ]
  },
  {
   "cell_type": "markdown",
   "id": "7a058dda-03a9-40e7-a74f-e1072247d129",
   "metadata": {},
   "source": [
    "## Installing required libraries"
   ]
  },
  {
   "cell_type": "code",
   "execution_count": 6,
   "id": "d2b6e066-4e31-4e10-ac53-44775f94addb",
   "metadata": {
    "scrolled": true
   },
   "outputs": [
    {
     "name": "stdout",
     "output_type": "stream",
     "text": [
      "Requirement already satisfied: oauth2client in /Users/ac/.pyenv/versions/3.10.6/envs/wino/lib/python3.10/site-packages (4.1.3)\n",
      "Requirement already satisfied: httplib2>=0.9.1 in /Users/ac/.pyenv/versions/3.10.6/envs/wino/lib/python3.10/site-packages (from oauth2client) (0.22.0)\n",
      "Requirement already satisfied: pyasn1>=0.1.7 in /Users/ac/.pyenv/versions/3.10.6/envs/wino/lib/python3.10/site-packages (from oauth2client) (0.5.0)\n",
      "Requirement already satisfied: pyasn1-modules>=0.0.5 in /Users/ac/.pyenv/versions/3.10.6/envs/wino/lib/python3.10/site-packages (from oauth2client) (0.3.0)\n",
      "Requirement already satisfied: rsa>=3.1.4 in /Users/ac/.pyenv/versions/3.10.6/envs/wino/lib/python3.10/site-packages (from oauth2client) (4.9)\n",
      "Requirement already satisfied: six>=1.6.1 in /Users/ac/.pyenv/versions/3.10.6/envs/wino/lib/python3.10/site-packages (from oauth2client) (1.16.0)\n",
      "Requirement already satisfied: pyparsing!=3.0.0,!=3.0.1,!=3.0.2,!=3.0.3,<4,>=2.4.2 in /Users/ac/.pyenv/versions/3.10.6/envs/wino/lib/python3.10/site-packages (from httplib2>=0.9.1->oauth2client) (3.1.1)\n"
     ]
    }
   ],
   "source": [
    "#!pip install oauth2client"
   ]
  },
  {
   "cell_type": "code",
   "execution_count": 9,
   "id": "fc5db0e4-3e06-4ebb-b001-1f0c1e7ed330",
   "metadata": {},
   "outputs": [],
   "source": [
    "import gspread\n",
    "from oauth2client.service_account import ServiceAccountCredentials\n",
    "import pandas as pd\n",
    "import os"
   ]
  },
  {
   "cell_type": "code",
   "execution_count": null,
   "id": "188f80ae-07c8-4be8-af96-67cd0b98e467",
   "metadata": {},
   "outputs": [],
   "source": [
    "# import csv\n",
    "# import gspread\n",
    "# from oauth2client.service_account import ServiceAccountCredentials\n",
    "\n",
    "# scope = ['https://spreadsheets.google.com/feeds']\n",
    "# credentials = ServiceAccountCredentials.from_json_keyfile_name('client_secret_893952966239-dlvcd2jmlhj2jenoe8dlm2gbst1710u9.apps.googleusercontent.com.json', scope)\n",
    "\n",
    "# docid = \"123\"\n",
    "\n",
    "# client = gspread.authorize(credentials)\n",
    "# spreadsheet = client.open_by_key(docid)\n",
    "# worksheetName = \"sheet2\"\n",
    "# worksheet = spreadsheet.worksheet(worksheetName)\n",
    "# filename = docid + '-worksheet' + worksheetName + '.csv'\n",
    "# with open(filename, 'wb') as f:\n",
    "#     writer = csv.writer(f)\n",
    "#     writer.writerows(worksheet.get_all_values())"
   ]
  },
  {
   "cell_type": "code",
   "execution_count": 16,
   "id": "b071aeb4-b78c-450f-b29b-8175d185c053",
   "metadata": {},
   "outputs": [
    {
     "ename": "ValueError",
     "evalue": "('Unexpected credentials type', None, 'Expected', 'service_account')",
     "output_type": "error",
     "traceback": [
      "\u001b[0;31m---------------------------------------------------------------------------\u001b[0m",
      "\u001b[0;31mValueError\u001b[0m                                Traceback (most recent call last)",
      "Cell \u001b[0;32mIn[16], line 12\u001b[0m\n\u001b[1;32m      1\u001b[0m \u001b[38;5;66;03m# Using the credentials json (mandatory\u001b[39;00m\n\u001b[1;32m      2\u001b[0m \u001b[38;5;66;03m#path_to_credentials = os.path.join(\"data\",\"credentials\") # \"data/credentials/\"\u001b[39;00m\n\u001b[1;32m      3\u001b[0m \n\u001b[0;32m   (...)\u001b[0m\n\u001b[1;32m      7\u001b[0m \u001b[38;5;66;03m# #credentials = ServiceAccountCredentials.from_json_keyfile_name(os.path.join(path_to_credentials,filename_of_credentials_json), ['https://spreadsheets.google.com/feeds'])\u001b[39;00m\n\u001b[1;32m      8\u001b[0m \u001b[38;5;66;03m# credentials = ServiceAccountCredentials.from_json_keyfile_name(\"client_secret_893952966239-dlvcd2jmlhj2jenoe8dlm2gbst1710u9.apps.googleusercontent.com.json\", ['https://spreadsheets.google.com/feeds'])\u001b[39;00m\n\u001b[1;32m     11\u001b[0m scope \u001b[38;5;241m=\u001b[39m [\u001b[38;5;124m'\u001b[39m\u001b[38;5;124mhttps://spreadsheets.google.com/feeds\u001b[39m\u001b[38;5;124m'\u001b[39m]\n\u001b[0;32m---> 12\u001b[0m credentials \u001b[38;5;241m=\u001b[39m \u001b[43mServiceAccountCredentials\u001b[49m\u001b[38;5;241;43m.\u001b[39;49m\u001b[43mfrom_json_keyfile_name\u001b[49m\u001b[43m(\u001b[49m\u001b[38;5;124;43m'\u001b[39;49m\u001b[38;5;124;43mclient_secret_893952966239-dlvcd2jmlhj2jenoe8dlm2gbst1710u9.apps.googleusercontent.com.json\u001b[39;49m\u001b[38;5;124;43m'\u001b[39;49m\u001b[43m,\u001b[49m\u001b[43m \u001b[49m\u001b[43mscope\u001b[49m\u001b[43m)\u001b[49m\n\u001b[1;32m     15\u001b[0m gc \u001b[38;5;241m=\u001b[39m gspread\u001b[38;5;241m.\u001b[39mauthorize(credentials)\n\u001b[1;32m     17\u001b[0m worksheet \u001b[38;5;241m=\u001b[39m gc\u001b[38;5;241m.\u001b[39mopen(\u001b[38;5;124m'\u001b[39m\u001b[38;5;124mwinemag-data_first150k\u001b[39m\u001b[38;5;124m'\u001b[39m)\u001b[38;5;241m.\u001b[39msheet1 \u001b[38;5;66;03m# no \".csv\"\u001b[39;00m\n",
      "File \u001b[0;32m~/.pyenv/versions/3.10.6/envs/wino/lib/python3.10/site-packages/oauth2client/service_account.py:221\u001b[0m, in \u001b[0;36mServiceAccountCredentials.from_json_keyfile_name\u001b[0;34m(cls, filename, scopes, token_uri, revoke_uri)\u001b[0m\n\u001b[1;32m    219\u001b[0m \u001b[38;5;28;01mwith\u001b[39;00m \u001b[38;5;28mopen\u001b[39m(filename, \u001b[38;5;124m'\u001b[39m\u001b[38;5;124mr\u001b[39m\u001b[38;5;124m'\u001b[39m) \u001b[38;5;28;01mas\u001b[39;00m file_obj:\n\u001b[1;32m    220\u001b[0m     client_credentials \u001b[38;5;241m=\u001b[39m json\u001b[38;5;241m.\u001b[39mload(file_obj)\n\u001b[0;32m--> 221\u001b[0m \u001b[38;5;28;01mreturn\u001b[39;00m \u001b[38;5;28;43mcls\u001b[39;49m\u001b[38;5;241;43m.\u001b[39;49m\u001b[43m_from_parsed_json_keyfile\u001b[49m\u001b[43m(\u001b[49m\u001b[43mclient_credentials\u001b[49m\u001b[43m,\u001b[49m\u001b[43m \u001b[49m\u001b[43mscopes\u001b[49m\u001b[43m,\u001b[49m\n\u001b[1;32m    222\u001b[0m \u001b[43m                                     \u001b[49m\u001b[43mtoken_uri\u001b[49m\u001b[38;5;241;43m=\u001b[39;49m\u001b[43mtoken_uri\u001b[49m\u001b[43m,\u001b[49m\n\u001b[1;32m    223\u001b[0m \u001b[43m                                     \u001b[49m\u001b[43mrevoke_uri\u001b[49m\u001b[38;5;241;43m=\u001b[39;49m\u001b[43mrevoke_uri\u001b[49m\u001b[43m)\u001b[49m\n",
      "File \u001b[0;32m~/.pyenv/versions/3.10.6/envs/wino/lib/python3.10/site-packages/oauth2client/service_account.py:171\u001b[0m, in \u001b[0;36mServiceAccountCredentials._from_parsed_json_keyfile\u001b[0;34m(cls, keyfile_dict, scopes, token_uri, revoke_uri)\u001b[0m\n\u001b[1;32m    169\u001b[0m creds_type \u001b[38;5;241m=\u001b[39m keyfile_dict\u001b[38;5;241m.\u001b[39mget(\u001b[38;5;124m'\u001b[39m\u001b[38;5;124mtype\u001b[39m\u001b[38;5;124m'\u001b[39m)\n\u001b[1;32m    170\u001b[0m \u001b[38;5;28;01mif\u001b[39;00m creds_type \u001b[38;5;241m!=\u001b[39m client\u001b[38;5;241m.\u001b[39mSERVICE_ACCOUNT:\n\u001b[0;32m--> 171\u001b[0m     \u001b[38;5;28;01mraise\u001b[39;00m \u001b[38;5;167;01mValueError\u001b[39;00m(\u001b[38;5;124m'\u001b[39m\u001b[38;5;124mUnexpected credentials type\u001b[39m\u001b[38;5;124m'\u001b[39m, creds_type,\n\u001b[1;32m    172\u001b[0m                      \u001b[38;5;124m'\u001b[39m\u001b[38;5;124mExpected\u001b[39m\u001b[38;5;124m'\u001b[39m, client\u001b[38;5;241m.\u001b[39mSERVICE_ACCOUNT)\n\u001b[1;32m    174\u001b[0m service_account_email \u001b[38;5;241m=\u001b[39m keyfile_dict[\u001b[38;5;124m'\u001b[39m\u001b[38;5;124mclient_email\u001b[39m\u001b[38;5;124m'\u001b[39m]\n\u001b[1;32m    175\u001b[0m private_key_pkcs8_pem \u001b[38;5;241m=\u001b[39m keyfile_dict[\u001b[38;5;124m'\u001b[39m\u001b[38;5;124mprivate_key\u001b[39m\u001b[38;5;124m'\u001b[39m]\n",
      "\u001b[0;31mValueError\u001b[0m: ('Unexpected credentials type', None, 'Expected', 'service_account')"
     ]
    }
   ],
   "source": [
    "# Using the credentials json (mandatory\n",
    "#path_to_credentials = os.path.join(\"data\",\"credentials\") # \"data/credentials/\"\n",
    "\n",
    "# filename_of_credentials_json = \"client_secret_893952966239-dlvcd2jmlhj2jenoe8dlm2gbst1710u9.apps.googleusercontent.com.json\" \n",
    "\n",
    "# path_to_credentials = \"\"\n",
    "# #credentials = ServiceAccountCredentials.from_json_keyfile_name(os.path.join(path_to_credentials,filename_of_credentials_json), ['https://spreadsheets.google.com/feeds'])\n",
    "# credentials = ServiceAccountCredentials.from_json_keyfile_name(\"client_secret_893952966239-dlvcd2jmlhj2jenoe8dlm2gbst1710u9.apps.googleusercontent.com.json\", ['https://spreadsheets.google.com/feeds'])\n",
    "\n",
    "\n",
    "scope = ['https://spreadsheets.google.com/feeds']\n",
    "credentials = ServiceAccountCredentials.from_json_keyfile_name('client_secret_893952966239-dlvcd2jmlhj2jenoe8dlm2gbst1710u9.apps.googleusercontent.com.json', scope)\n",
    "\n",
    "\n",
    "gc = gspread.authorize(credentials)\n",
    "\n",
    "worksheet = gc.open('winemag-data_first150k').sheet1 # no \".csv\"\n",
    "\n",
    "# Retrieving all the values\n",
    "values = worksheet.get_all_values()\n",
    "# Creating a dataframe\n",
    "df = pd.DataFrame(values[1:], columns=values[0])\n",
    "df.head()"
   ]
  },
  {
   "cell_type": "code",
   "execution_count": null,
   "id": "b45bf056-3433-46bb-a84a-d0227da0408d",
   "metadata": {},
   "outputs": [],
   "source": []
  }
 ],
 "metadata": {
  "kernelspec": {
   "display_name": "Python 3 (ipykernel)",
   "language": "python",
   "name": "python3"
  },
  "language_info": {
   "codemirror_mode": {
    "name": "ipython",
    "version": 3
   },
   "file_extension": ".py",
   "mimetype": "text/x-python",
   "name": "python",
   "nbconvert_exporter": "python",
   "pygments_lexer": "ipython3",
   "version": "3.10.6"
  }
 },
 "nbformat": 4,
 "nbformat_minor": 5
}
