{
 "cells": [
  {
   "cell_type": "markdown",
   "id": "a33546f4-f89f-45e1-bdb0-33ac59f8e05b",
   "metadata": {},
   "source": [
    "# Downloading of the Kaggle dataset locally (to do once only)"
   ]
  },
  {
   "cell_type": "markdown",
   "id": "eab595c4-c955-4838-96c9-090b6a23c3db",
   "metadata": {},
   "source": [
    "## v1 Downloading the Kaggle CSV Dataset locally"
   ]
  },
  {
   "cell_type": "markdown",
   "id": "8754e168-1a8f-414c-bd1a-bd9bd5289efe",
   "metadata": {},
   "source": [
    "(Before loading it from our own github repository without using any Kaggle key while having the same dataset everywhere on our computers)"
   ]
  },
  {
   "cell_type": "code",
   "execution_count": 14,
   "id": "795760f8-0e8d-4ad8-a735-f6368b7201e0",
   "metadata": {},
   "outputs": [
    {
     "name": "stdout",
     "output_type": "stream",
     "text": [
      "Requirement already satisfied: kaggle in /Users/ac/.pyenv/versions/3.10.6/envs/wino/lib/python3.10/site-packages (1.5.16)\n",
      "Requirement already satisfied: six>=1.10 in /Users/ac/.pyenv/versions/3.10.6/envs/wino/lib/python3.10/site-packages (from kaggle) (1.16.0)\n",
      "Requirement already satisfied: certifi in /Users/ac/.pyenv/versions/3.10.6/envs/wino/lib/python3.10/site-packages (from kaggle) (2023.7.22)\n",
      "Requirement already satisfied: python-dateutil in /Users/ac/.pyenv/versions/3.10.6/envs/wino/lib/python3.10/site-packages (from kaggle) (2.8.2)\n",
      "Requirement already satisfied: requests in /Users/ac/.pyenv/versions/3.10.6/envs/wino/lib/python3.10/site-packages (from kaggle) (2.31.0)\n",
      "Requirement already satisfied: tqdm in /Users/ac/.pyenv/versions/3.10.6/envs/wino/lib/python3.10/site-packages (from kaggle) (4.66.1)\n",
      "Requirement already satisfied: python-slugify in /Users/ac/.pyenv/versions/3.10.6/envs/wino/lib/python3.10/site-packages (from kaggle) (8.0.1)\n",
      "Requirement already satisfied: urllib3 in /Users/ac/.pyenv/versions/3.10.6/envs/wino/lib/python3.10/site-packages (from kaggle) (2.1.0)\n",
      "Requirement already satisfied: bleach in /Users/ac/.pyenv/versions/3.10.6/envs/wino/lib/python3.10/site-packages (from kaggle) (6.1.0)\n",
      "Requirement already satisfied: webencodings in /Users/ac/.pyenv/versions/3.10.6/envs/wino/lib/python3.10/site-packages (from bleach->kaggle) (0.5.1)\n",
      "Requirement already satisfied: text-unidecode>=1.3 in /Users/ac/.pyenv/versions/3.10.6/envs/wino/lib/python3.10/site-packages (from python-slugify->kaggle) (1.3)\n",
      "Requirement already satisfied: charset-normalizer<4,>=2 in /Users/ac/.pyenv/versions/3.10.6/envs/wino/lib/python3.10/site-packages (from requests->kaggle) (3.3.2)\n",
      "Requirement already satisfied: idna<4,>=2.5 in /Users/ac/.pyenv/versions/3.10.6/envs/wino/lib/python3.10/site-packages (from requests->kaggle) (3.4)\n"
     ]
    }
   ],
   "source": [
    "!pip install kaggle"
   ]
  },
  {
   "cell_type": "code",
   "execution_count": 24,
   "id": "2468973c-5e7c-4064-b06d-e0beae14afc0",
   "metadata": {},
   "outputs": [],
   "source": [
    "import os\n",
    "os.environ['KAGGLE_USERNAME'] = \"adcaspro\"\n",
    "os.environ['KAGGLE_KEY'] = \"085072435b3bd36487ae839d8c3d8624\"\n",
    "import kaggle"
   ]
  },
  {
   "cell_type": "markdown",
   "id": "1bbc8189-863e-4e8e-b822-defe1fae8a4c",
   "metadata": {},
   "source": [
    "### (Old way of doing it (download locally, then move back to another folder))"
   ]
  },
  {
   "cell_type": "code",
   "execution_count": 25,
   "id": "9bcc5ac1-24d8-4e8e-9bb9-4075552fb536",
   "metadata": {},
   "outputs": [],
   "source": [
    "# !kaggle datasets download -d zynicide/wine-reviews\n",
    "# !unzip wine-reviews.zip"
   ]
  },
  {
   "cell_type": "code",
   "execution_count": 26,
   "id": "4780a43c-af79-4613-9270-6f9ed361a8ab",
   "metadata": {},
   "outputs": [],
   "source": [
    "# !mkdir -p RAWdata/kaggle_original_dataset\n",
    "# !mv winemag-data-130k-v2.csv RAWdata/Kaggle_original_dataset\n",
    "# !mv winemag-data_first150k.csv RAWdata/Kaggle_original_dataset\n",
    "# !mv winemag-data-130k-v2.json RAWdata/Kaggle_original_dataset\n",
    "# !mv wine-reviews.zip RAWdata/Kaggle_original_dataset"
   ]
  },
  {
   "cell_type": "markdown",
   "id": "554b4f45-cc00-4047-802d-125cf6c3a2c4",
   "metadata": {},
   "source": [
    "### Better way by unzipping in the right folder from the beginning (rather than having to move files later on)"
   ]
  },
  {
   "cell_type": "code",
   "execution_count": 34,
   "id": "9660d11c-a23c-459f-bd72-43890fa6bbb6",
   "metadata": {},
   "outputs": [],
   "source": [
    "# Creating the right subfolder\n",
    "subfolder_where_raw_data_is_located = \"data/raw_data/kaggle_original_dataset/\"\n",
    "!mkdir -p data/raw_data/kaggle_original_dataset"
   ]
  },
  {
   "cell_type": "code",
   "execution_count": 35,
   "id": "351609f1-0fb0-4a7d-8c4c-a1f5111f7e62",
   "metadata": {},
   "outputs": [
    {
     "name": "stdout",
     "output_type": "stream",
     "text": [
      "Downloading wine-reviews.zip to data/raw_data/kaggle_original_dataset\n",
      "100%|██████████████████████████████████████| 50.9M/50.9M [00:09<00:00, 3.48MB/s]\n",
      "100%|██████████████████████████████████████| 50.9M/50.9M [00:09<00:00, 5.50MB/s]\n"
     ]
    }
   ],
   "source": [
    "# Doanloading the zip file in the right subfolder\n",
    "!kaggle datasets download -d zynicide/wine-reviews --path $subfolder_where_raw_data_is_located"
   ]
  },
  {
   "cell_type": "code",
   "execution_count": 37,
   "id": "86550c4a-f5e7-4ddb-9c5c-cee06049a479",
   "metadata": {},
   "outputs": [
    {
     "name": "stdout",
     "output_type": "stream",
     "text": [
      "Archive:  data/raw_data/kaggle_original_dataset//wine-reviews.zip\n",
      "  inflating: data/raw_data/kaggle_original_dataset/winemag-data-130k-v2.csv  \n",
      "  inflating: data/raw_data/kaggle_original_dataset/winemag-data-130k-v2.json  \n",
      "  inflating: data/raw_data/kaggle_original_dataset/winemag-data_first150k.csv  \n"
     ]
    }
   ],
   "source": [
    "# Unzipping the zip\n",
    "!unzip $subfolder_where_raw_data_is_located/wine-reviews.zip -d $subfolder_where_raw_data_is_located"
   ]
  },
  {
   "cell_type": "code",
   "execution_count": 39,
   "id": "b04152d7-1a66-4cd0-8fee-af7d427d8be3",
   "metadata": {},
   "outputs": [],
   "source": [
    "# Removing the .zip? (to clean it up)\n",
    "#!rm $subfolder_where_raw_data_is_located/wine-reviews.zip "
   ]
  },
  {
   "cell_type": "markdown",
   "id": "cb5fff24-a5d2-49eb-97da-66da6e5a5211",
   "metadata": {},
   "source": [
    "## Loading the Data in dataframes"
   ]
  },
  {
   "cell_type": "code",
   "execution_count": 40,
   "id": "18b40fbd-550e-43d3-8f48-6024475fd4ee",
   "metadata": {},
   "outputs": [],
   "source": [
    "import pandas as pd\n",
    "#subfolder_where_raw_data_is_located = \"data/raw_data/kaggle_original_dataset/\"\n",
    "wine_review1_df = pd.read_csv(os.path.join(subfolder_where_raw_data_is_located, \"winemag-data-130k-v2.csv\"))\n",
    "wine_review2_df = pd.read_csv(os.path.join(subfolder_where_raw_data_is_located, \"winemag-data_first150k.csv\"))"
   ]
  },
  {
   "cell_type": "code",
   "execution_count": 41,
   "id": "185ee8b3-b36a-451a-98e1-16591fb50808",
   "metadata": {},
   "outputs": [
    {
     "data": {
      "text/html": [
       "<div>\n",
       "<style scoped>\n",
       "    .dataframe tbody tr th:only-of-type {\n",
       "        vertical-align: middle;\n",
       "    }\n",
       "\n",
       "    .dataframe tbody tr th {\n",
       "        vertical-align: top;\n",
       "    }\n",
       "\n",
       "    .dataframe thead th {\n",
       "        text-align: right;\n",
       "    }\n",
       "</style>\n",
       "<table border=\"1\" class=\"dataframe\">\n",
       "  <thead>\n",
       "    <tr style=\"text-align: right;\">\n",
       "      <th></th>\n",
       "      <th>Unnamed: 0</th>\n",
       "      <th>country</th>\n",
       "      <th>description</th>\n",
       "      <th>designation</th>\n",
       "      <th>points</th>\n",
       "      <th>price</th>\n",
       "      <th>province</th>\n",
       "      <th>region_1</th>\n",
       "      <th>region_2</th>\n",
       "      <th>taster_name</th>\n",
       "      <th>taster_twitter_handle</th>\n",
       "      <th>title</th>\n",
       "      <th>variety</th>\n",
       "      <th>winery</th>\n",
       "    </tr>\n",
       "  </thead>\n",
       "  <tbody>\n",
       "    <tr>\n",
       "      <th>0</th>\n",
       "      <td>0</td>\n",
       "      <td>Italy</td>\n",
       "      <td>Aromas include tropical fruit, broom, brimston...</td>\n",
       "      <td>Vulkà Bianco</td>\n",
       "      <td>87</td>\n",
       "      <td>NaN</td>\n",
       "      <td>Sicily &amp; Sardinia</td>\n",
       "      <td>Etna</td>\n",
       "      <td>NaN</td>\n",
       "      <td>Kerin O’Keefe</td>\n",
       "      <td>@kerinokeefe</td>\n",
       "      <td>Nicosia 2013 Vulkà Bianco  (Etna)</td>\n",
       "      <td>White Blend</td>\n",
       "      <td>Nicosia</td>\n",
       "    </tr>\n",
       "    <tr>\n",
       "      <th>1</th>\n",
       "      <td>1</td>\n",
       "      <td>Portugal</td>\n",
       "      <td>This is ripe and fruity, a wine that is smooth...</td>\n",
       "      <td>Avidagos</td>\n",
       "      <td>87</td>\n",
       "      <td>15.0</td>\n",
       "      <td>Douro</td>\n",
       "      <td>NaN</td>\n",
       "      <td>NaN</td>\n",
       "      <td>Roger Voss</td>\n",
       "      <td>@vossroger</td>\n",
       "      <td>Quinta dos Avidagos 2011 Avidagos Red (Douro)</td>\n",
       "      <td>Portuguese Red</td>\n",
       "      <td>Quinta dos Avidagos</td>\n",
       "    </tr>\n",
       "    <tr>\n",
       "      <th>2</th>\n",
       "      <td>2</td>\n",
       "      <td>US</td>\n",
       "      <td>Tart and snappy, the flavors of lime flesh and...</td>\n",
       "      <td>NaN</td>\n",
       "      <td>87</td>\n",
       "      <td>14.0</td>\n",
       "      <td>Oregon</td>\n",
       "      <td>Willamette Valley</td>\n",
       "      <td>Willamette Valley</td>\n",
       "      <td>Paul Gregutt</td>\n",
       "      <td>@paulgwine</td>\n",
       "      <td>Rainstorm 2013 Pinot Gris (Willamette Valley)</td>\n",
       "      <td>Pinot Gris</td>\n",
       "      <td>Rainstorm</td>\n",
       "    </tr>\n",
       "    <tr>\n",
       "      <th>3</th>\n",
       "      <td>3</td>\n",
       "      <td>US</td>\n",
       "      <td>Pineapple rind, lemon pith and orange blossom ...</td>\n",
       "      <td>Reserve Late Harvest</td>\n",
       "      <td>87</td>\n",
       "      <td>13.0</td>\n",
       "      <td>Michigan</td>\n",
       "      <td>Lake Michigan Shore</td>\n",
       "      <td>NaN</td>\n",
       "      <td>Alexander Peartree</td>\n",
       "      <td>NaN</td>\n",
       "      <td>St. Julian 2013 Reserve Late Harvest Riesling ...</td>\n",
       "      <td>Riesling</td>\n",
       "      <td>St. Julian</td>\n",
       "    </tr>\n",
       "    <tr>\n",
       "      <th>4</th>\n",
       "      <td>4</td>\n",
       "      <td>US</td>\n",
       "      <td>Much like the regular bottling from 2012, this...</td>\n",
       "      <td>Vintner's Reserve Wild Child Block</td>\n",
       "      <td>87</td>\n",
       "      <td>65.0</td>\n",
       "      <td>Oregon</td>\n",
       "      <td>Willamette Valley</td>\n",
       "      <td>Willamette Valley</td>\n",
       "      <td>Paul Gregutt</td>\n",
       "      <td>@paulgwine</td>\n",
       "      <td>Sweet Cheeks 2012 Vintner's Reserve Wild Child...</td>\n",
       "      <td>Pinot Noir</td>\n",
       "      <td>Sweet Cheeks</td>\n",
       "    </tr>\n",
       "  </tbody>\n",
       "</table>\n",
       "</div>"
      ],
      "text/plain": [
       "   Unnamed: 0   country                                        description  \\\n",
       "0           0     Italy  Aromas include tropical fruit, broom, brimston...   \n",
       "1           1  Portugal  This is ripe and fruity, a wine that is smooth...   \n",
       "2           2        US  Tart and snappy, the flavors of lime flesh and...   \n",
       "3           3        US  Pineapple rind, lemon pith and orange blossom ...   \n",
       "4           4        US  Much like the regular bottling from 2012, this...   \n",
       "\n",
       "                          designation  points  price           province  \\\n",
       "0                        Vulkà Bianco      87    NaN  Sicily & Sardinia   \n",
       "1                            Avidagos      87   15.0              Douro   \n",
       "2                                 NaN      87   14.0             Oregon   \n",
       "3                Reserve Late Harvest      87   13.0           Michigan   \n",
       "4  Vintner's Reserve Wild Child Block      87   65.0             Oregon   \n",
       "\n",
       "              region_1           region_2         taster_name  \\\n",
       "0                 Etna                NaN       Kerin O’Keefe   \n",
       "1                  NaN                NaN          Roger Voss   \n",
       "2    Willamette Valley  Willamette Valley        Paul Gregutt   \n",
       "3  Lake Michigan Shore                NaN  Alexander Peartree   \n",
       "4    Willamette Valley  Willamette Valley        Paul Gregutt   \n",
       "\n",
       "  taster_twitter_handle                                              title  \\\n",
       "0          @kerinokeefe                  Nicosia 2013 Vulkà Bianco  (Etna)   \n",
       "1            @vossroger      Quinta dos Avidagos 2011 Avidagos Red (Douro)   \n",
       "2           @paulgwine       Rainstorm 2013 Pinot Gris (Willamette Valley)   \n",
       "3                   NaN  St. Julian 2013 Reserve Late Harvest Riesling ...   \n",
       "4           @paulgwine   Sweet Cheeks 2012 Vintner's Reserve Wild Child...   \n",
       "\n",
       "          variety               winery  \n",
       "0     White Blend              Nicosia  \n",
       "1  Portuguese Red  Quinta dos Avidagos  \n",
       "2      Pinot Gris            Rainstorm  \n",
       "3        Riesling           St. Julian  \n",
       "4      Pinot Noir         Sweet Cheeks  "
      ]
     },
     "execution_count": 41,
     "metadata": {},
     "output_type": "execute_result"
    }
   ],
   "source": [
    "wine_review1_df.head()"
   ]
  },
  {
   "cell_type": "code",
   "execution_count": null,
   "id": "db033a3f-42ed-4b2e-ac29-e4e455f564b1",
   "metadata": {},
   "outputs": [],
   "source": []
  }
 ],
 "metadata": {
  "kernelspec": {
   "display_name": "Python 3 (ipykernel)",
   "language": "python",
   "name": "python3"
  },
  "language_info": {
   "codemirror_mode": {
    "name": "ipython",
    "version": 3
   },
   "file_extension": ".py",
   "mimetype": "text/x-python",
   "name": "python",
   "nbconvert_exporter": "python",
   "pygments_lexer": "ipython3",
   "version": "3.10.6"
  }
 },
 "nbformat": 4,
 "nbformat_minor": 5
}
