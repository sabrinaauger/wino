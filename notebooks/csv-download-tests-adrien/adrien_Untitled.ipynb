{
 "cells": [
  {
   "cell_type": "markdown",
   "id": "557c9f31-9a06-46dd-a545-5ce673bad226",
   "metadata": {},
   "source": [
    "# Downloading a CSV using gdown"
   ]
  },
  {
   "cell_type": "code",
   "execution_count": 10,
   "id": "20c30a91-9908-4d39-bbe4-9a25c21c59fc",
   "metadata": {},
   "outputs": [
    {
     "name": "stdout",
     "output_type": "stream",
     "text": [
      "Requirement already satisfied: gdown in /Users/ac/.pyenv/versions/3.10.6/envs/wino/lib/python3.10/site-packages (4.7.1)\n",
      "Requirement already satisfied: filelock in /Users/ac/.pyenv/versions/3.10.6/envs/wino/lib/python3.10/site-packages (from gdown) (3.13.1)\n",
      "Requirement already satisfied: requests[socks] in /Users/ac/.pyenv/versions/3.10.6/envs/wino/lib/python3.10/site-packages (from gdown) (2.31.0)\n",
      "Requirement already satisfied: six in /Users/ac/.pyenv/versions/3.10.6/envs/wino/lib/python3.10/site-packages (from gdown) (1.16.0)\n",
      "Requirement already satisfied: tqdm in /Users/ac/.pyenv/versions/3.10.6/envs/wino/lib/python3.10/site-packages (from gdown) (4.66.1)\n",
      "Requirement already satisfied: beautifulsoup4 in /Users/ac/.pyenv/versions/3.10.6/envs/wino/lib/python3.10/site-packages (from gdown) (4.12.2)\n",
      "Requirement already satisfied: soupsieve>1.2 in /Users/ac/.pyenv/versions/3.10.6/envs/wino/lib/python3.10/site-packages (from beautifulsoup4->gdown) (2.5)\n",
      "Requirement already satisfied: charset-normalizer<4,>=2 in /Users/ac/.pyenv/versions/3.10.6/envs/wino/lib/python3.10/site-packages (from requests[socks]->gdown) (3.3.2)\n",
      "Requirement already satisfied: idna<4,>=2.5 in /Users/ac/.pyenv/versions/3.10.6/envs/wino/lib/python3.10/site-packages (from requests[socks]->gdown) (3.4)\n",
      "Requirement already satisfied: urllib3<3,>=1.21.1 in /Users/ac/.pyenv/versions/3.10.6/envs/wino/lib/python3.10/site-packages (from requests[socks]->gdown) (2.1.0)\n",
      "Requirement already satisfied: certifi>=2017.4.17 in /Users/ac/.pyenv/versions/3.10.6/envs/wino/lib/python3.10/site-packages (from requests[socks]->gdown) (2023.7.22)\n",
      "Requirement already satisfied: PySocks!=1.5.7,>=1.5.6 in /Users/ac/.pyenv/versions/3.10.6/envs/wino/lib/python3.10/site-packages (from requests[socks]->gdown) (1.7.1)\n",
      "Requirement already satisfied: pandas in /Users/ac/.pyenv/versions/3.10.6/envs/wino/lib/python3.10/site-packages (2.1.3)\n",
      "Requirement already satisfied: numpy<2,>=1.22.4 in /Users/ac/.pyenv/versions/3.10.6/envs/wino/lib/python3.10/site-packages (from pandas) (1.26.2)\n",
      "Requirement already satisfied: python-dateutil>=2.8.2 in /Users/ac/.pyenv/versions/3.10.6/envs/wino/lib/python3.10/site-packages (from pandas) (2.8.2)\n",
      "Requirement already satisfied: pytz>=2020.1 in /Users/ac/.pyenv/versions/3.10.6/envs/wino/lib/python3.10/site-packages (from pandas) (2023.3.post1)\n",
      "Requirement already satisfied: tzdata>=2022.1 in /Users/ac/.pyenv/versions/3.10.6/envs/wino/lib/python3.10/site-packages (from pandas) (2023.3)\n",
      "Requirement already satisfied: six>=1.5 in /Users/ac/.pyenv/versions/3.10.6/envs/wino/lib/python3.10/site-packages (from python-dateutil>=2.8.2->pandas) (1.16.0)\n"
     ]
    }
   ],
   "source": [
    "!pip install gdown\n",
    "!pip install pandas"
   ]
  },
  {
   "cell_type": "code",
   "execution_count": 11,
   "id": "b06cda77-716a-4e76-bb45-00b4f3bb197c",
   "metadata": {},
   "outputs": [],
   "source": [
    "import gdown\n",
    "import pandas as pd"
   ]
  },
  {
   "cell_type": "code",
   "execution_count": 12,
   "id": "3c37e54f-11ef-4802-8df1-54fdd4353893",
   "metadata": {},
   "outputs": [],
   "source": [
    "# Way to extract the file ID automatically from a google drive URL such as https://docs.google.com/spreadsheets/d/1W71kTu9b5J8ern7VFQ55ztVcj_OYh4LqPEcVY9p547g/edit?usp=drive_link\n",
    "\n",
    "def extract_file_id(gdrive_url):\n",
    "    # Finding the start and end index of the file ID in the URL\n",
    "    start_index = gdrive_url.find('/d/') + 3 # because 3 in the number of characters of the substring we look for in the main string (and we'll get the index of the first character of this substring!)\n",
    "    #print(start_index)\n",
    "    end_index = gdrive_url.find('/edit', start_index)\n",
    "    #print(end_index)\n",
    "\n",
    "    # Extract the file ID\n",
    "    file_id = gdrive_url[start_index:end_index]\n",
    "\n",
    "    return file_id"
   ]
  },
  {
   "cell_type": "code",
   "execution_count": 13,
   "id": "671b7056-e7c0-43c7-878a-18181a2d7de7",
   "metadata": {},
   "outputs": [],
   "source": [
    "#extract_file_id(\"https://docs.google.com/spreadsheets/d/1W71kTu9b5J8ern7VFQ55ztVcj_OYh4LqPEcVY9p547g/edit?usp=drive_link\")"
   ]
  },
  {
   "cell_type": "code",
   "execution_count": 20,
   "id": "693fa8b1-7650-4c8c-8884-c0d7bc34e854",
   "metadata": {},
   "outputs": [],
   "source": [
    "# Filling the publicly shareable file URL\n",
    "#file_url = \"https://docs.google.com/spreadsheets/d/1W71kTu9b5J8ern7VFQ55ztVcj_OYh4LqPEcVY9p547g/edit?usp=drive_link\"\n",
    "#file_url = \"https://docs.google.com/spreadsheets/d/1W71kTu9b5J8ern7VFQ55ztVcj_OYh4LqPEcVY9p547g/edit?usp=sharing\" \n",
    "\n",
    "#xlsx\n",
    "#file_url = \"https://docs.google.com/spreadsheets/d/1qBdPhRYDRyDxIqbgCackWZGbrfpFyLHpfBYcsgYK9Sg/edit?usp=sharing\" \n",
    "#csv\n",
    "file_url = \" https://docs.google.com/spreadsheets/d/14MiqEzjcEcIXA9gcdo2JHfIBi0QhtJWcyCtLQAFxPaI/edit?usp=sharing\" "
   ]
  },
  {
   "cell_type": "code",
   "execution_count": 21,
   "id": "db2e493f-5c97-4b22-a4e3-faeae97e736f",
   "metadata": {},
   "outputs": [
    {
     "data": {
      "text/plain": [
       "'14MiqEzjcEcIXA9gcdo2JHfIBi0QhtJWcyCtLQAFxPaI'"
      ]
     },
     "execution_count": 21,
     "metadata": {},
     "output_type": "execute_result"
    }
   ],
   "source": [
    "# Getting the ID\n",
    "file_id = extract_file_id(file_url)\n",
    "file_id"
   ]
  },
  {
   "cell_type": "code",
   "execution_count": 22,
   "id": "33f4b495-719c-426e-8cc5-972815c4722d",
   "metadata": {},
   "outputs": [],
   "source": [
    "#!brew install wget\n",
    "#!wget https://docs.google.com/spreadsheets/d/1qBdPhRYDRyDxIqbgCackWZGbrfpFyLHpfBYcsgYK9Sg/export?\n",
    "#!wget https://docs.google.com/uc?export=download&confirm=t&id=1qBdPhRYDRyDxIqbgCackWZGbrfpFyLHpfBYcsgYK9Sg"
   ]
  },
  {
   "cell_type": "code",
   "execution_count": 23,
   "id": "14c321df-89fb-470a-962e-f82ffc46acea",
   "metadata": {},
   "outputs": [
    {
     "name": "stderr",
     "output_type": "stream",
     "text": [
      "Downloading...\n",
      "From (uriginal): https://drive.google.com/u/1/uc?id=14MiqEzjcEcIXA9gcdo2JHfIBi0QhtJWcyCtLQAFxPaI&export=download\n",
      "From (redirected): https://docs.google.com/spreadsheets/d/14MiqEzjcEcIXA9gcdo2JHfIBi0QhtJWcyCtLQAFxPaI/export?format=xlsx\n",
      "To: /Users/ac/code/sabrinaauger/wino/notebooks/data.csv\n",
      "16.2MB [00:02, 7.55MB/s]\n"
     ]
    },
    {
     "data": {
      "text/plain": [
       "'data.csv'"
      ]
     },
     "execution_count": 23,
     "metadata": {},
     "output_type": "execute_result"
    }
   ],
   "source": [
    "# Getting to the same file thourhg another way via python\n",
    "#url = f'https://drive.google.com/uc?id={file_id}&export=download'\n",
    "url = f'https://drive.google.com/u/1/uc?id={file_id}&export=download'\n",
    "#url = https://docs.google.com/uc?export=download&confirm=t&id=1qBdPhRYDRyDxIqbgCackWZGbrfpFyLHpfBYcsgYK9Sg\n",
    "\n",
    "# Defining the destination file path\n",
    "output_path = 'data.csv'\n",
    "\n",
    "# Downloading the file from Google Drive\n",
    "gdown.download(url, output_path, quiet=False)"
   ]
  },
  {
   "cell_type": "code",
   "execution_count": 18,
   "id": "c0ce488a-4200-463e-9e71-4f1a05b3a43c",
   "metadata": {},
   "outputs": [
    {
     "ename": "NameError",
     "evalue": "name 'path_name' is not defined",
     "output_type": "error",
     "traceback": [
      "\u001b[0;31m---------------------------------------------------------------------------\u001b[0m",
      "\u001b[0;31mNameError\u001b[0m                                 Traceback (most recent call last)",
      "Cell \u001b[0;32mIn[18], line 8\u001b[0m\n\u001b[1;32m      1\u001b[0m \u001b[38;5;66;03m#df = pd.read_csv(output_path, on_bad_lines='skip')\u001b[39;00m\n\u001b[1;32m      2\u001b[0m \u001b[38;5;66;03m#, encoding='ISO-8859-1', delimiter='\\t')# encoding needed to handle unicode error => either encoding='ISO-8859-1'  or latin1\u001b[39;00m\n\u001b[1;32m      3\u001b[0m     \u001b[38;5;66;03m# debugging through https://stackoverflow.com/questions/18171739/unicodedecodeerror-when-reading-csv-file-in-pandas\u001b[39;00m\n\u001b[1;32m      4\u001b[0m     \u001b[38;5;66;03m# using https://datascientyst.com/solve-error-tokenizing-data-read_csv-pandas/\u001b[39;00m\n\u001b[1;32m      5\u001b[0m     \u001b[38;5;66;03m# debugging through https://stackoverflow.com/questions/55563399/how-to-solve-unicodedecodeerror-utf-8-codec-cant-decode-byte-0xff-in-positio\u001b[39;00m\n\u001b[1;32m      7\u001b[0m delimiter \u001b[38;5;241m=\u001b[39m \u001b[38;5;124m'\u001b[39m\u001b[38;5;124m,\u001b[39m\u001b[38;5;124m'\u001b[39m\n\u001b[0;32m----> 8\u001b[0m max_columns \u001b[38;5;241m=\u001b[39m \u001b[38;5;28mmax\u001b[39m(\u001b[38;5;28mopen\u001b[39m(\u001b[43mpath_name\u001b[49m, \u001b[38;5;124m'\u001b[39m\u001b[38;5;124mr\u001b[39m\u001b[38;5;124m'\u001b[39m), key \u001b[38;5;241m=\u001b[39m \u001b[38;5;28;01mlambda\u001b[39;00m x: x\u001b[38;5;241m.\u001b[39mcount(delimiter))\u001b[38;5;241m.\u001b[39mcount(delimiter)\n\u001b[1;32m      9\u001b[0m df \u001b[38;5;241m=\u001b[39m pd\u001b[38;5;241m.\u001b[39mread_csv(output_path, header \u001b[38;5;241m=\u001b[39m \u001b[38;5;28;01mNone\u001b[39;00m, skiprows \u001b[38;5;241m=\u001b[39m \u001b[38;5;241m1\u001b[39m, names \u001b[38;5;241m=\u001b[39m \u001b[38;5;28mlist\u001b[39m(\u001b[38;5;28mrange\u001b[39m(\u001b[38;5;241m0\u001b[39m,max_columns)))\n\u001b[1;32m     13\u001b[0m df\u001b[38;5;241m.\u001b[39mhead()\n",
      "\u001b[0;31mNameError\u001b[0m: name 'path_name' is not defined"
     ]
    }
   ],
   "source": [
    "\n",
    "#df = pd.read_csv(output_path, on_bad_lines='skip')\n",
    "#, encoding='ISO-8859-1', delimiter='\\t')# encoding needed to handle unicode error => either encoding='ISO-8859-1'  or latin1\n",
    "    # debugging through https://stackoverflow.com/questions/18171739/unicodedecodeerror-when-reading-csv-file-in-pandas\n",
    "    # using https://datascientyst.com/solve-error-tokenizing-data-read_csv-pandas/\n",
    "    # debugging through https://stackoverflow.com/questions/55563399/how-to-solve-unicodedecodeerror-utf-8-codec-cant-decode-byte-0xff-in-positio\n",
    "\n",
    "delimiter = ','\n",
    "max_columns = max(open(path_name, 'r'), key = lambda x: x.count(delimiter)).count(delimiter)\n",
    "df = pd.read_csv(output_path, header = None, skiprows = 1, names = list(range(0,max_columns)))\n",
    "\n",
    "\n",
    "\n",
    "df.head()"
   ]
  },
  {
   "cell_type": "code",
   "execution_count": null,
   "id": "0779177e-45ca-4151-aabe-1cb9aa8d3ad8",
   "metadata": {},
   "outputs": [],
   "source": []
  },
  {
   "cell_type": "code",
   "execution_count": null,
   "id": "5283070b-daa0-4a58-be45-fbfa33ed9db2",
   "metadata": {},
   "outputs": [],
   "source": []
  },
  {
   "cell_type": "code",
   "execution_count": null,
   "id": "5f6d9eea-1b29-40cc-b6ef-5cc431203899",
   "metadata": {},
   "outputs": [],
   "source": []
  },
  {
   "cell_type": "code",
   "execution_count": null,
   "id": "c9eb67b2-1f7d-46b6-b068-62fd9d73afb3",
   "metadata": {},
   "outputs": [],
   "source": []
  },
  {
   "cell_type": "code",
   "execution_count": null,
   "id": "d7e39007-deb3-40a0-bbb7-2acd09bc941f",
   "metadata": {},
   "outputs": [],
   "source": []
  },
  {
   "cell_type": "code",
   "execution_count": null,
   "id": "0b4719ff-121b-4629-a2df-fe9d7ff41af4",
   "metadata": {},
   "outputs": [],
   "source": [
    "# from https://stackoverflow.com/questions/48571456/python-unicodeencodeerror-encodeutf-8-with-gspread-in-print-fuction\n",
    "\n",
    "import sys\n",
    "import io\n",
    "\n",
    "sys.stdout = io.TextIOWrapper(sys.stdout.detach(), encoding = 'utf-8')\n",
    "sys.stderr = io.TextIOWrapper(sys.stderr.detach(), encoding = 'utf-8')"
   ]
  }
 ],
 "metadata": {
  "kernelspec": {
   "display_name": "Python 3 (ipykernel)",
   "language": "python",
   "name": "python3"
  },
  "language_info": {
   "codemirror_mode": {
    "name": "ipython",
    "version": 3
   },
   "file_extension": ".py",
   "mimetype": "text/x-python",
   "name": "python",
   "nbconvert_exporter": "python",
   "pygments_lexer": "ipython3",
   "version": "3.10.6"
  }
 },
 "nbformat": 4,
 "nbformat_minor": 5
}
