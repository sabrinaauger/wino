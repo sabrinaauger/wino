{
 "cells": [
  {
   "cell_type": "code",
   "execution_count": null,
   "metadata": {},
   "outputs": [],
   "source": [
    "# Verify which python environment we are running the notebook on\n",
    "# !pyenv version\n",
    "# !pip install pandas\n",
    "# !pip install numpy\n",
    "# !pip install matplotlib\n",
    "# !pip install seaborn\n",
    "# !pip install nltk\n",
    "#%pip install --upgrade pip\n"
   ]
  },
  {
   "cell_type": "code",
   "execution_count": null,
   "metadata": {},
   "outputs": [],
   "source": [
    "# Import packages\n",
    "import matplotlib.pyplot as plt\n",
    "import seaborn as sns\n",
    "import pandas as pd\n",
    "import json\n"
   ]
  },
  {
   "cell_type": "code",
   "execution_count": null,
   "metadata": {},
   "outputs": [],
   "source": [
    "# Retrieve the data from csv unzipped files into two dataframes\n",
    "#wine1_df=pd.read_csv(\"~/code/sabrinaauger/wino/raw_data/winemag-data-130k-v2.csv\")\n",
    "wine1_df=pd.read_csv(\"~/code/sabrinaauger/wino/data/raw_data/winemag-data-130k-v2.csv\")\n",
    "#wine2_df=pd.read_csv(\"~/code/sabrinaauger/wino/raw_data/winemag-data_first150k.csv\")\n",
    "wine2_df=pd.read_csv(\"~/code/sabrinaauger/wino/data/raw_data/winemag-data_first150k.csv\")\n"
   ]
  },
  {
   "cell_type": "code",
   "execution_count": null,
   "metadata": {},
   "outputs": [],
   "source": [
    "wine1_df.head()\n"
   ]
  },
  {
   "cell_type": "code",
   "execution_count": null,
   "metadata": {},
   "outputs": [],
   "source": [
    "# Importing\n",
    "import pandas as pd\n",
    "from gensim.models import Word2Vec\n",
    "from nltk.tokenize import word_tokenize\n",
    "\n",
    "wine1_df['description_tokenized'] = wine1_df['description'].apply(word_tokenize)\n",
    "wine1_df.head()\n"
   ]
  },
  {
   "cell_type": "code",
   "execution_count": null,
   "metadata": {},
   "outputs": [],
   "source": [
    "# Word2Vec from https://code.google.com/archive/p/word2vec/\n",
    "model = Word2Vec(sentences=wine1_df['description_tokenized'], vector_size=100, window=5, min_count=1, workers=4)\n"
   ]
  },
  {
   "cell_type": "code",
   "execution_count": null,
   "metadata": {},
   "outputs": [],
   "source": [
    "#\n",
    "def get_sentence_vector(sentence, model):\n",
    "    words_in_vocab = [word for word in sentence if word in model.wv.key_to_index]\n",
    "\n",
    "    # If no words are in the vocabulary, then it becomes 0\n",
    "    if not words_in_vocab:\n",
    "        return [0] * model.vector_size\n",
    "\n",
    "    # Calculate the mean vector for the whole sentence\n",
    "    vector = sum(model.wv[word] for word in words_in_vocab) / len(words_in_vocab)\n",
    "    return vector\n",
    "\n",
    "wine1_df['description_vectorized'] = wine1_df['description_tokenized'].apply(lambda x: get_sentence_vector(x, model))\n",
    "\n",
    "\n",
    "wine1_df.head()\n"
   ]
  },
  {
   "cell_type": "code",
   "execution_count": null,
   "metadata": {},
   "outputs": [],
   "source": [
    "wine1_df.head(2)\n"
   ]
  },
  {
   "cell_type": "code",
   "execution_count": null,
   "metadata": {},
   "outputs": [],
   "source": [
    "# Sorting which feature is what\n",
    "y = ['designation']\n",
    "categorical_features_list = ['country', 'province', 'region_1', 'region_2', 'variety', 'winery']\n",
    "text_features_list = ['taster_name', 'taster_twitter_handle', 'title']\n",
    "numerical_features_list = ['points', 'price']\n",
    "# country\tdescription\tdesignation\tpoints\tprice\tprovince\tregion_1\tregion_2\ttaster_name\ttaster_twitter_handle\ttitle\tvariety\twinery\n"
   ]
  },
  {
   "cell_type": "code",
   "execution_count": null,
   "metadata": {},
   "outputs": [],
   "source": [
    "\n",
    "# Vectorizing numeric features\n",
    "from sklearn.preprocessing import StandardScaler\n",
    "\n",
    "scaler = StandardScaler()\n",
    "numeric_scaled = scaler.fit_transform(wine1_df[numerical_features_list])\n",
    "wine1_df_scaled = pd.concat([wine1_df, pd.DataFrame(numeric_scaled, columns=['points_scaled', 'price_scaled'])], axis=1)\n",
    "#wine1_df_scaled.head()\n"
   ]
  },
  {
   "cell_type": "code",
   "execution_count": null,
   "metadata": {},
   "outputs": [],
   "source": [
    "# Vectorizing categorical features\n",
    "from sklearn.preprocessing import OneHotEncoder\n",
    "encoder = OneHotEncoder()\n",
    "\n",
    "category_encoded = encoder.fit_transform(wine1_df[categorical_features_list]).toarray()\n",
    "wine1_df_scaled = pd.concat([wine1_df, pd.DataFrame(category_encoded, columns=encoder.get_feature_names_out(categorical_features_list))], axis=1)\n",
    "wine1_df_scaled.head(2)\n"
   ]
  }
 ],
 "metadata": {
  "language_info": {
   "name": "python"
  }
 },
 "nbformat": 4,
 "nbformat_minor": 2
}
