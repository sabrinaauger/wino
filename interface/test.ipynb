{
 "cells": [
  {
   "cell_type": "code",
   "execution_count": null,
   "metadata": {},
   "outputs": [],
   "source": [
    "import pandas as pd\n",
    "\n",
    "dataset_path = '~/code/sabrinaauger/wino/data/clean_data/wine_reviews.csv'\n"
   ]
  },
  {
   "cell_type": "code",
   "execution_count": null,
   "metadata": {},
   "outputs": [],
   "source": [
    "data = pd.read_csv(dataset_path)\n",
    "\n",
    "data.head()\n"
   ]
  },
  {
   "cell_type": "code",
   "execution_count": null,
   "metadata": {},
   "outputs": [],
   "source": [
    "test = data[data['title']== \"Ixsir Grande Rserve SyrahCabernet Sauvignon Lebanon\"]\n",
    "test\n"
   ]
  },
  {
   "cell_type": "code",
   "execution_count": 1,
   "metadata": {},
   "outputs": [],
   "source": [
    "!python /home/jackzhong12/code/sabrinaauger/wino/interface/model.py"
   ]
  },
  {
   "cell_type": "code",
   "execution_count": null,
   "metadata": {},
   "outputs": [],
   "source": [
    "import pandas as pd\n",
    "from fuzzywuzzy import fuzz\n",
    "\n",
    "# Sample dataset (replace this with your actual dataset)\n",
    "\n",
    "\n",
    "df = pd.DataFrame(data)\n",
    "\n",
    "# Function to find and replace similar titles\n",
    "def correct_titles(df):\n",
    "    corrected_titles = {}\n",
    "\n",
    "    for i, row in df.iterrows():\n",
    "        current_title = row['title']\n",
    "\n",
    "        for index, comparison_row in df.iterrows():\n",
    "            comparison_title = comparison_row['title']\n",
    "\n",
    "            # Check if titles are similar using fuzzy matching\n",
    "            similarity_ratio = fuzz.ratio(current_title, comparison_title)\n",
    "            threshold = 90  # Adjust as needed\n",
    "\n",
    "            if similarity_ratio >= threshold and i != index:\n",
    "                # Store corrected title in a dictionary\n",
    "                corrected_titles[index] = current_title\n",
    "\n",
    "    # Update the dataframe with corrected titles\n",
    "    df['title'] = df.index.map(corrected_titles).fillna(df['title'])\n",
    "\n",
    "# Correct titles\n",
    "correct_titles(df)\n",
    "\n",
    "# Display the corrected dataframe\n",
    "print(df)\n"
   ]
  },
  {
   "cell_type": "code",
   "execution_count": null,
   "metadata": {},
   "outputs": [],
   "source": [
    "# to add to app.py\n",
    "\n",
    "def main():\n",
    "    st.title(\"Display Image from URL\")\n",
    "\n",
    "    # Displaying an image from a URL\n",
    "    image_url = \"https://example.com/image.jpg\"  # Replace with your image URL\n",
    "    st.image(image_url, caption='Image from URL', use_column_width=True)\n"
   ]
  }
 ],
 "metadata": {
  "kernelspec": {
   "display_name": "wino",
   "language": "python",
   "name": "python3"
  },
  "language_info": {
   "codemirror_mode": {
    "name": "ipython",
    "version": 3
   },
   "file_extension": ".py",
   "mimetype": "text/x-python",
   "name": "python",
   "nbconvert_exporter": "python",
   "pygments_lexer": "ipython3",
   "version": "3.10.6"
  }
 },
 "nbformat": 4,
 "nbformat_minor": 2
}
